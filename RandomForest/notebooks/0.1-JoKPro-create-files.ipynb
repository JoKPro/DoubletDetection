{
 "cells": [
  {
   "cell_type": "code",
   "execution_count": 44,
   "metadata": {
    "collapsed": true,
    "pycharm": {
     "name": "#%%\n"
    }
   },
   "outputs": [],
   "source": [
    "import tensorflow_decision_forests as tfdf\n",
    "import src.data.utils\n",
    "import os\n",
    "import sys\n",
    "import numpy as np\n",
    "import datatable as dt\n",
    "from datatable import f\n",
    "import pandas as pd\n",
    "import tensorflow as tf\n",
    "import math\n",
    "import random\n",
    "import scanpy as sc\n",
    "from scipy import sparse"
   ]
  },
  {
   "cell_type": "markdown",
   "source": [
    "# Generate the dataset"
   ],
   "metadata": {
    "collapsed": false,
    "pycharm": {
     "name": "#%% md\n"
    }
   }
  },
  {
   "cell_type": "code",
   "execution_count": 2,
   "outputs": [],
   "source": [
    "anno = dt.fread(\"../data/raw/Doubletannotation.csv\")\n",
    "# expr = dt.fread(\"../data/raw/pbmc_expr_t.csv\")\n",
    "expr = dt.fread(\"../data/processed/pbmc_expr_t_filtered_12000_30000.csv\")\n",
    "# expr_reduced = pd.read_csv(\"../data/processed/pbmc_expr_reduced.csv\", index_col=0)\n",
    "# expr_reduced.drop(\"C0\", axis=1, inplace=True)"
   ],
   "metadata": {
    "collapsed": false,
    "pycharm": {
     "name": "#%%\n"
    }
   }
  },
  {
   "cell_type": "code",
   "execution_count": 4,
   "outputs": [
    {
     "ename": "ValueError",
     "evalue": "'../data/raw/pbmc_100hvg.h5ad' contains more than one genome. For legacy 10x h5 files you must specify the genome if more than one is present. Available genomes are: ['X', 'layers', 'obs', 'obsm', 'obsp', 'uns', 'var', 'varm', 'varp']",
     "output_type": "error",
     "traceback": [
      "\u001B[0;31m---------------------------------------------------------------------------\u001B[0m",
      "\u001B[0;31mValueError\u001B[0m                                Traceback (most recent call last)",
      "Input \u001B[0;32mIn [4]\u001B[0m, in \u001B[0;36m<cell line: 1>\u001B[0;34m()\u001B[0m\n\u001B[0;32m----> 1\u001B[0m full \u001B[38;5;241m=\u001B[39m \u001B[43mscanpy\u001B[49m\u001B[38;5;241;43m.\u001B[39;49m\u001B[43mread_10x_h5\u001B[49m\u001B[43m(\u001B[49m\u001B[38;5;124;43m\"\u001B[39;49m\u001B[38;5;124;43m../data/raw/pbmc_100hvg.h5ad\u001B[39;49m\u001B[38;5;124;43m\"\u001B[39;49m\u001B[43m)\u001B[49m\n",
      "File \u001B[0;32m~/Uni/courses/MLRegGenomics/doubletdetection/venv/lib/python3.8/site-packages/scanpy/readwrite.py:196\u001B[0m, in \u001B[0;36mread_10x_h5\u001B[0;34m(filename, genome, gex_only, backup_url)\u001B[0m\n\u001B[1;32m    194\u001B[0m         adata \u001B[38;5;241m=\u001B[39m adata\u001B[38;5;241m.\u001B[39mcopy()\n\u001B[1;32m    195\u001B[0m \u001B[38;5;28;01melse\u001B[39;00m:\n\u001B[0;32m--> 196\u001B[0m     adata \u001B[38;5;241m=\u001B[39m \u001B[43m_read_legacy_10x_h5\u001B[49m\u001B[43m(\u001B[49m\u001B[43mfilename\u001B[49m\u001B[43m,\u001B[49m\u001B[43m \u001B[49m\u001B[43mgenome\u001B[49m\u001B[38;5;241;43m=\u001B[39;49m\u001B[43mgenome\u001B[49m\u001B[43m,\u001B[49m\u001B[43m \u001B[49m\u001B[43mstart\u001B[49m\u001B[38;5;241;43m=\u001B[39;49m\u001B[43mstart\u001B[49m\u001B[43m)\u001B[49m\n\u001B[1;32m    197\u001B[0m \u001B[38;5;28;01mreturn\u001B[39;00m adata\n",
      "File \u001B[0;32m~/Uni/courses/MLRegGenomics/doubletdetection/venv/lib/python3.8/site-packages/scanpy/readwrite.py:209\u001B[0m, in \u001B[0;36m_read_legacy_10x_h5\u001B[0;34m(filename, genome, start)\u001B[0m\n\u001B[1;32m    207\u001B[0m \u001B[38;5;28;01mif\u001B[39;00m \u001B[38;5;129;01mnot\u001B[39;00m genome:\n\u001B[1;32m    208\u001B[0m     \u001B[38;5;28;01mif\u001B[39;00m \u001B[38;5;28mlen\u001B[39m(children) \u001B[38;5;241m>\u001B[39m \u001B[38;5;241m1\u001B[39m:\n\u001B[0;32m--> 209\u001B[0m         \u001B[38;5;28;01mraise\u001B[39;00m \u001B[38;5;167;01mValueError\u001B[39;00m(\n\u001B[1;32m    210\u001B[0m             \u001B[38;5;124mf\u001B[39m\u001B[38;5;124m\"\u001B[39m\u001B[38;5;124m'\u001B[39m\u001B[38;5;132;01m{\u001B[39;00mfilename\u001B[38;5;132;01m}\u001B[39;00m\u001B[38;5;124m'\u001B[39m\u001B[38;5;124m contains more than one genome. For legacy 10x h5 \u001B[39m\u001B[38;5;124m\"\u001B[39m\n\u001B[1;32m    211\u001B[0m             \u001B[38;5;124m\"\u001B[39m\u001B[38;5;124mfiles you must specify the genome if more than one is present. \u001B[39m\u001B[38;5;124m\"\u001B[39m\n\u001B[1;32m    212\u001B[0m             \u001B[38;5;124mf\u001B[39m\u001B[38;5;124m\"\u001B[39m\u001B[38;5;124mAvailable genomes are: \u001B[39m\u001B[38;5;132;01m{\u001B[39;00mchildren\u001B[38;5;132;01m}\u001B[39;00m\u001B[38;5;124m\"\u001B[39m\n\u001B[1;32m    213\u001B[0m         )\n\u001B[1;32m    214\u001B[0m     genome \u001B[38;5;241m=\u001B[39m children[\u001B[38;5;241m0\u001B[39m]\n\u001B[1;32m    215\u001B[0m \u001B[38;5;28;01melif\u001B[39;00m genome \u001B[38;5;129;01mnot\u001B[39;00m \u001B[38;5;129;01min\u001B[39;00m children:\n",
      "\u001B[0;31mValueError\u001B[0m: '../data/raw/pbmc_100hvg.h5ad' contains more than one genome. For legacy 10x h5 files you must specify the genome if more than one is present. Available genomes are: ['X', 'layers', 'obs', 'obsm', 'obsp', 'uns', 'var', 'varm', 'varp']"
     ]
    }
   ],
   "source": [
    "full = sc.read_10x_h5(\"../data/raw/pbmc_100hvg.h5ad\")"
   ],
   "metadata": {
    "collapsed": false,
    "pycharm": {
     "name": "#%%\n"
    }
   }
  },
  {
   "cell_type": "code",
   "execution_count": 46,
   "outputs": [],
   "source": [
    "X = pd.DataFrame.sparse.from_spmatrix(full.X)"
   ],
   "metadata": {
    "collapsed": false,
    "pycharm": {
     "name": "#%%\n"
    }
   }
  },
  {
   "cell_type": "code",
   "execution_count": 52,
   "outputs": [],
   "source": [
    "X.index = full.obs_names"
   ],
   "metadata": {
    "collapsed": false,
    "pycharm": {
     "name": "#%%\n"
    }
   }
  },
  {
   "cell_type": "code",
   "execution_count": 55,
   "outputs": [],
   "source": [
    "X.columns = full.var_names"
   ],
   "metadata": {
    "collapsed": false,
    "pycharm": {
     "name": "#%%\n"
    }
   }
  },
  {
   "cell_type": "code",
   "execution_count": 56,
   "outputs": [
    {
     "data": {
      "text/plain": "                    TGFBR3  FCRL1  FCGR3A   RALGPS2  AL136456.1  RHEX  \\\nAAACAGCCAAAGCCTC-1     0.0    0.0     0.0  0.000000         0.0   0.0   \nAAACAGCCAGAATGAC-1     0.0    0.0     0.0  0.000000         0.0   0.0   \nAAACAGCCAGCTACGT-1     0.0    0.0     0.0  0.000000         0.0   0.0   \nAAACAGCCAGGCCTTG-1     0.0    0.0     0.0  0.000000         0.0   0.0   \nAAACAGCCATAAGGAC-1     0.0    0.0     0.0  0.000000         0.0   0.0   \n...                    ...    ...     ...       ...         ...   ...   \nTTTGTTGGTACGCGCA-1     0.0    0.0     0.0  0.000000         0.0   0.0   \nTTTGTTGGTATTTGCC-1     0.0    0.0     0.0  0.000000         0.0   0.0   \nTTTGTTGGTGATTACG-1     0.0    0.0     0.0  1.717464         0.0   0.0   \nTTTGTTGGTTTCAGGA-1     0.0    0.0     0.0  0.000000         0.0   0.0   \nTTTGTTGGTTTCCACG-1     0.0    0.0     0.0  0.000000         0.0   0.0   \n\n                        RGS7      GNLY      AFF3  IL1B  ...      NKG7  \\\nAAACAGCCAAAGCCTC-1  1.184205  0.000000  0.000000   0.0  ...  0.000000   \nAAACAGCCAGAATGAC-1  0.000000  0.000000  1.048871   0.0  ...  0.656075   \nAAACAGCCAGCTACGT-1  0.000000  0.000000  0.000000   0.0  ...  0.000000   \nAAACAGCCAGGCCTTG-1  0.000000  0.000000  1.984647   0.0  ...  0.000000   \nAAACAGCCATAAGGAC-1  0.000000  0.000000  0.000000   0.0  ...  0.000000   \n...                      ...       ...       ...   ...  ...       ...   \nTTTGTTGGTACGCGCA-1  0.000000  0.000000  2.448487   0.0  ...  0.000000   \nTTTGTTGGTATTTGCC-1  0.000000  1.281151  0.000000   0.0  ...  1.281151   \nTTTGTTGGTGATTACG-1  0.000000  0.000000  0.000000   0.0  ...  0.000000   \nTTTGTTGGTTTCAGGA-1  0.000000  0.000000  0.000000   0.0  ...  0.000000   \nTTTGTTGGTTTCCACG-1  0.000000  0.000000  0.000000   0.0  ...  0.000000   \n\n                       TSHZ2  AL109930.1  IGLC1     IGLC2  IGLC3  SYN3  \\\nAAACAGCCAAAGCCTC-1  0.000000         0.0    0.0  1.184205    0.0   0.0   \nAAACAGCCAGAATGAC-1  0.000000         0.0    0.0  0.000000    0.0   0.0   \nAAACAGCCAGCTACGT-1  0.000000         0.0    0.0  0.000000    0.0   0.0   \nAAACAGCCAGGCCTTG-1  0.000000         0.0    0.0  0.000000    0.0   0.0   \nAAACAGCCATAAGGAC-1  0.000000         0.0    0.0  0.000000    0.0   0.0   \n...                      ...         ...    ...       ...    ...   ...   \nTTTGTTGGTACGCGCA-1  1.838231         0.0    0.0  0.000000    0.0   0.0   \nTTTGTTGGTATTTGCC-1  0.000000         0.0    0.0  0.000000    0.0   0.0   \nTTTGTTGGTGATTACG-1  0.000000         0.0    0.0  0.000000    0.0   0.0   \nTTTGTTGGTTTCAGGA-1  0.000000         0.0    0.0  0.000000    0.0   0.0   \nTTTGTTGGTTTCCACG-1  0.000000         0.0    0.0  1.946939    0.0   0.0   \n\n                    LARGE1  AC108879.1  EDA  \nAAACAGCCAAAGCCTC-1     0.0         0.0  0.0  \nAAACAGCCAGAATGAC-1     0.0         0.0  0.0  \nAAACAGCCAGCTACGT-1     0.0         0.0  0.0  \nAAACAGCCAGGCCTTG-1     0.0         0.0  0.0  \nAAACAGCCATAAGGAC-1     0.0         0.0  0.0  \n...                    ...         ...  ...  \nTTTGTTGGTACGCGCA-1     0.0         0.0  0.0  \nTTTGTTGGTATTTGCC-1     0.0         0.0  0.0  \nTTTGTTGGTGATTACG-1     0.0         0.0  0.0  \nTTTGTTGGTTTCAGGA-1     0.0         0.0  0.0  \nTTTGTTGGTTTCCACG-1     0.0         0.0  0.0  \n\n[12012 rows x 100 columns]",
      "text/html": "<div>\n<style scoped>\n    .dataframe tbody tr th:only-of-type {\n        vertical-align: middle;\n    }\n\n    .dataframe tbody tr th {\n        vertical-align: top;\n    }\n\n    .dataframe thead th {\n        text-align: right;\n    }\n</style>\n<table border=\"1\" class=\"dataframe\">\n  <thead>\n    <tr style=\"text-align: right;\">\n      <th></th>\n      <th>TGFBR3</th>\n      <th>FCRL1</th>\n      <th>FCGR3A</th>\n      <th>RALGPS2</th>\n      <th>AL136456.1</th>\n      <th>RHEX</th>\n      <th>RGS7</th>\n      <th>GNLY</th>\n      <th>AFF3</th>\n      <th>IL1B</th>\n      <th>...</th>\n      <th>NKG7</th>\n      <th>TSHZ2</th>\n      <th>AL109930.1</th>\n      <th>IGLC1</th>\n      <th>IGLC2</th>\n      <th>IGLC3</th>\n      <th>SYN3</th>\n      <th>LARGE1</th>\n      <th>AC108879.1</th>\n      <th>EDA</th>\n    </tr>\n  </thead>\n  <tbody>\n    <tr>\n      <th>AAACAGCCAAAGCCTC-1</th>\n      <td>0.0</td>\n      <td>0.0</td>\n      <td>0.0</td>\n      <td>0.000000</td>\n      <td>0.0</td>\n      <td>0.0</td>\n      <td>1.184205</td>\n      <td>0.000000</td>\n      <td>0.000000</td>\n      <td>0.0</td>\n      <td>...</td>\n      <td>0.000000</td>\n      <td>0.000000</td>\n      <td>0.0</td>\n      <td>0.0</td>\n      <td>1.184205</td>\n      <td>0.0</td>\n      <td>0.0</td>\n      <td>0.0</td>\n      <td>0.0</td>\n      <td>0.0</td>\n    </tr>\n    <tr>\n      <th>AAACAGCCAGAATGAC-1</th>\n      <td>0.0</td>\n      <td>0.0</td>\n      <td>0.0</td>\n      <td>0.000000</td>\n      <td>0.0</td>\n      <td>0.0</td>\n      <td>0.000000</td>\n      <td>0.000000</td>\n      <td>1.048871</td>\n      <td>0.0</td>\n      <td>...</td>\n      <td>0.656075</td>\n      <td>0.000000</td>\n      <td>0.0</td>\n      <td>0.0</td>\n      <td>0.000000</td>\n      <td>0.0</td>\n      <td>0.0</td>\n      <td>0.0</td>\n      <td>0.0</td>\n      <td>0.0</td>\n    </tr>\n    <tr>\n      <th>AAACAGCCAGCTACGT-1</th>\n      <td>0.0</td>\n      <td>0.0</td>\n      <td>0.0</td>\n      <td>0.000000</td>\n      <td>0.0</td>\n      <td>0.0</td>\n      <td>0.000000</td>\n      <td>0.000000</td>\n      <td>0.000000</td>\n      <td>0.0</td>\n      <td>...</td>\n      <td>0.000000</td>\n      <td>0.000000</td>\n      <td>0.0</td>\n      <td>0.0</td>\n      <td>0.000000</td>\n      <td>0.0</td>\n      <td>0.0</td>\n      <td>0.0</td>\n      <td>0.0</td>\n      <td>0.0</td>\n    </tr>\n    <tr>\n      <th>AAACAGCCAGGCCTTG-1</th>\n      <td>0.0</td>\n      <td>0.0</td>\n      <td>0.0</td>\n      <td>0.000000</td>\n      <td>0.0</td>\n      <td>0.0</td>\n      <td>0.000000</td>\n      <td>0.000000</td>\n      <td>1.984647</td>\n      <td>0.0</td>\n      <td>...</td>\n      <td>0.000000</td>\n      <td>0.000000</td>\n      <td>0.0</td>\n      <td>0.0</td>\n      <td>0.000000</td>\n      <td>0.0</td>\n      <td>0.0</td>\n      <td>0.0</td>\n      <td>0.0</td>\n      <td>0.0</td>\n    </tr>\n    <tr>\n      <th>AAACAGCCATAAGGAC-1</th>\n      <td>0.0</td>\n      <td>0.0</td>\n      <td>0.0</td>\n      <td>0.000000</td>\n      <td>0.0</td>\n      <td>0.0</td>\n      <td>0.000000</td>\n      <td>0.000000</td>\n      <td>0.000000</td>\n      <td>0.0</td>\n      <td>...</td>\n      <td>0.000000</td>\n      <td>0.000000</td>\n      <td>0.0</td>\n      <td>0.0</td>\n      <td>0.000000</td>\n      <td>0.0</td>\n      <td>0.0</td>\n      <td>0.0</td>\n      <td>0.0</td>\n      <td>0.0</td>\n    </tr>\n    <tr>\n      <th>...</th>\n      <td>...</td>\n      <td>...</td>\n      <td>...</td>\n      <td>...</td>\n      <td>...</td>\n      <td>...</td>\n      <td>...</td>\n      <td>...</td>\n      <td>...</td>\n      <td>...</td>\n      <td>...</td>\n      <td>...</td>\n      <td>...</td>\n      <td>...</td>\n      <td>...</td>\n      <td>...</td>\n      <td>...</td>\n      <td>...</td>\n      <td>...</td>\n      <td>...</td>\n      <td>...</td>\n    </tr>\n    <tr>\n      <th>TTTGTTGGTACGCGCA-1</th>\n      <td>0.0</td>\n      <td>0.0</td>\n      <td>0.0</td>\n      <td>0.000000</td>\n      <td>0.0</td>\n      <td>0.0</td>\n      <td>0.000000</td>\n      <td>0.000000</td>\n      <td>2.448487</td>\n      <td>0.0</td>\n      <td>...</td>\n      <td>0.000000</td>\n      <td>1.838231</td>\n      <td>0.0</td>\n      <td>0.0</td>\n      <td>0.000000</td>\n      <td>0.0</td>\n      <td>0.0</td>\n      <td>0.0</td>\n      <td>0.0</td>\n      <td>0.0</td>\n    </tr>\n    <tr>\n      <th>TTTGTTGGTATTTGCC-1</th>\n      <td>0.0</td>\n      <td>0.0</td>\n      <td>0.0</td>\n      <td>0.000000</td>\n      <td>0.0</td>\n      <td>0.0</td>\n      <td>0.000000</td>\n      <td>1.281151</td>\n      <td>0.000000</td>\n      <td>0.0</td>\n      <td>...</td>\n      <td>1.281151</td>\n      <td>0.000000</td>\n      <td>0.0</td>\n      <td>0.0</td>\n      <td>0.000000</td>\n      <td>0.0</td>\n      <td>0.0</td>\n      <td>0.0</td>\n      <td>0.0</td>\n      <td>0.0</td>\n    </tr>\n    <tr>\n      <th>TTTGTTGGTGATTACG-1</th>\n      <td>0.0</td>\n      <td>0.0</td>\n      <td>0.0</td>\n      <td>1.717464</td>\n      <td>0.0</td>\n      <td>0.0</td>\n      <td>0.000000</td>\n      <td>0.000000</td>\n      <td>0.000000</td>\n      <td>0.0</td>\n      <td>...</td>\n      <td>0.000000</td>\n      <td>0.000000</td>\n      <td>0.0</td>\n      <td>0.0</td>\n      <td>0.000000</td>\n      <td>0.0</td>\n      <td>0.0</td>\n      <td>0.0</td>\n      <td>0.0</td>\n      <td>0.0</td>\n    </tr>\n    <tr>\n      <th>TTTGTTGGTTTCAGGA-1</th>\n      <td>0.0</td>\n      <td>0.0</td>\n      <td>0.0</td>\n      <td>0.000000</td>\n      <td>0.0</td>\n      <td>0.0</td>\n      <td>0.000000</td>\n      <td>0.000000</td>\n      <td>0.000000</td>\n      <td>0.0</td>\n      <td>...</td>\n      <td>0.000000</td>\n      <td>0.000000</td>\n      <td>0.0</td>\n      <td>0.0</td>\n      <td>0.000000</td>\n      <td>0.0</td>\n      <td>0.0</td>\n      <td>0.0</td>\n      <td>0.0</td>\n      <td>0.0</td>\n    </tr>\n    <tr>\n      <th>TTTGTTGGTTTCCACG-1</th>\n      <td>0.0</td>\n      <td>0.0</td>\n      <td>0.0</td>\n      <td>0.000000</td>\n      <td>0.0</td>\n      <td>0.0</td>\n      <td>0.000000</td>\n      <td>0.000000</td>\n      <td>0.000000</td>\n      <td>0.0</td>\n      <td>...</td>\n      <td>0.000000</td>\n      <td>0.000000</td>\n      <td>0.0</td>\n      <td>0.0</td>\n      <td>1.946939</td>\n      <td>0.0</td>\n      <td>0.0</td>\n      <td>0.0</td>\n      <td>0.0</td>\n      <td>0.0</td>\n    </tr>\n  </tbody>\n</table>\n<p>12012 rows × 100 columns</p>\n</div>"
     },
     "execution_count": 56,
     "metadata": {},
     "output_type": "execute_result"
    }
   ],
   "source": [
    "X"
   ],
   "metadata": {
    "collapsed": false,
    "pycharm": {
     "name": "#%%\n"
    }
   }
  },
  {
   "cell_type": "code",
   "execution_count": 37,
   "outputs": [
    {
     "data": {
      "text/plain": "Empty DataFrame\nColumns: []\nIndex: [TGFBR3, FCRL1, FCGR3A, RALGPS2, AL136456.1, RHEX, RGS7, GNLY, AFF3, IL1B, SLC4A10, COBLL1, SLC38A11, IKZF2, PID1, KCNH8, OSBPL10, TAFA1, EPHB1, P2RY14, JCHAIN, CXCL8, CCSER1, BANK1, AP002075.1, AC139720.1, AC002460.2, GPM6A, GZMK, GZMA, LINC02161, LIX1-AS1, PPP2R2B, EBF1, KHDRBS2, COL19A1, KCNQ5, PLEKHG1, AL589693.1, STEAP1B, AUTS2, NRCAM, PLXNA4, BLK, ADAM28, NRG1, TOX, NCALD, AC023590.1, PCAT1, BNC2, LINGO2, PAX5, PTGDS, PRF1, LINC01374, CDKN1C, MS4A1, DLG2, DISC1FP1, PDGFD, NCAM1, A2M, PZP, KLRD1, SOX5, NELL2, IFNG-AS1, CUX2, PCDH9, AL163541.1, GZMH, GZMB, AKAP6, AL163932.1, IGHGP, IGHA1, IGHG1, IGHD, IGHM, LINC02694, LINC00926, CCL5, CCL4, LINC01478, TCF4, GNG7, NIBAN3, CD22, CD79A, NKG7, TSHZ2, AL109930.1, IGLC1, IGLC2, IGLC3, SYN3, LARGE1, AC108879.1, EDA]\n\n[100 rows x 0 columns]",
      "text/html": "<div>\n<style scoped>\n    .dataframe tbody tr th:only-of-type {\n        vertical-align: middle;\n    }\n\n    .dataframe tbody tr th {\n        vertical-align: top;\n    }\n\n    .dataframe thead th {\n        text-align: right;\n    }\n</style>\n<table border=\"1\" class=\"dataframe\">\n  <thead>\n    <tr style=\"text-align: right;\">\n      <th></th>\n    </tr>\n  </thead>\n  <tbody>\n    <tr>\n      <th>TGFBR3</th>\n    </tr>\n    <tr>\n      <th>FCRL1</th>\n    </tr>\n    <tr>\n      <th>FCGR3A</th>\n    </tr>\n    <tr>\n      <th>RALGPS2</th>\n    </tr>\n    <tr>\n      <th>AL136456.1</th>\n    </tr>\n    <tr>\n      <th>...</th>\n    </tr>\n    <tr>\n      <th>IGLC3</th>\n    </tr>\n    <tr>\n      <th>SYN3</th>\n    </tr>\n    <tr>\n      <th>LARGE1</th>\n    </tr>\n    <tr>\n      <th>AC108879.1</th>\n    </tr>\n    <tr>\n      <th>EDA</th>\n    </tr>\n  </tbody>\n</table>\n<p>100 rows × 0 columns</p>\n</div>"
     },
     "execution_count": 37,
     "metadata": {},
     "output_type": "execute_result"
    }
   ],
   "source": [
    "scanpy.get.var_df(full)"
   ],
   "metadata": {
    "collapsed": false,
    "pycharm": {
     "name": "#%%\n"
    }
   }
  },
  {
   "cell_type": "code",
   "execution_count": 4,
   "outputs": [
    {
     "data": {
      "text/plain": "<Frame#7f9f7bcb89c0 12012x30350>",
      "text/html": "<div class='datatable'>\n  <table class='frame'>\n  <thead>\n    <tr class='colnames'><td class='row_index'></td><th>C11</th><th>C10</th><th>OR4F5</th><th>AL627309.1</th><th>AL627309.3</th><th>AL627309.5</th><th>AL627309.4</th><th>AP006222.2</th><th>AL669831.2</th><th>LINC01409</th><th class='vellipsis'>&hellip;</th><th>AC233755.1</th><th>AC136616.2</th><th>AC007325.1</th><th>AC007325.4</th><th>AC007325.2</th></tr>\n    <tr class='coltypes'><td class='row_index'></td><td class='int' title='int32'>&#x25AA;&#x25AA;&#x25AA;&#x25AA;</td><td class='str' title='str32'>&#x25AA;&#x25AA;&#x25AA;&#x25AA;</td><td class='bool' title='bool8'>&#x25AA;</td><td class='int' title='int32'>&#x25AA;&#x25AA;&#x25AA;&#x25AA;</td><td class='bool' title='bool8'>&#x25AA;</td><td class='int' title='int32'>&#x25AA;&#x25AA;&#x25AA;&#x25AA;</td><td class='int' title='int32'>&#x25AA;&#x25AA;&#x25AA;&#x25AA;</td><td class='bool' title='bool8'>&#x25AA;</td><td class='bool' title='bool8'>&#x25AA;</td><td class='int' title='int32'>&#x25AA;&#x25AA;&#x25AA;&#x25AA;</td><td></td><td class='bool' title='bool8'>&#x25AA;</td><td class='bool' title='bool8'>&#x25AA;</td><td class='bool' title='bool8'>&#x25AA;</td><td class='bool' title='bool8'>&#x25AA;</td><td class='bool' title='bool8'>&#x25AA;</td></tr>\n  </thead>\n  <tbody>\n    <tr><td class='row_index'>0</td><td>0</td><td>AAACAGCCAAAGCCTC.1</td><td>0</td><td>0</td><td>0</td><td>0</td><td>0</td><td>0</td><td>0</td><td>0</td><td class=vellipsis>&hellip;</td><td>0</td><td>0</td><td>0</td><td>0</td><td>0</td></tr>\n    <tr><td class='row_index'>1</td><td>1</td><td>AAACAGCCAGAATGAC.1</td><td>0</td><td>0</td><td>0</td><td>0</td><td>0</td><td>0</td><td>0</td><td>0</td><td class=vellipsis>&hellip;</td><td>0</td><td>0</td><td>0</td><td>0</td><td>0</td></tr>\n    <tr><td class='row_index'>2</td><td>2</td><td>AAACAGCCAGCTACGT.1</td><td>0</td><td>0</td><td>0</td><td>0</td><td>0</td><td>0</td><td>0</td><td>0</td><td class=vellipsis>&hellip;</td><td>0</td><td>0</td><td>0</td><td>0</td><td>0</td></tr>\n    <tr><td class='row_index'>3</td><td>3</td><td>AAACAGCCAGGCCTTG.1</td><td>0</td><td>0</td><td>0</td><td>0</td><td>0</td><td>0</td><td>0</td><td>0</td><td class=vellipsis>&hellip;</td><td>0</td><td>0</td><td>0</td><td>0</td><td>0</td></tr>\n    <tr><td class='row_index'>4</td><td>4</td><td>AAACAGCCATAAGGAC.1</td><td>0</td><td>0</td><td>0</td><td>0</td><td>0</td><td>0</td><td>0</td><td>0</td><td class=vellipsis>&hellip;</td><td>0</td><td>0</td><td>0</td><td>0</td><td>0</td></tr>\n    <tr><td class='row_index'>5</td><td>5</td><td>AAACAGCCATAATGTC.1</td><td>0</td><td>0</td><td>0</td><td>0</td><td>0</td><td>0</td><td>0</td><td>0</td><td class=vellipsis>&hellip;</td><td>0</td><td>0</td><td>0</td><td>1</td><td>0</td></tr>\n    <tr><td class='row_index'>6</td><td>6</td><td>AAACATGCAGCAATAA.1</td><td>0</td><td>0</td><td>0</td><td>0</td><td>0</td><td>0</td><td>0</td><td>0</td><td class=vellipsis>&hellip;</td><td>0</td><td>0</td><td>0</td><td>0</td><td>0</td></tr>\n    <tr><td class='row_index'>7</td><td>7</td><td>AAACATGCAGCCAGAA.1</td><td>0</td><td>0</td><td>0</td><td>0</td><td>0</td><td>0</td><td>0</td><td>0</td><td class=vellipsis>&hellip;</td><td>0</td><td>0</td><td>0</td><td>0</td><td>0</td></tr>\n    <tr><td class='row_index'>8</td><td>8</td><td>AAACATGCAGGCGATA.1</td><td>0</td><td>0</td><td>0</td><td>0</td><td>0</td><td>0</td><td>0</td><td>0</td><td class=vellipsis>&hellip;</td><td>0</td><td>0</td><td>0</td><td>0</td><td>0</td></tr>\n    <tr><td class='row_index'>9</td><td>9</td><td>AAACATGCAGTTTCTC.1</td><td>0</td><td>0</td><td>0</td><td>0</td><td>0</td><td>0</td><td>0</td><td>0</td><td class=vellipsis>&hellip;</td><td>0</td><td>0</td><td>0</td><td>0</td><td>0</td></tr>\n    <tr><td class='row_index'>10</td><td>10</td><td>AAACCAACAACTAGGG.1</td><td>0</td><td>0</td><td>0</td><td>1</td><td>0</td><td>0</td><td>0</td><td>0</td><td class=vellipsis>&hellip;</td><td>0</td><td>0</td><td>0</td><td>0</td><td>0</td></tr>\n    <tr><td class='row_index'>11</td><td>11</td><td>AAACCAACAATAACCT.1</td><td>0</td><td>0</td><td>0</td><td>0</td><td>0</td><td>0</td><td>0</td><td>0</td><td class=vellipsis>&hellip;</td><td>0</td><td>0</td><td>0</td><td>0</td><td>0</td></tr>\n    <tr><td class='row_index'>12</td><td>12</td><td>AAACCAACACTTAGGC.1</td><td>0</td><td>0</td><td>0</td><td>0</td><td>0</td><td>0</td><td>0</td><td>0</td><td class=vellipsis>&hellip;</td><td>0</td><td>0</td><td>0</td><td>0</td><td>0</td></tr>\n    <tr><td class='row_index'>13</td><td>13</td><td>AAACCAACAGGACCTT.1</td><td>0</td><td>0</td><td>0</td><td>0</td><td>0</td><td>0</td><td>0</td><td>1</td><td class=vellipsis>&hellip;</td><td>0</td><td>0</td><td>0</td><td>0</td><td>0</td></tr>\n    <tr><td class='row_index'>14</td><td>14</td><td>AAACCAACAGTTGCGT.1</td><td>0</td><td>0</td><td>0</td><td>0</td><td>0</td><td>0</td><td>0</td><td>0</td><td class=vellipsis>&hellip;</td><td>0</td><td>0</td><td>0</td><td>0</td><td>0</td></tr>\n    <tr><td class='row_index'>&#x22EE;</td><td class='hellipsis'>&#x22EE;</td><td class='hellipsis'>&#x22EE;</td><td class='hellipsis'>&#x22EE;</td><td class='hellipsis'>&#x22EE;</td><td class='hellipsis'>&#x22EE;</td><td class='hellipsis'>&#x22EE;</td><td class='hellipsis'>&#x22EE;</td><td class='hellipsis'>&#x22EE;</td><td class='hellipsis'>&#x22EE;</td><td class='hellipsis'>&#x22EE;</td><td class='hellipsis'>&#x22F1;</td><td class='hellipsis'>&#x22EE;</td><td class='hellipsis'>&#x22EE;</td><td class='hellipsis'>&#x22EE;</td><td class='hellipsis'>&#x22EE;</td><td class='hellipsis'>&#x22EE;</td></tr>\n    <tr><td class='row_index'>12,007</td><td>12007</td><td>TTTGTTGGTACGCGCA.1</td><td>0</td><td>0</td><td>0</td><td>0</td><td>0</td><td>0</td><td>0</td><td>0</td><td class=vellipsis>&hellip;</td><td>0</td><td>0</td><td>0</td><td>0</td><td>0</td></tr>\n    <tr><td class='row_index'>12,008</td><td>12008</td><td>TTTGTTGGTATTTGCC.1</td><td>0</td><td>0</td><td>0</td><td>0</td><td>0</td><td>0</td><td>0</td><td>0</td><td class=vellipsis>&hellip;</td><td>0</td><td>0</td><td>0</td><td>0</td><td>0</td></tr>\n    <tr><td class='row_index'>12,009</td><td>12009</td><td>TTTGTTGGTGATTACG.1</td><td>0</td><td>0</td><td>0</td><td>0</td><td>0</td><td>0</td><td>0</td><td>1</td><td class=vellipsis>&hellip;</td><td>0</td><td>0</td><td>0</td><td>0</td><td>0</td></tr>\n    <tr><td class='row_index'>12,010</td><td>12010</td><td>TTTGTTGGTTTCAGGA.1</td><td>0</td><td>0</td><td>0</td><td>0</td><td>0</td><td>0</td><td>0</td><td>0</td><td class=vellipsis>&hellip;</td><td>0</td><td>0</td><td>0</td><td>0</td><td>0</td></tr>\n    <tr><td class='row_index'>12,011</td><td>12011</td><td>TTTGTTGGTTTCCACG.1</td><td>0</td><td>0</td><td>0</td><td>0</td><td>0</td><td>0</td><td>0</td><td>0</td><td class=vellipsis>&hellip;</td><td>0</td><td>0</td><td>0</td><td>0</td><td>0</td></tr>\n  </tbody>\n  </table>\n  <div class='footer'>\n    <div class='frame_dimensions'>12,012 rows &times; 30,350 columns</div>\n  </div>\n</div>\n"
     },
     "execution_count": 4,
     "metadata": {},
     "output_type": "execute_result"
    }
   ],
   "source": [
    "expr"
   ],
   "metadata": {
    "collapsed": false,
    "pycharm": {
     "name": "#%%\n"
    }
   }
  },
  {
   "cell_type": "code",
   "execution_count": null,
   "outputs": [],
   "source": [
    "anno = expr.to_pandas()\n",
    "expr = expr.to_pandas()"
   ],
   "metadata": {
    "collapsed": false,
    "pycharm": {
     "name": "#%%\n",
     "is_executing": true
    }
   }
  },
  {
   "cell_type": "code",
   "execution_count": 6,
   "outputs": [
    {
     "data": {
      "text/plain": "(12012, 30351)"
     },
     "execution_count": 6,
     "metadata": {},
     "output_type": "execute_result"
    }
   ],
   "source": [
    "expr.shape"
   ],
   "metadata": {
    "collapsed": false,
    "pycharm": {
     "name": "#%%\n"
    }
   }
  },
  {
   "cell_type": "markdown",
   "source": [
    "Filter genes with only one value in every row"
   ],
   "metadata": {
    "collapsed": false,
    "pycharm": {
     "name": "#%% md\n"
    }
   }
  },
  {
   "cell_type": "code",
   "execution_count": 7,
   "outputs": [],
   "source": [
    "expr = expr.drop(\"C0\", axis=1, error=\"ignore\")"
   ],
   "metadata": {
    "collapsed": false,
    "pycharm": {
     "name": "#%%\n"
    }
   }
  },
  {
   "cell_type": "code",
   "execution_count": 9,
   "outputs": [],
   "source": [
    "expr = expr.drop(\"C11\", axis=1, errors=\"ignore\")"
   ],
   "metadata": {
    "collapsed": false,
    "pycharm": {
     "name": "#%%\n"
    }
   }
  },
  {
   "cell_type": "code",
   "execution_count": 10,
   "outputs": [],
   "source": [
    "expr.to_csv(\"../data/processed/pbmc_expr_t_filtered_12000_30000.csv\")"
   ],
   "metadata": {
    "collapsed": false,
    "pycharm": {
     "name": "#%%\n"
    }
   }
  },
  {
   "cell_type": "code",
   "execution_count": 4,
   "outputs": [],
   "source": [
    "random.seed(1234)\n",
    "expr_reduced = expr.drop(expr.columns[np.random.choice(range(1, expr.shape[1]), size=24000, replace=False)], axis=1)\n",
    "expr_reduced = expr_reduced.drop(np.random.choice(range(1, expr.shape[0]), size=8000, replace=False), axis=0)"
   ],
   "metadata": {
    "collapsed": false,
    "pycharm": {
     "name": "#%%\n"
    }
   }
  },
  {
   "cell_type": "code",
   "execution_count": 15,
   "outputs": [],
   "source": [
    "expr_reduced.to_csv(\"../data/processed/pbmc_expr_reduced.csv\")"
   ],
   "metadata": {
    "collapsed": false,
    "pycharm": {
     "name": "#%%\n"
    }
   }
  },
  {
   "cell_type": "code",
   "execution_count": null,
   "outputs": [],
   "source": [
    "expr.iloc[:, 1:] = expr.iloc[:, 1:].apply(pd.to_numeric, errors=\"ignore\")"
   ],
   "metadata": {
    "collapsed": false,
    "pycharm": {
     "name": "#%%\n"
    }
   }
  },
  {
   "cell_type": "code",
   "execution_count": 18,
   "outputs": [],
   "source": [
    "\n",
    "anno[\"cell_type\"] = anno.apply(lambda row: class_checker(row), axis=1)\n",
    "anno_filtered = anno[[\"V1\", \"cell_type\"]]\n",
    "anno = anno_filtered.rename(columns={\"V1\": \"C0\"})\n",
    "anno_filtered.rename(columns={\"V1\": \"C10\"}, inplace=True)\n",
    "anno_filtered"
   ],
   "metadata": {
    "collapsed": false,
    "pycharm": {
     "name": "#%%\n"
    }
   }
  },
  {
   "cell_type": "code",
   "execution_count": 12,
   "outputs": [
    {
     "data": {
      "text/plain": "                       C0  MIR1302-2HG  FAM138A  OR4F29  AC114498.1  \\\n0      AAACAGCCAAAGCCTC.1        False    False   False       False   \n6      AAACATGCAGCAATAA.1        False    False   False       False   \n8      AAACATGCAGGCGATA.1        False    False   False       False   \n13     AAACCAACAGGACCTT.1        False    False   False       False   \n19     AAACCGAAGCGTGCGT.1        False    False   False       False   \n...                   ...          ...      ...     ...         ...   \n12001  TTTGTGGCATAAGGAC.1        False    False   False       False   \n12003  TTTGTGTTCAGTTCCC.1        False    False   False       False   \n12008  TTTGTTGGTATTTGCC.1        False    False   False       False   \n12010  TTTGTTGGTTTCAGGA.1        False    False   False       False   \n12011  TTTGTTGGTTTCCACG.1        False    False   False       False   \n\n       LINC01409  AL645608.6  AL645608.4  LINC02593  NOC2L  ...  AC011043.2  \\\n0              0       False       False      False      0  ...       False   \n6              0       False       False      False      0  ...       False   \n8              0       False       False      False      0  ...       False   \n13             1       False       False      False      0  ...       False   \n19             0       False       False      False      0  ...       False   \n...          ...         ...         ...        ...    ...  ...         ...   \n12001          0       False       False      False      0  ...       False   \n12003          0       False       False      False      0  ...       False   \n12008          0       False       False      False      0  ...       False   \n12010          0       False       False      False      0  ...       False   \n12011          0       False       False      False      0  ...       False   \n\n       BX072566.1  AL354822.1  AC240274.1  AC213203.2  AC136352.3  AC136352.2  \\\n0           False       False           1       False       False       False   \n6           False       False           0       False       False       False   \n8           False       False           0       False       False       False   \n13          False       False           0       False       False       False   \n19          False       False           0       False       False       False   \n...           ...         ...         ...         ...         ...         ...   \n12001       False       False           0       False       False       False   \n12003       False       False           0       False       False       False   \n12008       False       False           0       False       False       False   \n12010       False       False           0       False       False       False   \n12011       False       False           0       False       False       False   \n\n       AC171558.3  AC007325.2                  C0  \n0           False       False  AAACAGCCAAAGCCTC.1  \n6           False       False  AAACATGCAGCAATAA.1  \n8           False       False  AAACATGCAGGCGATA.1  \n13          False       False  AAACCAACAGGACCTT.1  \n19          False       False  AAACCGAAGCGTGCGT.1  \n...           ...         ...                 ...  \n12001       False       False  TTTGTGGCATAAGGAC.1  \n12003       False       False  TTTGTGTTCAGTTCCC.1  \n12008       False       False  TTTGTTGGTATTTGCC.1  \n12010       False       False  TTTGTTGGTTTCAGGA.1  \n12011       False       False  TTTGTTGGTTTCCACG.1  \n\n[4012 rows x 12603 columns]",
      "text/html": "<div>\n<style scoped>\n    .dataframe tbody tr th:only-of-type {\n        vertical-align: middle;\n    }\n\n    .dataframe tbody tr th {\n        vertical-align: top;\n    }\n\n    .dataframe thead th {\n        text-align: right;\n    }\n</style>\n<table border=\"1\" class=\"dataframe\">\n  <thead>\n    <tr style=\"text-align: right;\">\n      <th></th>\n      <th>C0</th>\n      <th>MIR1302-2HG</th>\n      <th>FAM138A</th>\n      <th>OR4F29</th>\n      <th>AC114498.1</th>\n      <th>LINC01409</th>\n      <th>AL645608.6</th>\n      <th>AL645608.4</th>\n      <th>LINC02593</th>\n      <th>NOC2L</th>\n      <th>...</th>\n      <th>AC011043.2</th>\n      <th>BX072566.1</th>\n      <th>AL354822.1</th>\n      <th>AC240274.1</th>\n      <th>AC213203.2</th>\n      <th>AC136352.3</th>\n      <th>AC136352.2</th>\n      <th>AC171558.3</th>\n      <th>AC007325.2</th>\n      <th>C0</th>\n    </tr>\n  </thead>\n  <tbody>\n    <tr>\n      <th>0</th>\n      <td>AAACAGCCAAAGCCTC.1</td>\n      <td>False</td>\n      <td>False</td>\n      <td>False</td>\n      <td>False</td>\n      <td>0</td>\n      <td>False</td>\n      <td>False</td>\n      <td>False</td>\n      <td>0</td>\n      <td>...</td>\n      <td>False</td>\n      <td>False</td>\n      <td>False</td>\n      <td>1</td>\n      <td>False</td>\n      <td>False</td>\n      <td>False</td>\n      <td>False</td>\n      <td>False</td>\n      <td>AAACAGCCAAAGCCTC.1</td>\n    </tr>\n    <tr>\n      <th>6</th>\n      <td>AAACATGCAGCAATAA.1</td>\n      <td>False</td>\n      <td>False</td>\n      <td>False</td>\n      <td>False</td>\n      <td>0</td>\n      <td>False</td>\n      <td>False</td>\n      <td>False</td>\n      <td>0</td>\n      <td>...</td>\n      <td>False</td>\n      <td>False</td>\n      <td>False</td>\n      <td>0</td>\n      <td>False</td>\n      <td>False</td>\n      <td>False</td>\n      <td>False</td>\n      <td>False</td>\n      <td>AAACATGCAGCAATAA.1</td>\n    </tr>\n    <tr>\n      <th>8</th>\n      <td>AAACATGCAGGCGATA.1</td>\n      <td>False</td>\n      <td>False</td>\n      <td>False</td>\n      <td>False</td>\n      <td>0</td>\n      <td>False</td>\n      <td>False</td>\n      <td>False</td>\n      <td>0</td>\n      <td>...</td>\n      <td>False</td>\n      <td>False</td>\n      <td>False</td>\n      <td>0</td>\n      <td>False</td>\n      <td>False</td>\n      <td>False</td>\n      <td>False</td>\n      <td>False</td>\n      <td>AAACATGCAGGCGATA.1</td>\n    </tr>\n    <tr>\n      <th>13</th>\n      <td>AAACCAACAGGACCTT.1</td>\n      <td>False</td>\n      <td>False</td>\n      <td>False</td>\n      <td>False</td>\n      <td>1</td>\n      <td>False</td>\n      <td>False</td>\n      <td>False</td>\n      <td>0</td>\n      <td>...</td>\n      <td>False</td>\n      <td>False</td>\n      <td>False</td>\n      <td>0</td>\n      <td>False</td>\n      <td>False</td>\n      <td>False</td>\n      <td>False</td>\n      <td>False</td>\n      <td>AAACCAACAGGACCTT.1</td>\n    </tr>\n    <tr>\n      <th>19</th>\n      <td>AAACCGAAGCGTGCGT.1</td>\n      <td>False</td>\n      <td>False</td>\n      <td>False</td>\n      <td>False</td>\n      <td>0</td>\n      <td>False</td>\n      <td>False</td>\n      <td>False</td>\n      <td>0</td>\n      <td>...</td>\n      <td>False</td>\n      <td>False</td>\n      <td>False</td>\n      <td>0</td>\n      <td>False</td>\n      <td>False</td>\n      <td>False</td>\n      <td>False</td>\n      <td>False</td>\n      <td>AAACCGAAGCGTGCGT.1</td>\n    </tr>\n    <tr>\n      <th>...</th>\n      <td>...</td>\n      <td>...</td>\n      <td>...</td>\n      <td>...</td>\n      <td>...</td>\n      <td>...</td>\n      <td>...</td>\n      <td>...</td>\n      <td>...</td>\n      <td>...</td>\n      <td>...</td>\n      <td>...</td>\n      <td>...</td>\n      <td>...</td>\n      <td>...</td>\n      <td>...</td>\n      <td>...</td>\n      <td>...</td>\n      <td>...</td>\n      <td>...</td>\n      <td>...</td>\n    </tr>\n    <tr>\n      <th>12001</th>\n      <td>TTTGTGGCATAAGGAC.1</td>\n      <td>False</td>\n      <td>False</td>\n      <td>False</td>\n      <td>False</td>\n      <td>0</td>\n      <td>False</td>\n      <td>False</td>\n      <td>False</td>\n      <td>0</td>\n      <td>...</td>\n      <td>False</td>\n      <td>False</td>\n      <td>False</td>\n      <td>0</td>\n      <td>False</td>\n      <td>False</td>\n      <td>False</td>\n      <td>False</td>\n      <td>False</td>\n      <td>TTTGTGGCATAAGGAC.1</td>\n    </tr>\n    <tr>\n      <th>12003</th>\n      <td>TTTGTGTTCAGTTCCC.1</td>\n      <td>False</td>\n      <td>False</td>\n      <td>False</td>\n      <td>False</td>\n      <td>0</td>\n      <td>False</td>\n      <td>False</td>\n      <td>False</td>\n      <td>0</td>\n      <td>...</td>\n      <td>False</td>\n      <td>False</td>\n      <td>False</td>\n      <td>0</td>\n      <td>False</td>\n      <td>False</td>\n      <td>False</td>\n      <td>False</td>\n      <td>False</td>\n      <td>TTTGTGTTCAGTTCCC.1</td>\n    </tr>\n    <tr>\n      <th>12008</th>\n      <td>TTTGTTGGTATTTGCC.1</td>\n      <td>False</td>\n      <td>False</td>\n      <td>False</td>\n      <td>False</td>\n      <td>0</td>\n      <td>False</td>\n      <td>False</td>\n      <td>False</td>\n      <td>0</td>\n      <td>...</td>\n      <td>False</td>\n      <td>False</td>\n      <td>False</td>\n      <td>0</td>\n      <td>False</td>\n      <td>False</td>\n      <td>False</td>\n      <td>False</td>\n      <td>False</td>\n      <td>TTTGTTGGTATTTGCC.1</td>\n    </tr>\n    <tr>\n      <th>12010</th>\n      <td>TTTGTTGGTTTCAGGA.1</td>\n      <td>False</td>\n      <td>False</td>\n      <td>False</td>\n      <td>False</td>\n      <td>0</td>\n      <td>False</td>\n      <td>False</td>\n      <td>False</td>\n      <td>0</td>\n      <td>...</td>\n      <td>False</td>\n      <td>False</td>\n      <td>False</td>\n      <td>0</td>\n      <td>False</td>\n      <td>False</td>\n      <td>False</td>\n      <td>False</td>\n      <td>False</td>\n      <td>TTTGTTGGTTTCAGGA.1</td>\n    </tr>\n    <tr>\n      <th>12011</th>\n      <td>TTTGTTGGTTTCCACG.1</td>\n      <td>False</td>\n      <td>False</td>\n      <td>False</td>\n      <td>False</td>\n      <td>0</td>\n      <td>False</td>\n      <td>False</td>\n      <td>False</td>\n      <td>0</td>\n      <td>...</td>\n      <td>False</td>\n      <td>False</td>\n      <td>False</td>\n      <td>0</td>\n      <td>False</td>\n      <td>False</td>\n      <td>False</td>\n      <td>False</td>\n      <td>False</td>\n      <td>TTTGTTGGTTTCCACG.1</td>\n    </tr>\n  </tbody>\n</table>\n<p>4012 rows × 12603 columns</p>\n</div>"
     },
     "execution_count": 12,
     "metadata": {},
     "output_type": "execute_result"
    }
   ],
   "source": [
    "expr_reduced.rename(columns={\"C10\": \"C0\"}, inplace=True)\n",
    "expr_reduced"
   ],
   "metadata": {
    "collapsed": false,
    "pycharm": {
     "name": "#%%\n"
    }
   }
  },
  {
   "cell_type": "code",
   "execution_count": 59,
   "outputs": [],
   "source": [
    "dic = {\"A\": 2}\n",
    "dic.update({\"B\": 3})"
   ],
   "metadata": {
    "collapsed": false,
    "pycharm": {
     "name": "#%%\n"
    }
   }
  },
  {
   "cell_type": "code",
   "execution_count": 63,
   "outputs": [
    {
     "data": {
      "text/plain": "True"
     },
     "execution_count": 63,
     "metadata": {},
     "output_type": "execute_result"
    }
   ],
   "source": [
    "\"A\" in dic.keys()"
   ],
   "metadata": {
    "collapsed": false,
    "pycharm": {
     "name": "#%%\n"
    }
   }
  },
  {
   "cell_type": "code",
   "execution_count": 67,
   "outputs": [
    {
     "ename": "AssertionError",
     "evalue": "",
     "output_type": "error",
     "traceback": [
      "\u001B[0;31m---------------------------------------------------------------------------\u001B[0m",
      "\u001B[0;31mAssertionError\u001B[0m                            Traceback (most recent call last)",
      "Input \u001B[0;32mIn [67]\u001B[0m, in \u001B[0;36m<cell line: 2>\u001B[0;34m()\u001B[0m\n\u001B[1;32m      1\u001B[0m data \u001B[38;5;241m=\u001B[39m \u001B[38;5;28;01mNone\u001B[39;00m\n\u001B[0;32m----> 2\u001B[0m \u001B[38;5;28;01massert\u001B[39;00m data\n",
      "\u001B[0;31mAssertionError\u001B[0m: "
     ]
    }
   ],
   "source": [
    "data = None\n",
    "assert is."
   ],
   "metadata": {
    "collapsed": false,
    "pycharm": {
     "name": "#%%\n"
    }
   }
  },
  {
   "cell_type": "code",
   "execution_count": 20,
   "outputs": [],
   "source": [
    "merged = pd.merge(expr_reduced, anno_filtered)"
   ],
   "metadata": {
    "collapsed": false,
    "pycharm": {
     "name": "#%%\n"
    }
   }
  },
  {
   "cell_type": "code",
   "execution_count": 21,
   "outputs": [
    {
     "data": {
      "text/plain": "                     C10  FAM138A  AL627309.1  AL627309.4  AP006222.2  OR4F29  \\\n0     AAACAGCCAAAGCCTC.1      0.0         0.0         0.0         0.0     0.0   \n1     AAACAGCCAGAATGAC.1      0.0         0.0         0.0         0.0     0.0   \n2     AAACAGCCAGCTACGT.1      0.0         0.0         0.0         0.0     0.0   \n3     AAACATGCAGCAATAA.1      0.0         0.0         0.0         0.0     0.0   \n4     AAACATGCAGTTTCTC.1      0.0         0.0         0.0         0.0     0.0   \n...                  ...      ...         ...         ...         ...     ...   \n4007  TTTGTGGCAATGCGCT.1      0.0         0.0         0.0         0.0     0.0   \n4008  TTTGTGGCACGAATTT.1      0.0         0.0         0.0         0.0     0.0   \n4009  TTTGTGGCAGGCAAGC.1      0.0         0.0         0.0         0.0     0.0   \n4010  TTTGTGTTCAGTTCCC.1      0.0         0.0         0.0         0.0     0.0   \n4011  TTTGTTGGTATTTGCC.1      0.0         0.0         0.0         0.0     0.0   \n\n      OR4F16  LINC01409  LINC00115  AL645608.2  ...  AC011841.1  BX072566.1  \\\n0        0.0        0.0        0.0         0.0  ...         0.0         0.0   \n1        0.0        0.0        0.0         0.0  ...         0.0         0.0   \n2        0.0        0.0        0.0         0.0  ...         0.0         0.0   \n3        0.0        0.0        0.0         0.0  ...         0.0         0.0   \n4        0.0        0.0        0.0         0.0  ...         0.0         0.0   \n...      ...        ...        ...         ...  ...         ...         ...   \n4007     0.0        0.0        0.0         0.0  ...         0.0         0.0   \n4008     0.0        0.0        0.0         0.0  ...         0.0         0.0   \n4009     0.0        0.0        0.0         0.0  ...         0.0         0.0   \n4010     0.0        0.0        0.0         0.0  ...         0.0         0.0   \n4011     0.0        0.0        0.0         0.0  ...         0.0         0.0   \n\n      AL354822.1  AC213203.1  AC233755.1  AC136612.1  AC136616.3  AC141272.1  \\\n0            0.0         0.0         0.0         0.0         0.0         0.0   \n1            0.0         0.0         0.0         0.0         0.0         0.0   \n2            0.0         0.0         0.0         0.0         0.0         0.0   \n3            0.0         0.0         0.0         0.0         0.0         0.0   \n4            0.0         0.0         0.0         0.0         0.0         0.0   \n...          ...         ...         ...         ...         ...         ...   \n4007         0.0         0.0         0.0         0.0         0.0         0.0   \n4008         0.0         0.0         0.0         0.0         0.0         0.0   \n4009         0.0         0.0         0.0         0.0         0.0         0.0   \n4010         0.0         0.0         0.0         0.0         0.0         0.0   \n4011         0.0         0.0         0.0         0.0         0.0         0.0   \n\n      AC023491.2  cell_type  \n0            0.0    singlet  \n1            0.0    singlet  \n2            0.0    singlet  \n3            0.0    singlet  \n4            0.0    singlet  \n...          ...        ...  \n4007         0.0    singlet  \n4008         0.0    singlet  \n4009         0.0    singlet  \n4010         0.0    singlet  \n4011         0.0    singlet  \n\n[4012 rows x 12603 columns]",
      "text/html": "<div>\n<style scoped>\n    .dataframe tbody tr th:only-of-type {\n        vertical-align: middle;\n    }\n\n    .dataframe tbody tr th {\n        vertical-align: top;\n    }\n\n    .dataframe thead th {\n        text-align: right;\n    }\n</style>\n<table border=\"1\" class=\"dataframe\">\n  <thead>\n    <tr style=\"text-align: right;\">\n      <th></th>\n      <th>C10</th>\n      <th>FAM138A</th>\n      <th>AL627309.1</th>\n      <th>AL627309.4</th>\n      <th>AP006222.2</th>\n      <th>OR4F29</th>\n      <th>OR4F16</th>\n      <th>LINC01409</th>\n      <th>LINC00115</th>\n      <th>AL645608.2</th>\n      <th>...</th>\n      <th>AC011841.1</th>\n      <th>BX072566.1</th>\n      <th>AL354822.1</th>\n      <th>AC213203.1</th>\n      <th>AC233755.1</th>\n      <th>AC136612.1</th>\n      <th>AC136616.3</th>\n      <th>AC141272.1</th>\n      <th>AC023491.2</th>\n      <th>cell_type</th>\n    </tr>\n  </thead>\n  <tbody>\n    <tr>\n      <th>0</th>\n      <td>AAACAGCCAAAGCCTC.1</td>\n      <td>0.0</td>\n      <td>0.0</td>\n      <td>0.0</td>\n      <td>0.0</td>\n      <td>0.0</td>\n      <td>0.0</td>\n      <td>0.0</td>\n      <td>0.0</td>\n      <td>0.0</td>\n      <td>...</td>\n      <td>0.0</td>\n      <td>0.0</td>\n      <td>0.0</td>\n      <td>0.0</td>\n      <td>0.0</td>\n      <td>0.0</td>\n      <td>0.0</td>\n      <td>0.0</td>\n      <td>0.0</td>\n      <td>singlet</td>\n    </tr>\n    <tr>\n      <th>1</th>\n      <td>AAACAGCCAGAATGAC.1</td>\n      <td>0.0</td>\n      <td>0.0</td>\n      <td>0.0</td>\n      <td>0.0</td>\n      <td>0.0</td>\n      <td>0.0</td>\n      <td>0.0</td>\n      <td>0.0</td>\n      <td>0.0</td>\n      <td>...</td>\n      <td>0.0</td>\n      <td>0.0</td>\n      <td>0.0</td>\n      <td>0.0</td>\n      <td>0.0</td>\n      <td>0.0</td>\n      <td>0.0</td>\n      <td>0.0</td>\n      <td>0.0</td>\n      <td>singlet</td>\n    </tr>\n    <tr>\n      <th>2</th>\n      <td>AAACAGCCAGCTACGT.1</td>\n      <td>0.0</td>\n      <td>0.0</td>\n      <td>0.0</td>\n      <td>0.0</td>\n      <td>0.0</td>\n      <td>0.0</td>\n      <td>0.0</td>\n      <td>0.0</td>\n      <td>0.0</td>\n      <td>...</td>\n      <td>0.0</td>\n      <td>0.0</td>\n      <td>0.0</td>\n      <td>0.0</td>\n      <td>0.0</td>\n      <td>0.0</td>\n      <td>0.0</td>\n      <td>0.0</td>\n      <td>0.0</td>\n      <td>singlet</td>\n    </tr>\n    <tr>\n      <th>3</th>\n      <td>AAACATGCAGCAATAA.1</td>\n      <td>0.0</td>\n      <td>0.0</td>\n      <td>0.0</td>\n      <td>0.0</td>\n      <td>0.0</td>\n      <td>0.0</td>\n      <td>0.0</td>\n      <td>0.0</td>\n      <td>0.0</td>\n      <td>...</td>\n      <td>0.0</td>\n      <td>0.0</td>\n      <td>0.0</td>\n      <td>0.0</td>\n      <td>0.0</td>\n      <td>0.0</td>\n      <td>0.0</td>\n      <td>0.0</td>\n      <td>0.0</td>\n      <td>singlet</td>\n    </tr>\n    <tr>\n      <th>4</th>\n      <td>AAACATGCAGTTTCTC.1</td>\n      <td>0.0</td>\n      <td>0.0</td>\n      <td>0.0</td>\n      <td>0.0</td>\n      <td>0.0</td>\n      <td>0.0</td>\n      <td>0.0</td>\n      <td>0.0</td>\n      <td>0.0</td>\n      <td>...</td>\n      <td>0.0</td>\n      <td>0.0</td>\n      <td>0.0</td>\n      <td>0.0</td>\n      <td>0.0</td>\n      <td>0.0</td>\n      <td>0.0</td>\n      <td>0.0</td>\n      <td>0.0</td>\n      <td>singlet</td>\n    </tr>\n    <tr>\n      <th>...</th>\n      <td>...</td>\n      <td>...</td>\n      <td>...</td>\n      <td>...</td>\n      <td>...</td>\n      <td>...</td>\n      <td>...</td>\n      <td>...</td>\n      <td>...</td>\n      <td>...</td>\n      <td>...</td>\n      <td>...</td>\n      <td>...</td>\n      <td>...</td>\n      <td>...</td>\n      <td>...</td>\n      <td>...</td>\n      <td>...</td>\n      <td>...</td>\n      <td>...</td>\n      <td>...</td>\n    </tr>\n    <tr>\n      <th>4007</th>\n      <td>TTTGTGGCAATGCGCT.1</td>\n      <td>0.0</td>\n      <td>0.0</td>\n      <td>0.0</td>\n      <td>0.0</td>\n      <td>0.0</td>\n      <td>0.0</td>\n      <td>0.0</td>\n      <td>0.0</td>\n      <td>0.0</td>\n      <td>...</td>\n      <td>0.0</td>\n      <td>0.0</td>\n      <td>0.0</td>\n      <td>0.0</td>\n      <td>0.0</td>\n      <td>0.0</td>\n      <td>0.0</td>\n      <td>0.0</td>\n      <td>0.0</td>\n      <td>singlet</td>\n    </tr>\n    <tr>\n      <th>4008</th>\n      <td>TTTGTGGCACGAATTT.1</td>\n      <td>0.0</td>\n      <td>0.0</td>\n      <td>0.0</td>\n      <td>0.0</td>\n      <td>0.0</td>\n      <td>0.0</td>\n      <td>0.0</td>\n      <td>0.0</td>\n      <td>0.0</td>\n      <td>...</td>\n      <td>0.0</td>\n      <td>0.0</td>\n      <td>0.0</td>\n      <td>0.0</td>\n      <td>0.0</td>\n      <td>0.0</td>\n      <td>0.0</td>\n      <td>0.0</td>\n      <td>0.0</td>\n      <td>singlet</td>\n    </tr>\n    <tr>\n      <th>4009</th>\n      <td>TTTGTGGCAGGCAAGC.1</td>\n      <td>0.0</td>\n      <td>0.0</td>\n      <td>0.0</td>\n      <td>0.0</td>\n      <td>0.0</td>\n      <td>0.0</td>\n      <td>0.0</td>\n      <td>0.0</td>\n      <td>0.0</td>\n      <td>...</td>\n      <td>0.0</td>\n      <td>0.0</td>\n      <td>0.0</td>\n      <td>0.0</td>\n      <td>0.0</td>\n      <td>0.0</td>\n      <td>0.0</td>\n      <td>0.0</td>\n      <td>0.0</td>\n      <td>singlet</td>\n    </tr>\n    <tr>\n      <th>4010</th>\n      <td>TTTGTGTTCAGTTCCC.1</td>\n      <td>0.0</td>\n      <td>0.0</td>\n      <td>0.0</td>\n      <td>0.0</td>\n      <td>0.0</td>\n      <td>0.0</td>\n      <td>0.0</td>\n      <td>0.0</td>\n      <td>0.0</td>\n      <td>...</td>\n      <td>0.0</td>\n      <td>0.0</td>\n      <td>0.0</td>\n      <td>0.0</td>\n      <td>0.0</td>\n      <td>0.0</td>\n      <td>0.0</td>\n      <td>0.0</td>\n      <td>0.0</td>\n      <td>singlet</td>\n    </tr>\n    <tr>\n      <th>4011</th>\n      <td>TTTGTTGGTATTTGCC.1</td>\n      <td>0.0</td>\n      <td>0.0</td>\n      <td>0.0</td>\n      <td>0.0</td>\n      <td>0.0</td>\n      <td>0.0</td>\n      <td>0.0</td>\n      <td>0.0</td>\n      <td>0.0</td>\n      <td>...</td>\n      <td>0.0</td>\n      <td>0.0</td>\n      <td>0.0</td>\n      <td>0.0</td>\n      <td>0.0</td>\n      <td>0.0</td>\n      <td>0.0</td>\n      <td>0.0</td>\n      <td>0.0</td>\n      <td>singlet</td>\n    </tr>\n  </tbody>\n</table>\n<p>4012 rows × 12603 columns</p>\n</div>"
     },
     "execution_count": 21,
     "metadata": {},
     "output_type": "execute_result"
    }
   ],
   "source": [
    "merged"
   ],
   "metadata": {
    "collapsed": false,
    "pycharm": {
     "name": "#%%\n"
    }
   }
  }
 ],
 "metadata": {
  "kernelspec": {
   "display_name": "Python 3",
   "language": "python",
   "name": "python3"
  },
  "language_info": {
   "codemirror_mode": {
    "name": "ipython",
    "version": 2
   },
   "file_extension": ".py",
   "mimetype": "text/x-python",
   "name": "python",
   "nbconvert_exporter": "python",
   "pygments_lexer": "ipython2",
   "version": "2.7.6"
  }
 },
 "nbformat": 4,
 "nbformat_minor": 0
}