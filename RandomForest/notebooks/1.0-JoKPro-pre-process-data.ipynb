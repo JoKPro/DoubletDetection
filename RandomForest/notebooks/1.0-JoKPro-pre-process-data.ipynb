{
 "cells": [
  {
   "cell_type": "code",
   "execution_count": 26,
   "metadata": {
    "collapsed": true,
    "pycharm": {
     "name": "#%%\n"
    }
   },
   "outputs": [
    {
     "ename": "ModuleNotFoundError",
     "evalue": "No module named 'umap'",
     "output_type": "error",
     "traceback": [
      "\u001B[0;31m---------------------------------------------------------------------------\u001B[0m",
      "\u001B[0;31mModuleNotFoundError\u001B[0m                       Traceback (most recent call last)",
      "Input \u001B[0;32mIn [26]\u001B[0m, in \u001B[0;36m<cell line: 13>\u001B[0;34m()\u001B[0m\n\u001B[1;32m     11\u001B[0m \u001B[38;5;28;01mimport\u001B[39;00m \u001B[38;5;21;01mrandom\u001B[39;00m\n\u001B[1;32m     12\u001B[0m \u001B[38;5;28;01mimport\u001B[39;00m \u001B[38;5;21;01mmatplotlib\u001B[39;00m\u001B[38;5;21;01m.\u001B[39;00m\u001B[38;5;21;01mpyplot\u001B[39;00m \u001B[38;5;28;01mas\u001B[39;00m \u001B[38;5;21;01mplt\u001B[39;00m\n\u001B[0;32m---> 13\u001B[0m \u001B[38;5;28;01mimport\u001B[39;00m \u001B[38;5;21;01mumap\u001B[39;00m\n",
      "\u001B[0;31mModuleNotFoundError\u001B[0m: No module named 'umap'"
     ]
    }
   ],
   "source": [
    "import tensorflow_decision_forests as tfdf\n",
    "from tensorflow import metrics\n",
    "import os\n",
    "import sys\n",
    "import numpy as np\n",
    "import datatable as dt\n",
    "from datatable import f\n",
    "import pandas as pd\n",
    "import tensorflow as tf\n",
    "import math\n",
    "import random\n",
    "import matplotlib.pyplot as plt\n"
   ]
  },
  {
   "cell_type": "code",
   "execution_count": 2,
   "outputs": [],
   "source": [
    "data = pd.read_csv(\"../data/processed/merged_reduced.csv\", index_col=0)"
   ],
   "metadata": {
    "collapsed": false,
    "pycharm": {
     "name": "#%%\n"
    }
   }
  },
  {
   "cell_type": "code",
   "execution_count": 3,
   "outputs": [],
   "source": [
    "data_reduced = data.drop(data.columns[np.random.choice(range(1, data.shape[1]-1), size=9000, replace=False)], axis=1)\n",
    "data_reduced = data_reduced.drop(np.random.choice(range(1, data_reduced.shape[0]), size=3000, replace=False), axis=0)"
   ],
   "metadata": {
    "collapsed": false,
    "pycharm": {
     "name": "#%%\n"
    }
   }
  },
  {
   "cell_type": "code",
   "execution_count": 4,
   "outputs": [
    {
     "data": {
      "text/plain": "                     C10  AL627309.1  AL627309.4  LINC01409  HES4  TTLL10-AS1  \\\n0     AAACAGCCAAAGCCTC.1         0.0         0.0        0.0   0.0         0.0   \n6     AAACCAACATTGTCCT.1         0.0         0.0        0.0   0.0         0.0   \n7     AAACCGAAGCGTGCGT.1         0.0         0.0        0.0   0.0         0.0   \n9     AAACCGCGTCTAACCT.1         0.0         0.0        0.0   0.0         0.0   \n13    AAACCGGCAAAGCTCC.1         0.0         0.0        0.0   0.0         0.0   \n...                  ...         ...         ...        ...   ...         ...   \n3986  TTTGCGACAGATAGAC.1         0.0         0.0        0.0   0.0         0.0   \n3993  TTTGGCTGTGACATAT.1         0.0         0.0        0.0   0.0         0.0   \n3996  TTTGGTAAGTAACGGA.1         0.0         0.0        0.0   0.0         0.0   \n4001  TTTGTCTAGCTGTACG.1         0.0         0.0        0.0   0.0         0.0   \n4002  TTTGTCTAGTAAACCC.1         0.0         0.0        0.0   0.0         0.0   \n\n      B3GALT6  AL162741.1  AL645728.1  CDK11B  ...  FAM41AY2  AC022486.1  \\\n0         0.0         0.0         0.0     0.0  ...       0.0         0.0   \n6         0.0         0.0         0.0     0.0  ...       0.0         0.0   \n7         0.0         0.0         0.0     0.0  ...       0.0         0.0   \n9         0.0         0.0         0.0     0.0  ...       0.0         0.0   \n13        0.0         0.0         0.0     0.0  ...       0.0         0.0   \n...       ...         ...         ...     ...  ...       ...         ...   \n3986      0.0         0.0         0.0     0.0  ...       0.0         0.0   \n3993      0.0         0.0         0.0     1.0  ...       0.0         0.0   \n3996      0.0         0.0         0.0     1.0  ...       0.0         0.0   \n4001      0.0         0.0         0.0     0.0  ...       0.0         0.0   \n4002      0.0         0.0         0.0     3.0  ...       0.0         0.0   \n\n      AC007244.1  TTTY6B  RBMY1J  MT-CO2  MT-ND4L  AC011841.1  AL354822.1  \\\n0            0.0     0.0     0.0    80.0      6.0         0.0         0.0   \n6            0.0     0.0     0.0    17.0      3.0         0.0         0.0   \n7            0.0     0.0     0.0    23.0      1.0         0.0         0.0   \n9            0.0     0.0     0.0   121.0      4.0         0.0         0.0   \n13           0.0     0.0     0.0    18.0      2.0         0.0         0.0   \n...          ...     ...     ...     ...      ...         ...         ...   \n3986         0.0     0.0     0.0    23.0      1.0         0.0         0.0   \n3993         0.0     0.0     0.0    50.0      4.0         0.0         0.0   \n3996         0.0     0.0     0.0   168.0      8.0         0.0         0.0   \n4001         0.0     0.0     0.0    27.0      0.0         0.0         0.0   \n4002         0.0     0.0     0.0   108.0     10.0         0.0         0.0   \n\n      cell_type  \n0       singlet  \n6       singlet  \n7       singlet  \n9          homo  \n13      singlet  \n...         ...  \n3986    singlet  \n3993    singlet  \n3996    singlet  \n4001    singlet  \n4002    singlet  \n\n[1012 rows x 3603 columns]",
      "text/html": "<div>\n<style scoped>\n    .dataframe tbody tr th:only-of-type {\n        vertical-align: middle;\n    }\n\n    .dataframe tbody tr th {\n        vertical-align: top;\n    }\n\n    .dataframe thead th {\n        text-align: right;\n    }\n</style>\n<table border=\"1\" class=\"dataframe\">\n  <thead>\n    <tr style=\"text-align: right;\">\n      <th></th>\n      <th>C10</th>\n      <th>AL627309.1</th>\n      <th>AL627309.4</th>\n      <th>LINC01409</th>\n      <th>HES4</th>\n      <th>TTLL10-AS1</th>\n      <th>B3GALT6</th>\n      <th>AL162741.1</th>\n      <th>AL645728.1</th>\n      <th>CDK11B</th>\n      <th>...</th>\n      <th>FAM41AY2</th>\n      <th>AC022486.1</th>\n      <th>AC007244.1</th>\n      <th>TTTY6B</th>\n      <th>RBMY1J</th>\n      <th>MT-CO2</th>\n      <th>MT-ND4L</th>\n      <th>AC011841.1</th>\n      <th>AL354822.1</th>\n      <th>cell_type</th>\n    </tr>\n  </thead>\n  <tbody>\n    <tr>\n      <th>0</th>\n      <td>AAACAGCCAAAGCCTC.1</td>\n      <td>0.0</td>\n      <td>0.0</td>\n      <td>0.0</td>\n      <td>0.0</td>\n      <td>0.0</td>\n      <td>0.0</td>\n      <td>0.0</td>\n      <td>0.0</td>\n      <td>0.0</td>\n      <td>...</td>\n      <td>0.0</td>\n      <td>0.0</td>\n      <td>0.0</td>\n      <td>0.0</td>\n      <td>0.0</td>\n      <td>80.0</td>\n      <td>6.0</td>\n      <td>0.0</td>\n      <td>0.0</td>\n      <td>singlet</td>\n    </tr>\n    <tr>\n      <th>6</th>\n      <td>AAACCAACATTGTCCT.1</td>\n      <td>0.0</td>\n      <td>0.0</td>\n      <td>0.0</td>\n      <td>0.0</td>\n      <td>0.0</td>\n      <td>0.0</td>\n      <td>0.0</td>\n      <td>0.0</td>\n      <td>0.0</td>\n      <td>...</td>\n      <td>0.0</td>\n      <td>0.0</td>\n      <td>0.0</td>\n      <td>0.0</td>\n      <td>0.0</td>\n      <td>17.0</td>\n      <td>3.0</td>\n      <td>0.0</td>\n      <td>0.0</td>\n      <td>singlet</td>\n    </tr>\n    <tr>\n      <th>7</th>\n      <td>AAACCGAAGCGTGCGT.1</td>\n      <td>0.0</td>\n      <td>0.0</td>\n      <td>0.0</td>\n      <td>0.0</td>\n      <td>0.0</td>\n      <td>0.0</td>\n      <td>0.0</td>\n      <td>0.0</td>\n      <td>0.0</td>\n      <td>...</td>\n      <td>0.0</td>\n      <td>0.0</td>\n      <td>0.0</td>\n      <td>0.0</td>\n      <td>0.0</td>\n      <td>23.0</td>\n      <td>1.0</td>\n      <td>0.0</td>\n      <td>0.0</td>\n      <td>singlet</td>\n    </tr>\n    <tr>\n      <th>9</th>\n      <td>AAACCGCGTCTAACCT.1</td>\n      <td>0.0</td>\n      <td>0.0</td>\n      <td>0.0</td>\n      <td>0.0</td>\n      <td>0.0</td>\n      <td>0.0</td>\n      <td>0.0</td>\n      <td>0.0</td>\n      <td>0.0</td>\n      <td>...</td>\n      <td>0.0</td>\n      <td>0.0</td>\n      <td>0.0</td>\n      <td>0.0</td>\n      <td>0.0</td>\n      <td>121.0</td>\n      <td>4.0</td>\n      <td>0.0</td>\n      <td>0.0</td>\n      <td>homo</td>\n    </tr>\n    <tr>\n      <th>13</th>\n      <td>AAACCGGCAAAGCTCC.1</td>\n      <td>0.0</td>\n      <td>0.0</td>\n      <td>0.0</td>\n      <td>0.0</td>\n      <td>0.0</td>\n      <td>0.0</td>\n      <td>0.0</td>\n      <td>0.0</td>\n      <td>0.0</td>\n      <td>...</td>\n      <td>0.0</td>\n      <td>0.0</td>\n      <td>0.0</td>\n      <td>0.0</td>\n      <td>0.0</td>\n      <td>18.0</td>\n      <td>2.0</td>\n      <td>0.0</td>\n      <td>0.0</td>\n      <td>singlet</td>\n    </tr>\n    <tr>\n      <th>...</th>\n      <td>...</td>\n      <td>...</td>\n      <td>...</td>\n      <td>...</td>\n      <td>...</td>\n      <td>...</td>\n      <td>...</td>\n      <td>...</td>\n      <td>...</td>\n      <td>...</td>\n      <td>...</td>\n      <td>...</td>\n      <td>...</td>\n      <td>...</td>\n      <td>...</td>\n      <td>...</td>\n      <td>...</td>\n      <td>...</td>\n      <td>...</td>\n      <td>...</td>\n      <td>...</td>\n    </tr>\n    <tr>\n      <th>3986</th>\n      <td>TTTGCGACAGATAGAC.1</td>\n      <td>0.0</td>\n      <td>0.0</td>\n      <td>0.0</td>\n      <td>0.0</td>\n      <td>0.0</td>\n      <td>0.0</td>\n      <td>0.0</td>\n      <td>0.0</td>\n      <td>0.0</td>\n      <td>...</td>\n      <td>0.0</td>\n      <td>0.0</td>\n      <td>0.0</td>\n      <td>0.0</td>\n      <td>0.0</td>\n      <td>23.0</td>\n      <td>1.0</td>\n      <td>0.0</td>\n      <td>0.0</td>\n      <td>singlet</td>\n    </tr>\n    <tr>\n      <th>3993</th>\n      <td>TTTGGCTGTGACATAT.1</td>\n      <td>0.0</td>\n      <td>0.0</td>\n      <td>0.0</td>\n      <td>0.0</td>\n      <td>0.0</td>\n      <td>0.0</td>\n      <td>0.0</td>\n      <td>0.0</td>\n      <td>1.0</td>\n      <td>...</td>\n      <td>0.0</td>\n      <td>0.0</td>\n      <td>0.0</td>\n      <td>0.0</td>\n      <td>0.0</td>\n      <td>50.0</td>\n      <td>4.0</td>\n      <td>0.0</td>\n      <td>0.0</td>\n      <td>singlet</td>\n    </tr>\n    <tr>\n      <th>3996</th>\n      <td>TTTGGTAAGTAACGGA.1</td>\n      <td>0.0</td>\n      <td>0.0</td>\n      <td>0.0</td>\n      <td>0.0</td>\n      <td>0.0</td>\n      <td>0.0</td>\n      <td>0.0</td>\n      <td>0.0</td>\n      <td>1.0</td>\n      <td>...</td>\n      <td>0.0</td>\n      <td>0.0</td>\n      <td>0.0</td>\n      <td>0.0</td>\n      <td>0.0</td>\n      <td>168.0</td>\n      <td>8.0</td>\n      <td>0.0</td>\n      <td>0.0</td>\n      <td>singlet</td>\n    </tr>\n    <tr>\n      <th>4001</th>\n      <td>TTTGTCTAGCTGTACG.1</td>\n      <td>0.0</td>\n      <td>0.0</td>\n      <td>0.0</td>\n      <td>0.0</td>\n      <td>0.0</td>\n      <td>0.0</td>\n      <td>0.0</td>\n      <td>0.0</td>\n      <td>0.0</td>\n      <td>...</td>\n      <td>0.0</td>\n      <td>0.0</td>\n      <td>0.0</td>\n      <td>0.0</td>\n      <td>0.0</td>\n      <td>27.0</td>\n      <td>0.0</td>\n      <td>0.0</td>\n      <td>0.0</td>\n      <td>singlet</td>\n    </tr>\n    <tr>\n      <th>4002</th>\n      <td>TTTGTCTAGTAAACCC.1</td>\n      <td>0.0</td>\n      <td>0.0</td>\n      <td>0.0</td>\n      <td>0.0</td>\n      <td>0.0</td>\n      <td>0.0</td>\n      <td>0.0</td>\n      <td>0.0</td>\n      <td>3.0</td>\n      <td>...</td>\n      <td>0.0</td>\n      <td>0.0</td>\n      <td>0.0</td>\n      <td>0.0</td>\n      <td>0.0</td>\n      <td>108.0</td>\n      <td>10.0</td>\n      <td>0.0</td>\n      <td>0.0</td>\n      <td>singlet</td>\n    </tr>\n  </tbody>\n</table>\n<p>1012 rows × 3603 columns</p>\n</div>"
     },
     "execution_count": 4,
     "metadata": {},
     "output_type": "execute_result"
    }
   ],
   "source": [
    "data_reduced"
   ],
   "metadata": {
    "collapsed": false,
    "pycharm": {
     "name": "#%%\n"
    }
   }
  },
  {
   "cell_type": "markdown",
   "source": [
    "## Feature selection -> reduce number of columns\n",
    "- filter correlated columns\n",
    "\n",
    "## Try out Projected data\n",
    "- UMAP ?\n",
    "- t-SNE\n",
    "- PCA"
   ],
   "metadata": {
    "collapsed": false,
    "pycharm": {
     "name": "#%% md\n"
    }
   }
  },
  {
   "cell_type": "markdown",
   "source": [
    "### feature selection"
   ],
   "metadata": {
    "collapsed": false,
    "pycharm": {
     "name": "#%% md\n"
    }
   }
  },
  {
   "cell_type": "code",
   "execution_count": 10,
   "outputs": [],
   "source": [
    "features = data_reduced.iloc[:, 1:-1]"
   ],
   "metadata": {
    "collapsed": false,
    "pycharm": {
     "name": "#%%\n"
    }
   }
  },
  {
   "cell_type": "code",
   "execution_count": 11,
   "outputs": [],
   "source": [
    "corr_mat = features.corr().abs()"
   ],
   "metadata": {
    "collapsed": false,
    "pycharm": {
     "name": "#%%\n"
    }
   }
  },
  {
   "cell_type": "code",
   "execution_count": 12,
   "outputs": [
    {
     "name": "stderr",
     "output_type": "stream",
     "text": [
      "/tmp/ipykernel_681515/4277379874.py:1: DeprecationWarning: `np.bool` is a deprecated alias for the builtin `bool`. To silence this warning, use `bool` by itself. Doing this will not modify any behavior and is safe. If you specifically wanted the numpy scalar type, use `np.bool_` here.\n",
      "Deprecated in NumPy 1.20; for more details and guidance: https://numpy.org/devdocs/release/1.20.0-notes.html#deprecations\n",
      "  upper_tri = corr_mat.where(np.triu(np.ones(corr_mat.shape), k=1).astype(np.bool))\n"
     ]
    }
   ],
   "source": [
    "upper_tri = corr_mat.where(np.triu(np.ones(corr_mat.shape), k=1).astype(np.bool))"
   ],
   "metadata": {
    "collapsed": false,
    "pycharm": {
     "name": "#%%\n"
    }
   }
  },
  {
   "cell_type": "code",
   "execution_count": 13,
   "outputs": [
    {
     "data": {
      "text/plain": "68"
     },
     "execution_count": 13,
     "metadata": {},
     "output_type": "execute_result"
    }
   ],
   "source": [
    "to_drop = [column for column in upper_tri.columns if any(upper_tri[column] > 0.95)]\n",
    "len(to_drop)"
   ],
   "metadata": {
    "collapsed": false,
    "pycharm": {
     "name": "#%%\n"
    }
   }
  },
  {
   "cell_type": "code",
   "execution_count": 24,
   "outputs": [],
   "source": [
    "features_filtered = features.drop(to_drop, axis=1)"
   ],
   "metadata": {
    "collapsed": false,
    "pycharm": {
     "name": "#%%\n"
    }
   }
  },
  {
   "cell_type": "code",
   "execution_count": 25,
   "outputs": [
    {
     "data": {
      "text/plain": "      AL627309.1  AL627309.4  LINC01409  HES4  TTLL10-AS1  B3GALT6  \\\n0            0.0         0.0        0.0   0.0         0.0      0.0   \n6            0.0         0.0        0.0   0.0         0.0      0.0   \n7            0.0         0.0        0.0   0.0         0.0      0.0   \n9            0.0         0.0        0.0   0.0         0.0      0.0   \n13           0.0         0.0        0.0   0.0         0.0      0.0   \n...          ...         ...        ...   ...         ...      ...   \n3986         0.0         0.0        0.0   0.0         0.0      0.0   \n3993         0.0         0.0        0.0   0.0         0.0      0.0   \n3996         0.0         0.0        0.0   0.0         0.0      0.0   \n4001         0.0         0.0        0.0   0.0         0.0      0.0   \n4002         0.0         0.0        0.0   0.0         0.0      0.0   \n\n      AL162741.1  AL645728.1  CDK11B  AL139246.5  ...  AC011751.1  FAM41AY2  \\\n0            0.0         0.0     0.0         0.0  ...         0.0       0.0   \n6            0.0         0.0     0.0         0.0  ...         0.0       0.0   \n7            0.0         0.0     0.0         0.0  ...         0.0       0.0   \n9            0.0         0.0     0.0         0.0  ...         0.0       0.0   \n13           0.0         0.0     0.0         0.0  ...         0.0       0.0   \n...          ...         ...     ...         ...  ...         ...       ...   \n3986         0.0         0.0     0.0         0.0  ...         0.0       0.0   \n3993         0.0         0.0     1.0         0.0  ...         0.0       0.0   \n3996         0.0         0.0     1.0         0.0  ...         0.0       0.0   \n4001         0.0         0.0     0.0         0.0  ...         0.0       0.0   \n4002         0.0         0.0     3.0         0.0  ...         0.0       0.0   \n\n      AC022486.1  AC007244.1  TTTY6B  RBMY1J  MT-CO2  MT-ND4L  AC011841.1  \\\n0            0.0         0.0     0.0     0.0    80.0      6.0         0.0   \n6            0.0         0.0     0.0     0.0    17.0      3.0         0.0   \n7            0.0         0.0     0.0     0.0    23.0      1.0         0.0   \n9            0.0         0.0     0.0     0.0   121.0      4.0         0.0   \n13           0.0         0.0     0.0     0.0    18.0      2.0         0.0   \n...          ...         ...     ...     ...     ...      ...         ...   \n3986         0.0         0.0     0.0     0.0    23.0      1.0         0.0   \n3993         0.0         0.0     0.0     0.0    50.0      4.0         0.0   \n3996         0.0         0.0     0.0     0.0   168.0      8.0         0.0   \n4001         0.0         0.0     0.0     0.0    27.0      0.0         0.0   \n4002         0.0         0.0     0.0     0.0   108.0     10.0         0.0   \n\n      AL354822.1  \n0            0.0  \n6            0.0  \n7            0.0  \n9            0.0  \n13           0.0  \n...          ...  \n3986         0.0  \n3993         0.0  \n3996         0.0  \n4001         0.0  \n4002         0.0  \n\n[1012 rows x 3533 columns]",
      "text/html": "<div>\n<style scoped>\n    .dataframe tbody tr th:only-of-type {\n        vertical-align: middle;\n    }\n\n    .dataframe tbody tr th {\n        vertical-align: top;\n    }\n\n    .dataframe thead th {\n        text-align: right;\n    }\n</style>\n<table border=\"1\" class=\"dataframe\">\n  <thead>\n    <tr style=\"text-align: right;\">\n      <th></th>\n      <th>AL627309.1</th>\n      <th>AL627309.4</th>\n      <th>LINC01409</th>\n      <th>HES4</th>\n      <th>TTLL10-AS1</th>\n      <th>B3GALT6</th>\n      <th>AL162741.1</th>\n      <th>AL645728.1</th>\n      <th>CDK11B</th>\n      <th>AL139246.5</th>\n      <th>...</th>\n      <th>AC011751.1</th>\n      <th>FAM41AY2</th>\n      <th>AC022486.1</th>\n      <th>AC007244.1</th>\n      <th>TTTY6B</th>\n      <th>RBMY1J</th>\n      <th>MT-CO2</th>\n      <th>MT-ND4L</th>\n      <th>AC011841.1</th>\n      <th>AL354822.1</th>\n    </tr>\n  </thead>\n  <tbody>\n    <tr>\n      <th>0</th>\n      <td>0.0</td>\n      <td>0.0</td>\n      <td>0.0</td>\n      <td>0.0</td>\n      <td>0.0</td>\n      <td>0.0</td>\n      <td>0.0</td>\n      <td>0.0</td>\n      <td>0.0</td>\n      <td>0.0</td>\n      <td>...</td>\n      <td>0.0</td>\n      <td>0.0</td>\n      <td>0.0</td>\n      <td>0.0</td>\n      <td>0.0</td>\n      <td>0.0</td>\n      <td>80.0</td>\n      <td>6.0</td>\n      <td>0.0</td>\n      <td>0.0</td>\n    </tr>\n    <tr>\n      <th>6</th>\n      <td>0.0</td>\n      <td>0.0</td>\n      <td>0.0</td>\n      <td>0.0</td>\n      <td>0.0</td>\n      <td>0.0</td>\n      <td>0.0</td>\n      <td>0.0</td>\n      <td>0.0</td>\n      <td>0.0</td>\n      <td>...</td>\n      <td>0.0</td>\n      <td>0.0</td>\n      <td>0.0</td>\n      <td>0.0</td>\n      <td>0.0</td>\n      <td>0.0</td>\n      <td>17.0</td>\n      <td>3.0</td>\n      <td>0.0</td>\n      <td>0.0</td>\n    </tr>\n    <tr>\n      <th>7</th>\n      <td>0.0</td>\n      <td>0.0</td>\n      <td>0.0</td>\n      <td>0.0</td>\n      <td>0.0</td>\n      <td>0.0</td>\n      <td>0.0</td>\n      <td>0.0</td>\n      <td>0.0</td>\n      <td>0.0</td>\n      <td>...</td>\n      <td>0.0</td>\n      <td>0.0</td>\n      <td>0.0</td>\n      <td>0.0</td>\n      <td>0.0</td>\n      <td>0.0</td>\n      <td>23.0</td>\n      <td>1.0</td>\n      <td>0.0</td>\n      <td>0.0</td>\n    </tr>\n    <tr>\n      <th>9</th>\n      <td>0.0</td>\n      <td>0.0</td>\n      <td>0.0</td>\n      <td>0.0</td>\n      <td>0.0</td>\n      <td>0.0</td>\n      <td>0.0</td>\n      <td>0.0</td>\n      <td>0.0</td>\n      <td>0.0</td>\n      <td>...</td>\n      <td>0.0</td>\n      <td>0.0</td>\n      <td>0.0</td>\n      <td>0.0</td>\n      <td>0.0</td>\n      <td>0.0</td>\n      <td>121.0</td>\n      <td>4.0</td>\n      <td>0.0</td>\n      <td>0.0</td>\n    </tr>\n    <tr>\n      <th>13</th>\n      <td>0.0</td>\n      <td>0.0</td>\n      <td>0.0</td>\n      <td>0.0</td>\n      <td>0.0</td>\n      <td>0.0</td>\n      <td>0.0</td>\n      <td>0.0</td>\n      <td>0.0</td>\n      <td>0.0</td>\n      <td>...</td>\n      <td>0.0</td>\n      <td>0.0</td>\n      <td>0.0</td>\n      <td>0.0</td>\n      <td>0.0</td>\n      <td>0.0</td>\n      <td>18.0</td>\n      <td>2.0</td>\n      <td>0.0</td>\n      <td>0.0</td>\n    </tr>\n    <tr>\n      <th>...</th>\n      <td>...</td>\n      <td>...</td>\n      <td>...</td>\n      <td>...</td>\n      <td>...</td>\n      <td>...</td>\n      <td>...</td>\n      <td>...</td>\n      <td>...</td>\n      <td>...</td>\n      <td>...</td>\n      <td>...</td>\n      <td>...</td>\n      <td>...</td>\n      <td>...</td>\n      <td>...</td>\n      <td>...</td>\n      <td>...</td>\n      <td>...</td>\n      <td>...</td>\n      <td>...</td>\n    </tr>\n    <tr>\n      <th>3986</th>\n      <td>0.0</td>\n      <td>0.0</td>\n      <td>0.0</td>\n      <td>0.0</td>\n      <td>0.0</td>\n      <td>0.0</td>\n      <td>0.0</td>\n      <td>0.0</td>\n      <td>0.0</td>\n      <td>0.0</td>\n      <td>...</td>\n      <td>0.0</td>\n      <td>0.0</td>\n      <td>0.0</td>\n      <td>0.0</td>\n      <td>0.0</td>\n      <td>0.0</td>\n      <td>23.0</td>\n      <td>1.0</td>\n      <td>0.0</td>\n      <td>0.0</td>\n    </tr>\n    <tr>\n      <th>3993</th>\n      <td>0.0</td>\n      <td>0.0</td>\n      <td>0.0</td>\n      <td>0.0</td>\n      <td>0.0</td>\n      <td>0.0</td>\n      <td>0.0</td>\n      <td>0.0</td>\n      <td>1.0</td>\n      <td>0.0</td>\n      <td>...</td>\n      <td>0.0</td>\n      <td>0.0</td>\n      <td>0.0</td>\n      <td>0.0</td>\n      <td>0.0</td>\n      <td>0.0</td>\n      <td>50.0</td>\n      <td>4.0</td>\n      <td>0.0</td>\n      <td>0.0</td>\n    </tr>\n    <tr>\n      <th>3996</th>\n      <td>0.0</td>\n      <td>0.0</td>\n      <td>0.0</td>\n      <td>0.0</td>\n      <td>0.0</td>\n      <td>0.0</td>\n      <td>0.0</td>\n      <td>0.0</td>\n      <td>1.0</td>\n      <td>0.0</td>\n      <td>...</td>\n      <td>0.0</td>\n      <td>0.0</td>\n      <td>0.0</td>\n      <td>0.0</td>\n      <td>0.0</td>\n      <td>0.0</td>\n      <td>168.0</td>\n      <td>8.0</td>\n      <td>0.0</td>\n      <td>0.0</td>\n    </tr>\n    <tr>\n      <th>4001</th>\n      <td>0.0</td>\n      <td>0.0</td>\n      <td>0.0</td>\n      <td>0.0</td>\n      <td>0.0</td>\n      <td>0.0</td>\n      <td>0.0</td>\n      <td>0.0</td>\n      <td>0.0</td>\n      <td>0.0</td>\n      <td>...</td>\n      <td>0.0</td>\n      <td>0.0</td>\n      <td>0.0</td>\n      <td>0.0</td>\n      <td>0.0</td>\n      <td>0.0</td>\n      <td>27.0</td>\n      <td>0.0</td>\n      <td>0.0</td>\n      <td>0.0</td>\n    </tr>\n    <tr>\n      <th>4002</th>\n      <td>0.0</td>\n      <td>0.0</td>\n      <td>0.0</td>\n      <td>0.0</td>\n      <td>0.0</td>\n      <td>0.0</td>\n      <td>0.0</td>\n      <td>0.0</td>\n      <td>3.0</td>\n      <td>0.0</td>\n      <td>...</td>\n      <td>0.0</td>\n      <td>0.0</td>\n      <td>0.0</td>\n      <td>0.0</td>\n      <td>0.0</td>\n      <td>0.0</td>\n      <td>108.0</td>\n      <td>10.0</td>\n      <td>0.0</td>\n      <td>0.0</td>\n    </tr>\n  </tbody>\n</table>\n<p>1012 rows × 3533 columns</p>\n</div>"
     },
     "execution_count": 25,
     "metadata": {},
     "output_type": "execute_result"
    }
   ],
   "source": [
    "features_filtered"
   ],
   "metadata": {
    "collapsed": false,
    "pycharm": {
     "name": "#%%\n"
    }
   }
  },
  {
   "cell_type": "markdown",
   "source": [
    "### Project data"
   ],
   "metadata": {
    "collapsed": false,
    "pycharm": {
     "name": "#%% md\n"
    }
   }
  },
  {
   "cell_type": "code",
   "execution_count": null,
   "outputs": [],
   "source": [],
   "metadata": {
    "collapsed": false,
    "pycharm": {
     "name": "#%%\n"
    }
   }
  }
 ],
 "metadata": {
  "kernelspec": {
   "display_name": "Python 3",
   "language": "python",
   "name": "python3"
  },
  "language_info": {
   "codemirror_mode": {
    "name": "ipython",
    "version": 2
   },
   "file_extension": ".py",
   "mimetype": "text/x-python",
   "name": "python",
   "nbconvert_exporter": "python",
   "pygments_lexer": "ipython2",
   "version": "2.7.6"
  }
 },
 "nbformat": 4,
 "nbformat_minor": 0
}