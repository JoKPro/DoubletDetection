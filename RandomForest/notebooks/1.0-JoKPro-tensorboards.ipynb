{
 "cells": [
  {
   "cell_type": "code",
   "execution_count": 1,
   "metadata": {
    "collapsed": true,
    "pycharm": {
     "name": "#%%\n"
    }
   },
   "outputs": [],
   "source": [
    "import numpy as np\n",
    "%load_ext tensorboard"
   ]
  },
  {
   "cell_type": "markdown",
   "source": [],
   "metadata": {
    "collapsed": false,
    "pycharm": {
     "name": "#%% md\n"
    }
   }
  },
  {
   "cell_type": "code",
   "execution_count": 3,
   "outputs": [
    {
     "data": {
      "text/plain": "Launching TensorBoard..."
     },
     "metadata": {},
     "output_type": "display_data"
    },
    {
     "data": {
      "text/plain": "<IPython.core.display.HTML object>",
      "text/html": "\n      <iframe id=\"tensorboard-frame-3e26eec3d489cc73\" width=\"100%\" height=\"800\" frameborder=\"0\">\n      </iframe>\n      <script>\n        (function() {\n          const frame = document.getElementById(\"tensorboard-frame-3e26eec3d489cc73\");\n          const url = new URL(\"/\", window.location);\n          const port = 6006;\n          if (port) {\n            url.port = port;\n          }\n          frame.src = url;\n        })();\n      </script>\n    "
     },
     "metadata": {},
     "output_type": "display_data"
    }
   ],
   "source": [
    "%tensorboard --logdir ../results/Callbacks/main_rf_preprocessed_50_RandomForest\n"
   ],
   "metadata": {
    "collapsed": false,
    "pycharm": {
     "name": "#%%\n"
    }
   }
  },
  {
   "cell_type": "code",
   "execution_count": 2,
   "outputs": [],
   "source": [
    "import itertools\n",
    "import pandas as pd\n",
    "import numpy as np\n",
    "import seaborn as sns\n",
    "import matplotlib.pyplot as plt\n",
    "from sklearn.metrics import confusion_matrix, roc_curve\n",
    "my_dict = {\"label1\": {\"precision\": 0.5,\n",
    "                      \"recall\": 0.3},\n",
    "           \"label2\": {\"precision\": 0.3,\n",
    "                      \"recall\": 0.3}}"
   ],
   "metadata": {
    "collapsed": false,
    "pycharm": {
     "name": "#%%\n"
    }
   }
  },
  {
   "cell_type": "markdown",
   "source": [],
   "metadata": {
    "collapsed": false,
    "pycharm": {
     "name": "#%% md\n"
    }
   }
  },
  {
   "cell_type": "code",
   "execution_count": 2,
   "outputs": [
    {
     "ename": "TypeError",
     "evalue": "unhashable type: 'list'",
     "output_type": "error",
     "traceback": [
      "\u001B[0;31m---------------------------------------------------------------------------\u001B[0m",
      "\u001B[0;31mTypeError\u001B[0m                                 Traceback (most recent call last)",
      "Input \u001B[0;32mIn [2]\u001B[0m, in \u001B[0;36m<cell line: 1>\u001B[0;34m()\u001B[0m\n\u001B[0;32m----> 1\u001B[0m \u001B[43mmy_dict\u001B[49m\u001B[43m[\u001B[49m\u001B[43m[\u001B[49m\u001B[38;5;124;43m\"\u001B[39;49m\u001B[38;5;124;43mlabel1\u001B[39;49m\u001B[38;5;124;43m\"\u001B[39;49m\u001B[43m,\u001B[49m\u001B[43m \u001B[49m\u001B[38;5;124;43m\"\u001B[39;49m\u001B[38;5;124;43mlabel2\u001B[39;49m\u001B[38;5;124;43m\"\u001B[39;49m\u001B[43m]\u001B[49m\u001B[43m]\u001B[49m\n",
      "\u001B[0;31mTypeError\u001B[0m: unhashable type: 'list'"
     ]
    }
   ],
   "source": [
    "dict(itertools.islice())"
   ],
   "metadata": {
    "collapsed": false,
    "pycharm": {
     "name": "#%%\n"
    }
   }
  },
  {
   "cell_type": "code",
   "execution_count": 25,
   "outputs": [
    {
     "data": {
      "text/plain": "array([[1, 5],\n       [2, 6],\n       [3, 7],\n       [4, 8],\n       [5, 9]])"
     },
     "execution_count": 25,
     "metadata": {},
     "output_type": "execute_result"
    }
   ],
   "source": [
    "col = pd.DataFrame({\"a\": [1,2,3,4,5]})\n",
    "y = [1 if y ==2 else 0 for y in col]\n",
    "col[\"b\"] = [5,6,7,8,9]\n",
    "np.array(col)"
   ],
   "metadata": {
    "collapsed": false,
    "pycharm": {
     "name": "#%%\n"
    }
   }
  },
  {
   "cell_type": "code",
   "execution_count": 35,
   "outputs": [
    {
     "data": {
      "text/plain": "array([6, 9])"
     },
     "execution_count": 35,
     "metadata": {},
     "output_type": "execute_result"
    }
   ],
   "source": [
    "x = np.array([[1,2,3], [3,3,3]])\n",
    "x.sum(axis=1)"
   ],
   "metadata": {
    "collapsed": false,
    "pycharm": {
     "name": "#%%\n"
    }
   }
  },
  {
   "cell_type": "code",
   "execution_count": 4,
   "outputs": [
    {
     "data": {
      "text/plain": "array([1. , 0.8, 0.6, 0.4, 0.2])"
     },
     "execution_count": 4,
     "metadata": {},
     "output_type": "execute_result"
    }
   ],
   "source": [
    "np.arange(1,0 , 0.2)"
   ],
   "metadata": {
    "collapsed": false,
    "pycharm": {
     "name": "#%%\n"
    }
   }
  },
  {
   "cell_type": "code",
   "execution_count": 54,
   "outputs": [
    {
     "data": {
      "text/plain": "<AxesSubplot:xlabel='a', ylabel='b'>"
     },
     "execution_count": 54,
     "metadata": {},
     "output_type": "execute_result"
    },
    {
     "data": {
      "text/plain": "<Figure size 432x288 with 1 Axes>",
      "image/png": "[encoded data removed]"
     },
     "metadata": {
      "needs_background": "light"
     },
     "output_type": "display_data"
    }
   ],
   "source": [
    "fig, ax2 = plt.subplots(1,1)\n",
    "dat = {\"a\": [1,2,3], \"b\": [4,5,6]}\n",
    "dat2 = {\"a\": [3,4,5,6], \"b\": [5,6,3,7]}\n",
    "dat = pd.DataFrame(dat)\n",
    "dat[\"project\"] = \"This\"\n",
    "dat2 = pd.DataFrame(dat2)\n",
    "dat2[\"project\"] = \"That\"\n",
    "tot = pd.concat([dat, dat2], ignore_index=True)\n",
    "sns.lineplot(x=\"a\", y=\"b\", data=tot, ax=ax2, hue=\"project\")"
   ],
   "metadata": {
    "collapsed": false,
    "pycharm": {
     "name": "#%%\n"
    }
   }
  },
  {
   "cell_type": "code",
   "execution_count": 68,
   "outputs": [],
   "source": [
    "fpr = dict()"
   ],
   "metadata": {
    "collapsed": false,
    "pycharm": {
     "name": "#%%\n"
    }
   }
  },
  {
   "cell_type": "code",
   "execution_count": 69,
   "outputs": [],
   "source": [
    "fpr.update({\"hetero\": {\"a\": []}})\n",
    "fpr.update({\"homo\": []})"
   ],
   "metadata": {
    "collapsed": false,
    "pycharm": {
     "name": "#%%\n"
    }
   }
  },
  {
   "cell_type": "code",
   "execution_count": 72,
   "outputs": [
    {
     "data": {
      "text/plain": "[]"
     },
     "execution_count": 72,
     "metadata": {},
     "output_type": "execute_result"
    }
   ],
   "source": [
    "fpr[\"hetero\"][\"a\"]"
   ],
   "metadata": {
    "collapsed": false,
    "pycharm": {
     "name": "#%%\n"
    }
   }
  },
  {
   "cell_type": "code",
   "execution_count": 64,
   "outputs": [],
   "source": [
    "x = []\n",
    "x.append(dat)"
   ],
   "metadata": {
    "collapsed": false,
    "pycharm": {
     "name": "#%%\n"
    }
   }
  },
  {
   "cell_type": "code",
   "execution_count": 65,
   "outputs": [
    {
     "data": {
      "text/plain": "[   a  b project\n 0  1  4    This\n 1  2  5    This\n 2  3  6    This]"
     },
     "execution_count": 65,
     "metadata": {},
     "output_type": "execute_result"
    }
   ],
   "source": [
    "x"
   ],
   "metadata": {
    "collapsed": false,
    "pycharm": {
     "name": "#%%\n"
    }
   }
  },
  {
   "cell_type": "code",
   "execution_count": 6,
   "outputs": [],
   "source": [
    "prediction = pd.read_csv(f\"../models/pbmc_hvg_500/prediction.csv\", index_col=0)\n",
    "prediction = prediction.drop(\"prediction\", axis=1)\n",
    "labels = pd.read_csv(f\"../models/pbmc_hvg_500/test_set.csv\", index_col=0)[\"cell_type\"]\n"
   ],
   "metadata": {
    "collapsed": false,
    "pycharm": {
     "name": "#%%\n"
    }
   }
  },
  {
   "cell_type": "code",
   "execution_count": 5,
   "outputs": [],
   "source": [
    "classes = [\"singlet\", \"hetero\"]\n",
    "c1 = classes[0]\n",
    "c2 = classes[1]"
   ],
   "metadata": {
    "collapsed": false,
    "pycharm": {
     "name": "#%%\n"
    }
   }
  },
  {
   "cell_type": "code",
   "execution_count": 8,
   "outputs": [],
   "source": [
    "aux = prediction.copy(deep=True)\n",
    "aux[\"class\"] = labels\n",
    "aux = aux[(aux[\"class\"] == c1) | (aux[\"class\"] == c2)]"
   ],
   "metadata": {
    "collapsed": false,
    "pycharm": {
     "name": "#%%\n"
    }
   }
  },
  {
   "cell_type": "code",
   "execution_count": 12,
   "outputs": [
    {
     "data": {
      "text/plain": "      hetero   homo  singlet    class\n0      0.031  0.261    0.708  singlet\n8      0.045  0.304    0.650  singlet\n10     0.006  0.043    0.951  singlet\n12     0.012  0.036    0.952  singlet\n16     0.004  0.030    0.966  singlet\n...      ...    ...      ...      ...\n3625   0.002  0.002    0.996  singlet\n3635   0.011  0.051    0.938  singlet\n3636   0.034  0.134    0.832  singlet\n3640   0.007  0.037    0.956  singlet\n3641   0.003  0.019    0.978  singlet\n\n[1066 rows x 4 columns]",
      "text/html": "<div>\n<style scoped>\n    .dataframe tbody tr th:only-of-type {\n        vertical-align: middle;\n    }\n\n    .dataframe tbody tr th {\n        vertical-align: top;\n    }\n\n    .dataframe thead th {\n        text-align: right;\n    }\n</style>\n<table border=\"1\" class=\"dataframe\">\n  <thead>\n    <tr style=\"text-align: right;\">\n      <th></th>\n      <th>hetero</th>\n      <th>homo</th>\n      <th>singlet</th>\n      <th>class</th>\n    </tr>\n  </thead>\n  <tbody>\n    <tr>\n      <th>0</th>\n      <td>0.031</td>\n      <td>0.261</td>\n      <td>0.708</td>\n      <td>singlet</td>\n    </tr>\n    <tr>\n      <th>8</th>\n      <td>0.045</td>\n      <td>0.304</td>\n      <td>0.650</td>\n      <td>singlet</td>\n    </tr>\n    <tr>\n      <th>10</th>\n      <td>0.006</td>\n      <td>0.043</td>\n      <td>0.951</td>\n      <td>singlet</td>\n    </tr>\n    <tr>\n      <th>12</th>\n      <td>0.012</td>\n      <td>0.036</td>\n      <td>0.952</td>\n      <td>singlet</td>\n    </tr>\n    <tr>\n      <th>16</th>\n      <td>0.004</td>\n      <td>0.030</td>\n      <td>0.966</td>\n      <td>singlet</td>\n    </tr>\n    <tr>\n      <th>...</th>\n      <td>...</td>\n      <td>...</td>\n      <td>...</td>\n      <td>...</td>\n    </tr>\n    <tr>\n      <th>3625</th>\n      <td>0.002</td>\n      <td>0.002</td>\n      <td>0.996</td>\n      <td>singlet</td>\n    </tr>\n    <tr>\n      <th>3635</th>\n      <td>0.011</td>\n      <td>0.051</td>\n      <td>0.938</td>\n      <td>singlet</td>\n    </tr>\n    <tr>\n      <th>3636</th>\n      <td>0.034</td>\n      <td>0.134</td>\n      <td>0.832</td>\n      <td>singlet</td>\n    </tr>\n    <tr>\n      <th>3640</th>\n      <td>0.007</td>\n      <td>0.037</td>\n      <td>0.956</td>\n      <td>singlet</td>\n    </tr>\n    <tr>\n      <th>3641</th>\n      <td>0.003</td>\n      <td>0.019</td>\n      <td>0.978</td>\n      <td>singlet</td>\n    </tr>\n  </tbody>\n</table>\n<p>1066 rows × 4 columns</p>\n</div>"
     },
     "execution_count": 12,
     "metadata": {},
     "output_type": "execute_result"
    }
   ],
   "source": [
    "aux"
   ],
   "metadata": {
    "collapsed": false,
    "pycharm": {
     "name": "#%%\n"
    }
   }
  },
  {
   "cell_type": "code",
   "execution_count": 19,
   "outputs": [],
   "source": [
    "t_name = [\"t0.0\", \"t0.3\", \"t0.5\", \"t0.8\", \"t1.0\"]\n",
    "t = [0, 0.3, 0.5, 0.8, 1.0]\n",
    "thresholds = dict(zip(t_name, t))\n",
    "for t in thresholds.keys():\n",
    "    aux[t] = [1 if y >= thresholds[t] else 0 for y in aux[\"singlet\"]]\n",
    "aux[\"labels\"] = [1 if y == \"singlet\" else 0 for y in aux[\"class\"]]"
   ],
   "metadata": {
    "collapsed": false,
    "pycharm": {
     "name": "#%%\n"
    }
   }
  },
  {
   "cell_type": "code",
   "execution_count": 31,
   "outputs": [
    {
     "data": {
      "text/plain": "      hetero   homo  singlet    class  t0.0  t0.3  t0.5  t0.8  t1.0  labels\n0      0.031  0.261    0.708  singlet     1     1     1     0     0       1\n8      0.045  0.304    0.650  singlet     1     1     1     0     0       1\n10     0.006  0.043    0.951  singlet     1     1     1     1     0       1\n12     0.012  0.036    0.952  singlet     1     1     1     1     0       1\n16     0.004  0.030    0.966  singlet     1     1     1     1     0       1\n...      ...    ...      ...      ...   ...   ...   ...   ...   ...     ...\n3625   0.002  0.002    0.996  singlet     1     1     1     1     0       1\n3635   0.011  0.051    0.938  singlet     1     1     1     1     0       1\n3636   0.034  0.134    0.832  singlet     1     1     1     1     0       1\n3640   0.007  0.037    0.956  singlet     1     1     1     1     0       1\n3641   0.003  0.019    0.978  singlet     1     1     1     1     0       1\n\n[1066 rows x 10 columns]",
      "text/html": "<div>\n<style scoped>\n    .dataframe tbody tr th:only-of-type {\n        vertical-align: middle;\n    }\n\n    .dataframe tbody tr th {\n        vertical-align: top;\n    }\n\n    .dataframe thead th {\n        text-align: right;\n    }\n</style>\n<table border=\"1\" class=\"dataframe\">\n  <thead>\n    <tr style=\"text-align: right;\">\n      <th></th>\n      <th>hetero</th>\n      <th>homo</th>\n      <th>singlet</th>\n      <th>class</th>\n      <th>t0.0</th>\n      <th>t0.3</th>\n      <th>t0.5</th>\n      <th>t0.8</th>\n      <th>t1.0</th>\n      <th>labels</th>\n    </tr>\n  </thead>\n  <tbody>\n    <tr>\n      <th>0</th>\n      <td>0.031</td>\n      <td>0.261</td>\n      <td>0.708</td>\n      <td>singlet</td>\n      <td>1</td>\n      <td>1</td>\n      <td>1</td>\n      <td>0</td>\n      <td>0</td>\n      <td>1</td>\n    </tr>\n    <tr>\n      <th>8</th>\n      <td>0.045</td>\n      <td>0.304</td>\n      <td>0.650</td>\n      <td>singlet</td>\n      <td>1</td>\n      <td>1</td>\n      <td>1</td>\n      <td>0</td>\n      <td>0</td>\n      <td>1</td>\n    </tr>\n    <tr>\n      <th>10</th>\n      <td>0.006</td>\n      <td>0.043</td>\n      <td>0.951</td>\n      <td>singlet</td>\n      <td>1</td>\n      <td>1</td>\n      <td>1</td>\n      <td>1</td>\n      <td>0</td>\n      <td>1</td>\n    </tr>\n    <tr>\n      <th>12</th>\n      <td>0.012</td>\n      <td>0.036</td>\n      <td>0.952</td>\n      <td>singlet</td>\n      <td>1</td>\n      <td>1</td>\n      <td>1</td>\n      <td>1</td>\n      <td>0</td>\n      <td>1</td>\n    </tr>\n    <tr>\n      <th>16</th>\n      <td>0.004</td>\n      <td>0.030</td>\n      <td>0.966</td>\n      <td>singlet</td>\n      <td>1</td>\n      <td>1</td>\n      <td>1</td>\n      <td>1</td>\n      <td>0</td>\n      <td>1</td>\n    </tr>\n    <tr>\n      <th>...</th>\n      <td>...</td>\n      <td>...</td>\n      <td>...</td>\n      <td>...</td>\n      <td>...</td>\n      <td>...</td>\n      <td>...</td>\n      <td>...</td>\n      <td>...</td>\n      <td>...</td>\n    </tr>\n    <tr>\n      <th>3625</th>\n      <td>0.002</td>\n      <td>0.002</td>\n      <td>0.996</td>\n      <td>singlet</td>\n      <td>1</td>\n      <td>1</td>\n      <td>1</td>\n      <td>1</td>\n      <td>0</td>\n      <td>1</td>\n    </tr>\n    <tr>\n      <th>3635</th>\n      <td>0.011</td>\n      <td>0.051</td>\n      <td>0.938</td>\n      <td>singlet</td>\n      <td>1</td>\n      <td>1</td>\n      <td>1</td>\n      <td>1</td>\n      <td>0</td>\n      <td>1</td>\n    </tr>\n    <tr>\n      <th>3636</th>\n      <td>0.034</td>\n      <td>0.134</td>\n      <td>0.832</td>\n      <td>singlet</td>\n      <td>1</td>\n      <td>1</td>\n      <td>1</td>\n      <td>1</td>\n      <td>0</td>\n      <td>1</td>\n    </tr>\n    <tr>\n      <th>3640</th>\n      <td>0.007</td>\n      <td>0.037</td>\n      <td>0.956</td>\n      <td>singlet</td>\n      <td>1</td>\n      <td>1</td>\n      <td>1</td>\n      <td>1</td>\n      <td>0</td>\n      <td>1</td>\n    </tr>\n    <tr>\n      <th>3641</th>\n      <td>0.003</td>\n      <td>0.019</td>\n      <td>0.978</td>\n      <td>singlet</td>\n      <td>1</td>\n      <td>1</td>\n      <td>1</td>\n      <td>1</td>\n      <td>0</td>\n      <td>1</td>\n    </tr>\n  </tbody>\n</table>\n<p>1066 rows × 10 columns</p>\n</div>"
     },
     "execution_count": 31,
     "metadata": {},
     "output_type": "execute_result"
    }
   ],
   "source": [
    "aux"
   ],
   "metadata": {
    "collapsed": false,
    "pycharm": {
     "name": "#%%\n"
    }
   }
  },
  {
   "cell_type": "code",
   "execution_count": 35,
   "outputs": [
    {
     "ename": "ValueError",
     "evalue": "The number of FixedLocator locations (2), usually from a call to set_ticks, does not match the number of ticklabels (3653).",
     "output_type": "error",
     "traceback": [
      "\u001B[0;31m---------------------------------------------------------------------------\u001B[0m",
      "\u001B[0;31mValueError\u001B[0m                                Traceback (most recent call last)",
      "Input \u001B[0;32mIn [35]\u001B[0m, in \u001B[0;36m<cell line: 8>\u001B[0;34m()\u001B[0m\n\u001B[1;32m      6\u001B[0m         plt\u001B[38;5;241m.\u001B[39mtext(j, i, cnf_mat[i,j], color\u001B[38;5;241m=\u001B[39m\u001B[38;5;124m\"\u001B[39m\u001B[38;5;124mw\u001B[39m\u001B[38;5;124m\"\u001B[39m \u001B[38;5;28;01mif\u001B[39;00m cnf_mat[i, j] \u001B[38;5;241m>\u001B[39m threshold \u001B[38;5;28;01melse\u001B[39;00m \u001B[38;5;124m\"\u001B[39m\u001B[38;5;124mblack\u001B[39m\u001B[38;5;124m\"\u001B[39m)\n\u001B[1;32m      7\u001B[0m tick_marks \u001B[38;5;241m=\u001B[39m np\u001B[38;5;241m.\u001B[39marange(\u001B[38;5;28mlen\u001B[39m(np\u001B[38;5;241m.\u001B[39munique(aux[\u001B[38;5;124m\"\u001B[39m\u001B[38;5;124mlabels\u001B[39m\u001B[38;5;124m\"\u001B[39m])))\n\u001B[0;32m----> 8\u001B[0m \u001B[43mplt\u001B[49m\u001B[38;5;241;43m.\u001B[39;49m\u001B[43mxticks\u001B[49m\u001B[43m(\u001B[49m\u001B[43mtick_marks\u001B[49m\u001B[43m,\u001B[49m\u001B[43m \u001B[49m\u001B[43mlabels\u001B[49m\u001B[43m,\u001B[49m\u001B[43m \u001B[49m\u001B[43mrotation\u001B[49m\u001B[38;5;241;43m=\u001B[39;49m\u001B[38;5;241;43m45\u001B[39;49m\u001B[43m)\u001B[49m\n\u001B[1;32m      9\u001B[0m plt\u001B[38;5;241m.\u001B[39myticks(tick_marks, labels)\n\u001B[1;32m     10\u001B[0m plt\u001B[38;5;241m.\u001B[39mylabel(\u001B[38;5;124m\"\u001B[39m\u001B[38;5;124mTrue label\u001B[39m\u001B[38;5;124m\"\u001B[39m)\n",
      "File \u001B[0;32m~/Uni/courses/MLRegGenomics/doubletdetection/venv/lib/python3.8/site-packages/matplotlib/pyplot.py:1816\u001B[0m, in \u001B[0;36mxticks\u001B[0;34m(ticks, labels, **kwargs)\u001B[0m\n\u001B[1;32m   1814\u001B[0m         l\u001B[38;5;241m.\u001B[39mupdate(kwargs)\n\u001B[1;32m   1815\u001B[0m \u001B[38;5;28;01melse\u001B[39;00m:\n\u001B[0;32m-> 1816\u001B[0m     labels \u001B[38;5;241m=\u001B[39m \u001B[43max\u001B[49m\u001B[38;5;241;43m.\u001B[39;49m\u001B[43mset_xticklabels\u001B[49m\u001B[43m(\u001B[49m\u001B[43mlabels\u001B[49m\u001B[43m,\u001B[49m\u001B[43m \u001B[49m\u001B[38;5;241;43m*\u001B[39;49m\u001B[38;5;241;43m*\u001B[39;49m\u001B[43mkwargs\u001B[49m\u001B[43m)\u001B[49m\n\u001B[1;32m   1818\u001B[0m \u001B[38;5;28;01mreturn\u001B[39;00m locs, labels\n",
      "File \u001B[0;32m~/Uni/courses/MLRegGenomics/doubletdetection/venv/lib/python3.8/site-packages/matplotlib/axes/_base.py:75\u001B[0m, in \u001B[0;36m_axis_method_wrapper.__set_name__.<locals>.wrapper\u001B[0;34m(self, *args, **kwargs)\u001B[0m\n\u001B[1;32m     74\u001B[0m \u001B[38;5;28;01mdef\u001B[39;00m \u001B[38;5;21mwrapper\u001B[39m(\u001B[38;5;28mself\u001B[39m, \u001B[38;5;241m*\u001B[39margs, \u001B[38;5;241m*\u001B[39m\u001B[38;5;241m*\u001B[39mkwargs):\n\u001B[0;32m---> 75\u001B[0m     \u001B[38;5;28;01mreturn\u001B[39;00m \u001B[43mget_method\u001B[49m\u001B[43m(\u001B[49m\u001B[38;5;28;43mself\u001B[39;49m\u001B[43m)\u001B[49m\u001B[43m(\u001B[49m\u001B[38;5;241;43m*\u001B[39;49m\u001B[43margs\u001B[49m\u001B[43m,\u001B[49m\u001B[43m \u001B[49m\u001B[38;5;241;43m*\u001B[39;49m\u001B[38;5;241;43m*\u001B[39;49m\u001B[43mkwargs\u001B[49m\u001B[43m)\u001B[49m\n",
      "File \u001B[0;32m~/Uni/courses/MLRegGenomics/doubletdetection/venv/lib/python3.8/site-packages/matplotlib/axis.py:1798\u001B[0m, in \u001B[0;36mAxis._set_ticklabels\u001B[0;34m(self, labels, fontdict, minor, **kwargs)\u001B[0m\n\u001B[1;32m   1796\u001B[0m \u001B[38;5;28;01mif\u001B[39;00m fontdict \u001B[38;5;129;01mis\u001B[39;00m \u001B[38;5;129;01mnot\u001B[39;00m \u001B[38;5;28;01mNone\u001B[39;00m:\n\u001B[1;32m   1797\u001B[0m     kwargs\u001B[38;5;241m.\u001B[39mupdate(fontdict)\n\u001B[0;32m-> 1798\u001B[0m \u001B[38;5;28;01mreturn\u001B[39;00m \u001B[38;5;28;43mself\u001B[39;49m\u001B[38;5;241;43m.\u001B[39;49m\u001B[43mset_ticklabels\u001B[49m\u001B[43m(\u001B[49m\u001B[43mlabels\u001B[49m\u001B[43m,\u001B[49m\u001B[43m \u001B[49m\u001B[43mminor\u001B[49m\u001B[38;5;241;43m=\u001B[39;49m\u001B[43mminor\u001B[49m\u001B[43m,\u001B[49m\u001B[43m \u001B[49m\u001B[38;5;241;43m*\u001B[39;49m\u001B[38;5;241;43m*\u001B[39;49m\u001B[43mkwargs\u001B[49m\u001B[43m)\u001B[49m\n",
      "File \u001B[0;32m~/Uni/courses/MLRegGenomics/doubletdetection/venv/lib/python3.8/site-packages/matplotlib/axis.py:1720\u001B[0m, in \u001B[0;36mAxis.set_ticklabels\u001B[0;34m(self, ticklabels, minor, **kwargs)\u001B[0m\n\u001B[1;32m   1716\u001B[0m \u001B[38;5;28;01mif\u001B[39;00m \u001B[38;5;28misinstance\u001B[39m(locator, mticker\u001B[38;5;241m.\u001B[39mFixedLocator):\n\u001B[1;32m   1717\u001B[0m     \u001B[38;5;66;03m# Passing [] as a list of ticklabels is often used as a way to\u001B[39;00m\n\u001B[1;32m   1718\u001B[0m     \u001B[38;5;66;03m# remove all tick labels, so only error for > 0 ticklabels\u001B[39;00m\n\u001B[1;32m   1719\u001B[0m     \u001B[38;5;28;01mif\u001B[39;00m \u001B[38;5;28mlen\u001B[39m(locator\u001B[38;5;241m.\u001B[39mlocs) \u001B[38;5;241m!=\u001B[39m \u001B[38;5;28mlen\u001B[39m(ticklabels) \u001B[38;5;129;01mand\u001B[39;00m \u001B[38;5;28mlen\u001B[39m(ticklabels) \u001B[38;5;241m!=\u001B[39m \u001B[38;5;241m0\u001B[39m:\n\u001B[0;32m-> 1720\u001B[0m         \u001B[38;5;28;01mraise\u001B[39;00m \u001B[38;5;167;01mValueError\u001B[39;00m(\n\u001B[1;32m   1721\u001B[0m             \u001B[38;5;124m\"\u001B[39m\u001B[38;5;124mThe number of FixedLocator locations\u001B[39m\u001B[38;5;124m\"\u001B[39m\n\u001B[1;32m   1722\u001B[0m             \u001B[38;5;124mf\u001B[39m\u001B[38;5;124m\"\u001B[39m\u001B[38;5;124m (\u001B[39m\u001B[38;5;132;01m{\u001B[39;00m\u001B[38;5;28mlen\u001B[39m(locator\u001B[38;5;241m.\u001B[39mlocs)\u001B[38;5;132;01m}\u001B[39;00m\u001B[38;5;124m), usually from a call to\u001B[39m\u001B[38;5;124m\"\u001B[39m\n\u001B[1;32m   1723\u001B[0m             \u001B[38;5;124m\"\u001B[39m\u001B[38;5;124m set_ticks, does not match\u001B[39m\u001B[38;5;124m\"\u001B[39m\n\u001B[1;32m   1724\u001B[0m             \u001B[38;5;124mf\u001B[39m\u001B[38;5;124m\"\u001B[39m\u001B[38;5;124m the number of ticklabels (\u001B[39m\u001B[38;5;132;01m{\u001B[39;00m\u001B[38;5;28mlen\u001B[39m(ticklabels)\u001B[38;5;132;01m}\u001B[39;00m\u001B[38;5;124m).\u001B[39m\u001B[38;5;124m\"\u001B[39m)\n\u001B[1;32m   1725\u001B[0m     tickd \u001B[38;5;241m=\u001B[39m {loc: lab \u001B[38;5;28;01mfor\u001B[39;00m loc, lab \u001B[38;5;129;01min\u001B[39;00m \u001B[38;5;28mzip\u001B[39m(locator\u001B[38;5;241m.\u001B[39mlocs, ticklabels)}\n\u001B[1;32m   1726\u001B[0m     func \u001B[38;5;241m=\u001B[39m functools\u001B[38;5;241m.\u001B[39mpartial(\u001B[38;5;28mself\u001B[39m\u001B[38;5;241m.\u001B[39m_format_with_dict, tickd)\n",
      "\u001B[0;31mValueError\u001B[0m: The number of FixedLocator locations (2), usually from a call to set_ticks, does not match the number of ticklabels (3653)."
     ]
    },
    {
     "data": {
      "text/plain": "<Figure size 432x288 with 1 Axes>",
      "image/png": "[encoded data removed]"
     },
     "metadata": {
      "needs_background": "light"
     },
     "output_type": "display_data"
    }
   ],
   "source": [
    "cnf_mat = confusion_matrix(y_true=aux[\"labels\"], y_pred=aux[\"t0.5\"])\n",
    "plt.imshow(cnf_mat, cmap=plt.cm.Blues)\n",
    "threshold = cnf_mat.max() / 2\n",
    "for i in range(cnf_mat.shape[0]):\n",
    "    for j in range(cnf_mat.shape[1]):\n",
    "        plt.text(j, i, cnf_mat[i,j], color=\"w\" if cnf_mat[i, j] > threshold else \"black\")\n",
    "tick_marks = np.arange(len(np.unique(aux[\"labels\"])))\n",
    "plt.xticks(tick_marks, labels, rotation=45)\n",
    "plt.yticks(tick_marks, labels)\n",
    "plt.ylabel(\"True label\")\n",
    "plt.xlabel(\"Predicted label\")\n",
    "plt.colorbar()\n",
    "plt.tight_layout()"
   ],
   "metadata": {
    "collapsed": false,
    "pycharm": {
     "name": "#%%\n"
    }
   }
  },
  {
   "cell_type": "code",
   "execution_count": 42,
   "outputs": [
    {
     "data": {
      "text/plain": "<matplotlib.lines._AxLine at 0x7fcd3e0bf0a0>"
     },
     "execution_count": 42,
     "metadata": {},
     "output_type": "execute_result"
    },
    {
     "data": {
      "text/plain": "<Figure size 432x288 with 1 Axes>",
      "image/png": "[encoded data removed]"
     },
     "metadata": {
      "needs_background": "light"
     },
     "output_type": "display_data"
    }
   ],
   "source": [
    "FPR, TPR, T = roc_curve(aux['labels'], aux['singlet'])\n",
    "g = sns.lineplot(x=FPR, y=TPR)\n",
    "g.axline(xy1=(0,0), slope=1, color=\"r\", dashes=(5,2))"
   ],
   "metadata": {
    "collapsed": false,
    "pycharm": {
     "name": "#%%\n"
    }
   }
  },
  {
   "cell_type": "code",
   "execution_count": 52,
   "outputs": [
    {
     "data": {
      "text/plain": "{2.0: (0.0, 0.0),\n 1.0: (0.0, 0.009813542688910697),\n 0.999: (0.0, 0.016683022571148183),\n 0.998: (0.02127659574468085, 0.02747791952894995),\n 0.997: (0.02127659574468085, 0.03532875368007851),\n 0.996: (0.0425531914893617, 0.052011776251226695),\n 0.995: (0.0425531914893617, 0.05691854759568204),\n 0.994: (0.0425531914893617, 0.06967615309126594),\n 0.993: (0.0425531914893617, 0.0873405299313052),\n 0.992: (0.0425531914893617, 0.09911678115799803),\n 0.991: (0.0425531914893617, 0.1069676153091266),\n 0.99: (0.06382978723404255, 0.12168792934249265),\n 0.989: (0.06382978723404255, 0.13542688910696762),\n 0.988: (0.10638297872340426, 0.1452404317958783),\n 0.987: (0.10638297872340426, 0.15996074582924436),\n 0.986: (0.1276595744680851, 0.16879293424926398),\n 0.985: (0.1276595744680851, 0.18547595682041218),\n 0.984: (0.1276595744680851, 0.19234543670264967),\n 0.983: (0.1702127659574468, 0.20019627085377822),\n 0.982: (0.19148936170212766, 0.20510304219823355),\n 0.981: (0.19148936170212766, 0.21589793915603533),\n 0.98: (0.19148936170212766, 0.22473012757605496),\n 0.979: (0.19148936170212766, 0.2365063788027478),\n 0.978: (0.23404255319148937, 0.2492639842983317),\n 0.977: (0.2978723404255319, 0.26300294406280667),\n 0.976: (0.2978723404255319, 0.281648675171737),\n 0.975: (0.3191489361702128, 0.296368989205103),\n 0.974: (0.3191489361702128, 0.3071638861629048),\n 0.973: (0.3191489361702128, 0.3199214916584887),\n 0.972: (0.3404255319148936, 0.33169774288518156),\n 0.971: (0.3404255319148936, 0.34052993130520115),\n 0.97: (0.3829787234042553, 0.34838076545632973),\n 0.969: (0.40425531914893614, 0.35525024533856725),\n 0.968: (0.40425531914893614, 0.36408243375858684),\n 0.967: (0.425531914893617, 0.3758586849852797),\n 0.966: (0.425531914893617, 0.3837095191364082),\n 0.965: (0.425531914893617, 0.39450441609421),\n 0.964: (0.425531914893617, 0.4023552502453386),\n 0.963: (0.425531914893617, 0.4141315014720314),\n 0.962: (0.46808510638297873, 0.42198233562315995),\n 0.961: (0.48936170212765956, 0.4278704612365064),\n 0.96: (0.5106382978723404, 0.43768400392541706),\n 0.959: (0.5319148936170213, 0.44553483807654565),\n 0.958: (0.5531914893617021, 0.4553483807654563),\n 0.957: (0.5531914893617021, 0.46123650637880276),\n 0.956: (0.574468085106383, 0.46712463199214915),\n 0.955: (0.574468085106383, 0.47399411187438667),\n 0.954: (0.574468085106383, 0.48773307163886165),\n 0.953: (0.574468085106383, 0.4946025515210991),\n 0.952: (0.574468085106383, 0.5083415112855741),\n 0.951: (0.5957446808510638, 0.5132482826300294),\n 0.95: (0.5957446808510638, 0.5250245338567223),\n 0.949: (0.5957446808510638, 0.5377821393523062),\n 0.948: (0.5957446808510638, 0.5426889106967615),\n 0.947: (0.5957446808510638, 0.5554465161923454),\n 0.946: (0.6170212765957447, 0.5564278704612365),\n 0.945: (0.6170212765957447, 0.5662414131501472),\n 0.944: (0.6170212765957447, 0.5711481844946026),\n 0.943: (0.6170212765957447, 0.57801766437684),\n 0.942: (0.6382978723404256, 0.5819430814524044),\n 0.941: (0.6382978723404256, 0.5897939156035329),\n 0.94: (0.6382978723404256, 0.6005888125613347),\n 0.939: (0.6382978723404256, 0.6094210009813543),\n 0.938: (0.6595744680851063, 0.6182531894013739),\n 0.937: (0.6595744680851063, 0.620215897939156),\n 0.936: (0.6595744680851063, 0.6310107948969578),\n 0.935: (0.6595744680851063, 0.633954857703631),\n 0.934: (0.6808510638297872, 0.6368989205103042),\n 0.933: (0.6808510638297872, 0.6437684003925417),\n 0.932: (0.6808510638297872, 0.6516192345436702),\n 0.931: (0.6808510638297872, 0.6575073601570167),\n 0.93: (0.6808510638297872, 0.6643768400392541),\n 0.929: (0.6808510638297872, 0.6702649656526006),\n 0.928: (0.7021276595744681, 0.6751717369970559),\n 0.927: (0.7021276595744681, 0.677134445534838),\n 0.926: (0.7021276595744681, 0.6810598626104023),\n 0.925: (0.7021276595744681, 0.6889106967615309),\n 0.924: (0.7021276595744681, 0.6957801766437685),\n 0.923: (0.7021276595744681, 0.6997055937193327),\n 0.921: (0.7021276595744681, 0.703631010794897),\n 0.92: (0.7021276595744681, 0.7095191364082434),\n 0.919: (0.723404255319149, 0.7134445534838076),\n 0.918: (0.723404255319149, 0.7144259077526988),\n 0.916: (0.723404255319149, 0.7222767419038273),\n 0.915: (0.723404255319149, 0.7252208047105005),\n 0.914: (0.7446808510638298, 0.7271835132482827),\n 0.912: (0.7446808510638298, 0.7330716388616291),\n 0.911: (0.7659574468085106, 0.7350343473994112),\n 0.91: (0.7659574468085106, 0.7389597644749755),\n 0.909: (0.7659574468085106, 0.7399411187438666),\n 0.907: (0.7659574468085106, 0.7438665358194309),\n 0.906: (0.7659574468085106, 0.746810598626104),\n 0.905: (0.7872340425531915, 0.7497546614327772),\n 0.904: (0.7872340425531915, 0.7517173699705594),\n 0.903: (0.8085106382978723, 0.7556427870461236),\n 0.9: (0.8085106382978723, 0.7576054955839058),\n 0.897: (0.8085106382978723, 0.7634936211972522),\n 0.896: (0.8085106382978723, 0.7644749754661433),\n 0.895: (0.8085106382978723, 0.7664376840039254),\n 0.891: (0.8085106382978723, 0.7693817468105987),\n 0.89: (0.8085106382978723, 0.7723258096172718),\n 0.889: (0.8085106382978723, 0.7762512266928361),\n 0.888: (0.8085106382978723, 0.7791952894995093),\n 0.887: (0.8085106382978723, 0.7811579980372915),\n 0.886: (0.8085106382978723, 0.7821393523061825),\n 0.883: (0.8085106382978723, 0.7860647693817469),\n 0.882: (0.8085106382978723, 0.78900883218842),\n 0.879: (0.8085106382978723, 0.7909715407262021),\n 0.878: (0.8085106382978723, 0.7939156035328754),\n 0.874: (0.8085106382978723, 0.7998037291462218),\n 0.872: (0.8085106382978723, 0.8007850834151129),\n 0.87: (0.8085106382978723, 0.803729146221786),\n 0.869: (0.8085106382978723, 0.8056918547595682),\n 0.865: (0.8085106382978723, 0.8115799803729146),\n 0.856: (0.8085106382978723, 0.8174681059862611),\n 0.855: (0.8297872340425532, 0.8174681059862611),\n 0.853: (0.8297872340425532, 0.8194308145240432),\n 0.852: (0.8297872340425532, 0.8204121687929342),\n 0.848: (0.8297872340425532, 0.8243375858684985),\n 0.847: (0.8297872340425532, 0.8282630029440629),\n 0.845: (0.8297872340425532, 0.830225711481845),\n 0.843: (0.8297872340425532, 0.8331697742885181),\n 0.842: (0.8297872340425532, 0.8351324828263003),\n 0.835: (0.8297872340425532, 0.8380765456329735),\n 0.834: (0.8297872340425532, 0.8400392541707556),\n 0.832: (0.8297872340425532, 0.8429833169774289),\n 0.831: (0.8297872340425532, 0.8439646712463199),\n 0.829: (0.851063829787234, 0.844946025515211),\n 0.825: (0.851063829787234, 0.8469087340529932),\n 0.822: (0.851063829787234, 0.8488714425907753),\n 0.82: (0.851063829787234, 0.8498527968596663),\n 0.819: (0.851063829787234, 0.8537782139352306),\n 0.818: (0.851063829787234, 0.8547595682041217),\n 0.815: (0.851063829787234, 0.8567222767419038),\n 0.803: (0.851063829787234, 0.8596663395485771),\n 0.798: (0.851063829787234, 0.8616290480863592),\n 0.786: (0.851063829787234, 0.8665358194308145),\n 0.784: (0.851063829787234, 0.8684985279685966),\n 0.76: (0.851063829787234, 0.8792934249263984),\n 0.757: (0.851063829787234, 0.8812561334641805),\n 0.743: (0.851063829787234, 0.8891069676153092),\n 0.742: (0.851063829787234, 0.8910696761530913),\n 0.733: (0.851063829787234, 0.8959764474975466),\n 0.731: (0.8723404255319149, 0.8969578017664377),\n 0.719: (0.8723404255319149, 0.9028459273797841),\n 0.716: (0.8936170212765957, 0.9038272816486752),\n 0.715: (0.8936170212765957, 0.9057899901864573),\n 0.709: (0.8936170212765957, 0.9077526987242395),\n 0.708: (0.8936170212765957, 0.9106967615309126),\n 0.683: (0.8936170212765957, 0.9205103042198234),\n 0.681: (0.8936170212765957, 0.9224730127576055),\n 0.668: (0.8936170212765957, 0.9263984298331698),\n 0.665: (0.9148936170212766, 0.9263984298331698),\n 0.635: (0.9148936170212766, 0.9381746810598626),\n 0.633: (0.9361702127659575, 0.9381746810598626),\n 0.63: (0.9361702127659575, 0.9401373895976447),\n 0.625: (0.9361702127659575, 0.9421000981354269),\n 0.619: (0.9361702127659575, 0.9460255152109912),\n 0.566: (0.9361702127659575, 0.9607458292443573),\n 0.563: (0.9361702127659575, 0.9627085377821394),\n 0.553: (0.9361702127659575, 0.9656526005888125),\n 0.55: (0.9574468085106383, 0.9656526005888125),\n 0.545: (0.9574468085106383, 0.9695780176643768),\n 0.5: (0.9574468085106383, 0.9774288518155054),\n 0.493: (0.9787234042553191, 0.9774288518155054),\n 0.446: (0.9787234042553191, 0.9872423945044161),\n 0.439: (0.9787234042553191, 0.9892051030421982),\n 0.358: (0.9787234042553191, 0.9931305201177625),\n 0.345: (1.0, 0.9931305201177625),\n 0.169: (1.0, 1.0)}"
     },
     "execution_count": 52,
     "metadata": {},
     "output_type": "execute_result"
    }
   ],
   "source": [
    "x = dict(zip(T, zip(FPR, TPR)))\n",
    "x"
   ],
   "metadata": {
    "collapsed": false,
    "pycharm": {
     "name": "#%%\n"
    }
   }
  },
  {
   "cell_type": "code",
   "execution_count": null,
   "outputs": [],
   "source": [
    "fig = plt.figure()\n"
   ],
   "metadata": {
    "collapsed": false,
    "pycharm": {
     "name": "#%%\n"
    }
   }
  },
  {
   "cell_type": "markdown",
   "source": [
    "yannick data"
   ],
   "metadata": {
    "collapsed": false,
    "pycharm": {
     "name": "#%% md\n"
    }
   }
  },
  {
   "cell_type": "code",
   "execution_count": 3,
   "outputs": [],
   "source": [
    "labels = pd.read_csv(\"../data/processed/yannick_labels.csv\")"
   ],
   "metadata": {
    "collapsed": false,
    "pycharm": {
     "name": "#%%\n"
    }
   }
  },
  {
   "cell_type": "code",
   "execution_count": null,
   "outputs": [],
   "source": [
    "labels_new = []"
   ],
   "metadata": {
    "collapsed": false,
    "pycharm": {
     "name": "#%%\n"
    }
   }
  },
  {
   "cell_type": "code",
   "execution_count": 15,
   "outputs": [
    {
     "data": {
      "text/plain": "0    False\n1    False\n2     True\nName: 1, dtype: bool"
     },
     "execution_count": 15,
     "metadata": {},
     "output_type": "execute_result"
    }
   ],
   "source": [
    "(labels.iloc[1, :] == 1)"
   ],
   "metadata": {
    "collapsed": false,
    "pycharm": {
     "name": "#%%\n"
    }
   }
  },
  {
   "cell_type": "code",
   "execution_count": 17,
   "outputs": [],
   "source": [
    "dt = pd.DataFrame({\"a\": [1,2,3],\n",
    "                   \"b\": [0,3,1]})"
   ],
   "metadata": {
    "collapsed": false,
    "pycharm": {
     "name": "#%%\n"
    }
   }
  },
  {
   "cell_type": "code",
   "execution_count": 18,
   "outputs": [
    {
     "data": {
      "text/plain": "0    a\n1    b\n2    a\ndtype: object"
     },
     "execution_count": 18,
     "metadata": {},
     "output_type": "execute_result"
    }
   ],
   "source": [
    "dt.idxmax(axis=1)"
   ],
   "metadata": {
    "collapsed": false,
    "pycharm": {
     "name": "#%%\n"
    }
   }
  }
 ],
 "metadata": {
  "kernelspec": {
   "display_name": "Python 3",
   "language": "python",
   "name": "python3"
  },
  "language_info": {
   "codemirror_mode": {
    "name": "ipython",
    "version": 2
   },
   "file_extension": ".py",
   "mimetype": "text/x-python",
   "name": "python",
   "nbconvert_exporter": "python",
   "pygments_lexer": "ipython2",
   "version": "2.7.6"
  }
 },
 "nbformat": 4,
 "nbformat_minor": 0
}