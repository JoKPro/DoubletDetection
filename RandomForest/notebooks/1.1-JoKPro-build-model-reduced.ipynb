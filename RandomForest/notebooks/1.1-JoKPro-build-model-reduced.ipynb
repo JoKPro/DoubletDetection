{
 "cells": [
  {
   "cell_type": "code",
   "execution_count": null,
   "metadata": {
    "collapsed": true,
    "pycharm": {
     "name": "#%%\n"
    }
   },
   "outputs": [],
   "source": [
    "import tensorflow_decision_forests as tfdf\n",
    "import src.data.utils\n",
    "import os\n",
    "import sys\n",
    "import numpy as np\n",
    "import datatable as dt\n",
    "from datatable import f\n",
    "import pandas as pd\n",
    "import tensorflow as tf\n",
    "import math\n",
    "import random"
   ]
  }
 ],
 "metadata": {
  "kernelspec": {
   "display_name": "Python 3",
   "language": "python",
   "name": "python3"
  },
  "language_info": {
   "codemirror_mode": {
    "name": "ipython",
    "version": 2
   },
   "file_extension": ".py",
   "mimetype": "text/x-python",
   "name": "python",
   "nbconvert_exporter": "python",
   "pygments_lexer": "ipython2",
   "version": "2.7.6"
  }
 },
 "nbformat": 4,
 "nbformat_minor": 0
}