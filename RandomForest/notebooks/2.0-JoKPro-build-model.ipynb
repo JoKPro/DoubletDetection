{
 "cells": [
  {
   "cell_type": "code",
   "execution_count": 1,
   "metadata": {
    "collapsed": true,
    "pycharm": {
     "name": "#%%\n"
    }
   },
   "outputs": [
    {
     "name": "stderr",
     "output_type": "stream",
     "text": [
      "2022-07-25 18:24:12.519918: I tensorflow/core/util/util.cc:169] oneDNN custom operations are on. You may see slightly different numerical results due to floating-point round-off errors from different computation orders. To turn them off, set the environment variable `TF_ENABLE_ONEDNN_OPTS=0`.\n",
      "2022-07-25 18:24:12.526585: W tensorflow/stream_executor/platform/default/dso_loader.cc:64] Could not load dynamic library 'libcudart.so.11.0'; dlerror: libcudart.so.11.0: cannot open shared object file: No such file or directory\n",
      "2022-07-25 18:24:12.526612: I tensorflow/stream_executor/cuda/cudart_stub.cc:29] Ignore above cudart dlerror if you do not have a GPU set up on your machine.\n"
     ]
    }
   ],
   "source": [
    "import keras.callbacks\n",
    "import tensorflow_decision_forests as tfdf\n",
    "import numpy as np\n",
    "import pandas as pd\n",
    "import matplotlib.pyplot as plt\n",
    "from sklearn.metrics import classification_report,confusion_matrix\n",
    "import seaborn as sns\n",
    "import keras_tuner as kt\n",
    "from sklearn.utils import class_weight\n",
    "from sklearn.preprocessing import StandardScaler"
   ]
  },
  {
   "cell_type": "code",
   "execution_count": 17,
   "outputs": [],
   "source": [
    "class RF:\n",
    "\n",
    "    def __init__(self, data, obs_col, class_col):\n",
    "        self.data = data\n",
    "        self.obs_col = obs_col\n",
    "        self.class_col = class_col\n",
    "        self.train_set = None\n",
    "        self.test_set = None\n",
    "        self.train_ds = None\n",
    "        self.test_ds = None\n",
    "        self.models = dict()\n",
    "        self.class_weights = None\n",
    "\n",
    "    def pre_process_data(self, standardize=True, normalize=False):\n",
    "        if standardize:\n",
    "            features = self.data.drop([self.obs_col, self.class_col], axis=1, errors=\"ignore\")\n",
    "            col_names = features.columns\n",
    "            scaler = StandardScaler().fit(features.values)\n",
    "            features = scaler.transform(features.values)\n",
    "            self.data[col_names] = features\n",
    "        elif normalize:\n",
    "            pass\n",
    "\n",
    "\n",
    "    def train_test_split(self, ratio=0.3):\n",
    "        if self.data is not None:\n",
    "            test_indices = np.random.rand(len(self.data)) < ratio\n",
    "            self.train_set, self.test_set = self.data[~test_indices].drop(self.obs_col, axis=1), self.data[test_indices].drop(self.obs_col, axis=1)\n",
    "            self.train_ds = tfdf.keras.pd_dataframe_to_tf_dataset(self.train_set, label=self.class_col)\n",
    "            self.test_ds = tfdf.keras.pd_dataframe_to_tf_dataset(self.test_set, label=self.class_col)\n",
    "        else:\n",
    "            print(\"data not loaded\")\n",
    "\n",
    "        y_train = self.train_set[\"cell_type\"]\n",
    "        class_weights = class_weight.compute_class_weight(class_weight=\"balanced\", classes=np.unique(y_train), y=y_train)\n",
    "        self.class_weights = dict(enumerate(class_weights))\n",
    "\n",
    "    def add_new_model(self, model_name, model_type = \"Random Forest\", params=None):\n",
    "\n",
    "        self.train_test_split()\n",
    "        print(\"add_new_model:\")\n",
    "        if params:\n",
    "            print(\"parameter supplied\")\n",
    "            if model_type == \"Random Forest\":\n",
    "                print(\"Random Forest model...\")\n",
    "                model = tfdf.keras.RandomForestModel(**params)\n",
    "                print(model.learner_params)\n",
    "            elif model_type == \"Gradient Boosted Trees\":\n",
    "                print(\"GBT model...\")\n",
    "                model = tfdf.keras.GradientBoostedTreesModel()\n",
    "        else:\n",
    "\n",
    "            print(\"no parameters supplied, using default model\")\n",
    "\n",
    "            if model_type == \"Random Forest\":\n",
    "                print(\"default Random Forest model...\")\n",
    "                model = tfdf.keras.RandomForestModel()\n",
    "            else:\n",
    "                print( \"default gradient boosted tree\")\n",
    "                model = tfdf.keras.GradientBoostedTreesModel()\n",
    "        self.models.update({model_name: model})\n",
    "\n",
    "    def tune_model(self, model_name, tuner, use_class_weights=True, model_type=\"RandomForest\"):\n",
    "\n",
    "        if model_type == \"RandomForest\":\n",
    "            build_model = build_model_rf\n",
    "        else:\n",
    "            build_model = build_model_gbt\n",
    "\n",
    "        print(self.class_weights)\n",
    "        print(self.train_set)\n",
    "\n",
    "        if tuner == \"RandomSearch\":\n",
    "            print(\"RandomSearch optimizer\")\n",
    "            tuner = kt.RandomSearch(\n",
    "            hypermodel = build_model,\n",
    "            objective=\"val_accuracy\",\n",
    "            max_trials=20,\n",
    "            executions_per_trial=1,\n",
    "            overwrite=True,\n",
    "            directory=\"../results/\",\n",
    "            project_name=f\"{model_name}_{model_type}_tuned\"\n",
    "        )\n",
    "        elif tuner == \"Hyperband\":\n",
    "            print(\"Hyperband optimizer\")\n",
    "            tuner = kt.Hyperband(\n",
    "                hypermodel = build_model,\n",
    "                objective=\"val_accuracy\",\n",
    "                max_epochs=1,\n",
    "                hyperband_iterations=10,\n",
    "                overwrite=True,\n",
    "                directory=\"../results/\",\n",
    "                project_name=f\"{model_name}_{model_type}_hyperband_tuned\"\n",
    "            )\n",
    "        elif tuner == \"Bayesian\":\n",
    "            print(\"Bayesian optimizer\")\n",
    "            tuner = kt.BayesianOptimization(\n",
    "                hypermodel=build_model,\n",
    "                objective=\"val_accuracy\",\n",
    "                max_trials=20,\n",
    "                overwrite=True,\n",
    "                directory=\"../results/\",\n",
    "                project_name=f\"{model_name}_{model_type}_bayesian_tuned\"\n",
    "            )\n",
    "\n",
    "        tuner.search(self.train_ds,\n",
    "                     validation_data=self.test_ds,\n",
    "                     epochs=1,\n",
    "                     callbacks=[keras.callbacks.EarlyStopping(patience=1),\n",
    "                                keras.callbacks.TensorBoard(f\"../results/Callbacks/{model_name}_{model_type}\")],\n",
    "                     class_weight=self.class_weights)\n",
    "\n",
    "\n",
    "\n",
    "\n",
    "        print(\"Tuning done.\")\n",
    "        print(\"Best model: \")\n",
    "        print(tuner.get_best_models(1)[0])\n",
    "        print(\"Best hyperparameters: \")\n",
    "        print(tuner.get_best_hyperparameters(1)[0])\n",
    "        model = tuner.get_best_models(1)[0]\n",
    "        model.fit(self.train_ds, verbose=0, class_weight=self.class_weights)\n",
    "        prediction = model.predict(self.test_ds)\n",
    "        prediction = pd.DataFrame(prediction)\n",
    "        prediction.columns = [\"hetero\", \"homo\", \"singlet\"]\n",
    "        prediction[\"prediction\"] = prediction.apply(lambda row: self.class_checker(row), axis=1)\n",
    "        self.models.update({model_name: {\"model\": model,\n",
    "                                         \"tuner\": tuner,\n",
    "                                         \"prediction\": prediction}})\n",
    "        model.save(f\"../models/{model_name}_{model_type}\")\n",
    "        prediction.to_csv(f\"../models/{model_name}_{model_type}/prediction.csv\")\n",
    "        self.test_set.to_csv(f\"../models/{model_name}_{model_type}/test_set.csv\")\n",
    "\n",
    "        print(\"------------------------\")\n",
    "        print(f\"test class distribution: \\n\"\n",
    "              f\"{self.test_set['cell_type'].value_counts()}\\n\"\n",
    "              f\"\\n\"\n",
    "              f\"prediction class distribution:\\n\"\n",
    "              f\"{prediction['prediction'].value_counts()}\")\n",
    "\n",
    "        self.plot_cm(self.test_set[\"cell_type\"], prediction[\"prediction\"])\n",
    "\n",
    "        print(model.summary())\n",
    "        return None\n",
    "\n",
    "        pass\n",
    "\n",
    "    def train_model(self, model_name, use_class_weights=True, metrics=\"Accuracy\", verbose=0):\n",
    "        if model_name in self.models.keys():\n",
    "            model = self.models[model_name]\n",
    "            print(f\"training model: {model_name}\")\n",
    "            model.fit(x=self.train_ds,  verbose=verbose, class_weight=self.class_weights)\n",
    "\n",
    "\n",
    "            print(\"compiling model\")\n",
    "            model.compile(metrics=metrics)\n",
    "        else:\n",
    "            print(\"model not found.\")\n",
    "\n",
    "\n",
    "    def evaluate_model(self, model_name):\n",
    "        model = self.models[model_name]\n",
    "        evaluation = model.evaluate(self.test_ds, return_dict=True)\n",
    "        print(evaluation)\n",
    "\n",
    "    def predict(self, model_name, use_tuner):\n",
    "        if use_tuner:\n",
    "            model = self.models[model_name][\"tuner\"].get_best_models(1)[0]\n",
    "        else:\n",
    "            model = self.models[model_name]\n",
    "\n",
    "        prediction = model.predict(self.test_ds)\n",
    "        prediction = pd.DataFrame(prediction)\n",
    "        prediction.columns = [\"hetero\", \"homo\", \"singlet\"]\n",
    "        prediction[\"prediction\"] = prediction.apply(lambda row: self.class_checker(row), axis=1)\n",
    "        print(prediction)\n",
    "\n",
    "        print(\"------------------------\")\n",
    "        print(f\"test class distribution: \\n\"\n",
    "              f\"{self.test_set['cell_type'].value_counts()}\\n\"\n",
    "              f\"\\n\"\n",
    "              f\"prediction class distribution:\\n\"\n",
    "              f\"{prediction['prediction'].value_counts()}\")\n",
    "\n",
    "        self.plot_cm(self.test_set[\"cell_type\"], prediction[\"prediction\"])\n",
    "        return None\n",
    "\n",
    "    def class_checker(self, row):\n",
    "        if row[\"homo\"] > row[\"hetero\"] and row[\"homo\"] > row[\"singlet\"]:\n",
    "            return \"homo\"\n",
    "        elif row[\"hetero\"] > row[\"homo\"] and row[\"hetero\"] > row[\"singlet\"]:\n",
    "            return \"hetero\"\n",
    "        else:\n",
    "            return \"singlet\"\n",
    "\n",
    "    def plot_cm(self, labels, predictions, p=0.5):\n",
    "      cm = confusion_matrix(labels, predictions, labels=[\"hetero\", \"homo\", \"singlet\"])\n",
    "      plt.figure(figsize=(5,5))\n",
    "      sns.heatmap(cm, annot=True, fmt=\"d\")\n",
    "      plt.title('Confusion matrix')\n",
    "      plt.ylabel('Actual label')\n",
    "      plt.xlabel('Predicted label')"
   ],
   "metadata": {
    "collapsed": false,
    "pycharm": {
     "name": "#%%\n"
    }
   }
  },
  {
   "cell_type": "code",
   "execution_count": null,
   "outputs": [],
   "source": [],
   "metadata": {
    "collapsed": false,
    "pycharm": {
     "name": "#%%\n"
    }
   }
  },
  {
   "cell_type": "code",
   "execution_count": 18,
   "outputs": [],
   "source": [
    "def build_model_rf(hp):\n",
    "    model = tfdf.keras.RandomForestModel(\n",
    "        num_trees=hp.Int(\"num_trees\", min_value=300, max_value=1000, step=100),\n",
    "        max_depth=hp.Int(\"max_depth\", min_value=3, max_value=40, step=4),\n",
    "        categorical_algorithm=hp.Choice(\"categorical_algorithm\", [\"CART\", \"RANDOM\"]),\n",
    "        num_candidate_attributes_ratio=hp.Float(\"num_candidate_attributes_ratio\", min_value=0.2, max_value=0.99, step=0.1),\n",
    "        min_examples=hp.Int(\"min_examples\", min_value=2, max_value=24, step=2),\n",
    "        growing_strategy=\"LOCAL\",\n",
    "        honest=hp.Boolean(\"honest\"),\n",
    "        winner_take_all=hp.Boolean(\"winner_take_all\")\n",
    "    )\n",
    "    model.compile(metrics=[keras.metrics.AUC(multi_label=False)])\n",
    "    return model\n",
    "\n",
    "def build_model_gbt(hp):\n",
    "    model = tfdf.keras.GradientBoostedTreesModel(\n",
    "        max_depth=hp.Int(\"max_depth\", min_value=4, max_value=40, step=4),\n",
    "        # max_num_nodes=hp.Int(\"max_num_nodes\", min_value=16, max_value=256, step=16),\n",
    "        use_hessian_gain=hp.Boolean(\"use_hessian_gain\", default=False),\n",
    "        categorical_algorithm=hp.Choice(\"categorical_algorithm\", [\"CART\", \"RANDOM\"]),\n",
    "        shrinkage=hp.Float(\"shrinkage\", min_value=0.02, max_value=0.2, step=0.02),\n",
    "        num_candidate_attributes_ratio=hp.Float(\"num_candidate_attributes_ratio\", min_value=0.2, max_value=0.99, step=0.1),\n",
    "        min_examples=hp.Int(\"min_examples\", min_value=2, max_value=10, step=1),\n",
    "        growing_strategy=\"LOCAL\",\n",
    "        honest=True\n",
    "    )\n",
    "    model.compile(metrics=[\"accuracy\"])\n",
    "    return model\n",
    "\n",
    "\n",
    "\n",
    "\n",
    "params_v1 = {\n",
    "    \"random_seed\": 123456,\n",
    "    \"num_trees\": 500,\n",
    "    \"categorical_algorithm\": \"CART\",\n",
    "    \"compute_oob_performances\": True,\n",
    "    \"growing_strategy\": \"LOCAL\",\n",
    "    \"honest\": False,\n",
    "    \"max_depth\": 16,\n",
    "    \"max_num_nodes\": None\n",
    "}\n",
    "\n",
    "params_v2 = {\n",
    "    \"random_seed\": 123456,\n",
    "    \"num_trees\": 500,\n",
    "    \"categorical_algorithm\": \"CART\",\n",
    "    \"compute_oob_performances\": True,\n",
    "    \"growing_strategy\": \"LOCAL\",\n",
    "    \"honest\": True,\n",
    "    \"max_depth\": 32,\n",
    "    \"max_num_nodes\": None\n",
    "}\n",
    "\n",
    "params_v3 = {\n",
    "    \"random_seed\": 123456,\n",
    "    \"num_trees\": 500,\n",
    "    \"categorical_algorithm\": \"RANDOm\",\n",
    "    \"compute_oob_performances\": True,\n",
    "    \"growing_strategy\": \"BEST_FIRST_GLOBAL\",\n",
    "    \"honest\": False,\n",
    "    \"max_depth\": 16,\n",
    "    \"max_num_nodes\": 1000\n",
    "}"
   ],
   "metadata": {
    "collapsed": false,
    "pycharm": {
     "name": "#%%\n"
    }
   }
  },
  {
   "cell_type": "code",
   "execution_count": 19,
   "outputs": [
    {
     "data": {
      "text/plain": "<AxesSubplot:ylabel='Frequency'>"
     },
     "execution_count": 19,
     "metadata": {},
     "output_type": "execute_result"
    },
    {
     "data": {
      "text/plain": "<Figure size 432x288 with 1 Axes>",
      "image/png": "[encoded data removed]"
     },
     "metadata": {
      "needs_background": "light"
     },
     "output_type": "display_data"
    }
   ],
   "source": [
    "data = pd.read_csv(\"../data/processed/pbmc_hvg_12012_100.csv\", index_col=0)\n",
    "data\n",
    "data.iloc[:, 1:5].plot.hist(bins=30, alpha=0.3)"
   ],
   "metadata": {
    "collapsed": false,
    "pycharm": {
     "name": "#%%\n"
    }
   }
  },
  {
   "cell_type": "code",
   "execution_count": 23,
   "outputs": [],
   "source": [
    "data[\"cell_type\"] = [0 if y == \"singlet\" else (1 if y == \"hetero\" else 2) for y in data[\"cell_type\"]]"
   ],
   "metadata": {
    "collapsed": false,
    "pycharm": {
     "name": "#%%\n"
    }
   }
  },
  {
   "cell_type": "code",
   "execution_count": 25,
   "outputs": [
    {
     "data": {
      "text/plain": "0    11196\n1      455\n2      361\nName: cell_type, dtype: int64"
     },
     "execution_count": 25,
     "metadata": {},
     "output_type": "execute_result"
    }
   ],
   "source": [
    "data[\"cell_type\"].value_counts()"
   ],
   "metadata": {
    "collapsed": false,
    "pycharm": {
     "name": "#%%\n"
    }
   }
  },
  {
   "cell_type": "code",
   "execution_count": null,
   "outputs": [],
   "source": [],
   "metadata": {
    "collapsed": false,
    "pycharm": {
     "name": "#%%\n"
    }
   }
  },
  {
   "cell_type": "markdown",
   "source": [
    "### Trying hyperparameter tuning\n",
    "1. Load data"
   ],
   "metadata": {
    "collapsed": false,
    "pycharm": {
     "name": "#%% md\n"
    }
   }
  },
  {
   "cell_type": "code",
   "execution_count": 27,
   "outputs": [],
   "source": [
    "rf_models2 = RF(data, \"obs\", \"cell_type\")\n",
    "rf_models2.pre_process_data(standardize=True)"
   ],
   "metadata": {
    "collapsed": false,
    "pycharm": {
     "name": "#%%\n"
    }
   }
  },
  {
   "cell_type": "markdown",
   "source": [
    "### Pre-processing stuff\n",
    "\n",
    "1. calculating the class weights"
   ],
   "metadata": {
    "collapsed": false,
    "pycharm": {
     "name": "#%% md\n"
    }
   }
  },
  {
   "cell_type": "markdown",
   "source": [
    "Random Forest"
   ],
   "metadata": {
    "collapsed": false,
    "pycharm": {
     "name": "#%% md\n"
    }
   }
  },
  {
   "cell_type": "code",
   "execution_count": null,
   "outputs": [],
   "source": [],
   "metadata": {
    "collapsed": false,
    "pycharm": {
     "name": "#%%\n"
    }
   }
  },
  {
   "cell_type": "code",
   "execution_count": 28,
   "outputs": [
    {
     "name": "stdout",
     "output_type": "stream",
     "text": [
      "add_new_model:\n",
      "no parameters supplied, using default model\n",
      "default Random Forest model...\n",
      "Use /tmp/tmp9_bx1o41 as temporary training directory\n",
      "{0: 0.3578088578088578, 1: 8.68867924528302, 2: 11.096385542168674}\n",
      "         TGFBR3     FCRL1    FCGR3A   RALGPS2  AL136456.1      RHEX      RGS7  \\\n",
      "1     -0.385951 -0.334671 -0.367473 -0.480910   -0.209603 -0.219187 -0.170432   \n",
      "2     -0.385951 -0.334671 -0.367473 -0.480910   -0.209603 -0.219187 -0.170432   \n",
      "3     -0.385951 -0.334671 -0.367473 -0.480910   -0.209603 -0.219187 -0.170432   \n",
      "9      3.517347 -0.334671 -0.367473 -0.480910   -0.209603 -0.219187 -0.170432   \n",
      "10    -0.385951 -0.334671 -0.367473 -0.480910   -0.209603 -0.219187 -0.170432   \n",
      "...         ...       ...       ...       ...         ...       ...       ...   \n",
      "12005 -0.385951 -0.334671 -0.367473 -0.480910    3.055804 -0.219187 -0.170432   \n",
      "12006 -0.385951 -0.334671 -0.367473 -0.480910   -0.209603 -0.219187 -0.170432   \n",
      "12007 -0.385951 -0.334671 -0.367473 -0.480910   -0.209603 -0.219187 -0.170432   \n",
      "12009 -0.385951 -0.334671 -0.367473  1.304484   -0.209603 -0.219187 -0.170432   \n",
      "12011 -0.385951 -0.334671 -0.367473 -0.480910   -0.209603 -0.219187 -0.170432   \n",
      "\n",
      "           GNLY      AFF3      IL1B  ...     TSHZ2  AL109930.1     IGLC1  \\\n",
      "1     -0.442256  0.274519 -0.304124  ... -0.367348   -0.213972 -0.202418   \n",
      "2     -0.442256 -0.568946 -0.304124  ... -0.367348   -0.213972 -0.202418   \n",
      "3     -0.442256  1.027037 -0.304124  ... -0.367348   -0.213972 -0.202418   \n",
      "9      3.580000  0.652572 -0.304124  ... -0.367348   -0.213972 -0.202418   \n",
      "10    -0.442256 -0.568946 -0.304124  ... -0.367348   -0.213972 -0.202418   \n",
      "...         ...       ...       ...  ...       ...         ...       ...   \n",
      "12005 -0.442256 -0.568946 -0.304124  ...  1.364648    4.790543 -0.202418   \n",
      "12006 -0.442256 -0.568946 -0.304124  ... -0.367348   -0.213972 -0.202418   \n",
      "12007 -0.442256  1.400041 -0.304124  ...  1.830063   -0.213972 -0.202418   \n",
      "12009 -0.442256 -0.568946 -0.304124  ... -0.367348   -0.213972 -0.202418   \n",
      "12011 -0.442256 -0.568946 -0.304124  ... -0.367348   -0.213972 -0.202418   \n",
      "\n",
      "          IGLC2     IGLC3      SYN3  LARGE1  AC108879.1       EDA  cell_type  \n",
      "1     -0.383118 -0.258893 -0.154906 -0.2807     -0.1346 -0.211105          0  \n",
      "2     -0.383118 -0.258893 -0.154906 -0.2807     -0.1346 -0.211105          0  \n",
      "3     -0.383118 -0.258893 -0.154906 -0.2807     -0.1346 -0.211105          0  \n",
      "9     -0.383118 -0.258893 -0.154906 -0.2807     -0.1346 -0.211105          0  \n",
      "10    -0.383118 -0.258893 -0.154906 -0.2807     -0.1346 -0.211105          0  \n",
      "...         ...       ...       ...     ...         ...       ...        ...  \n",
      "12005  2.272012 -0.258893 -0.154906 -0.2807     -0.1346 -0.211105          0  \n",
      "12006 -0.383118 -0.258893 -0.154906 -0.2807     -0.1346 -0.211105          0  \n",
      "12007 -0.383118 -0.258893 -0.154906 -0.2807     -0.1346 -0.211105          0  \n",
      "12009 -0.383118 -0.258893 -0.154906 -0.2807     -0.1346 -0.211105          0  \n",
      "12011  2.179611 -0.258893 -0.154906 -0.2807     -0.1346 -0.211105          0  \n",
      "\n",
      "[8289 rows x 101 columns]\n",
      "Bayesian optimizer\n",
      "Use /tmp/tmp1vxf93cl as temporary training directory\n"
     ]
    },
    {
     "name": "stderr",
     "output_type": "stream",
     "text": [
      "/home/klumpi/Uni/courses/MLRegGenomics/doubletdetection/venv/lib/python3.8/site-packages/tensorflow_decision_forests/keras/core.py:2574: FutureWarning: In a future version of pandas all arguments of DataFrame.drop except for the argument 'labels' will be keyword-only.\n",
      "  features_dataframe = dataframe.drop(label, 1)\n",
      "/home/klumpi/Uni/courses/MLRegGenomics/doubletdetection/venv/lib/python3.8/site-packages/tensorflow_decision_forests/keras/core.py:2574: FutureWarning: In a future version of pandas all arguments of DataFrame.drop except for the argument 'labels' will be keyword-only.\n",
      "  features_dataframe = dataframe.drop(label, 1)\n"
     ]
    },
    {
     "name": "stdout",
     "output_type": "stream",
     "text": [
      "\n",
      "Search: Running Trial #1\n",
      "\n",
      "Value             |Best Value So Far |Hyperparameter\n",
      "700               |?                 |num_trees\n",
      "3                 |?                 |max_depth\n",
      "RANDOM            |?                 |categorical_algorithm\n",
      "0.8               |?                 |num_candidate_attributes_ratio\n",
      "2                 |?                 |min_examples\n",
      "True              |?                 |honest\n",
      "True              |?                 |winner_take_all\n",
      "\n",
      "Use /tmp/tmpnt0vnbur as temporary training directory\n",
      "Reading training dataset...\n",
      "Training dataset read in 0:00:01.587273. Found 8289 examples.\n",
      "Reading validation dataset...\n",
      "Num validation examples: tf.Tensor(3723, shape=(), dtype=int32)\n",
      "Validation dataset read in 0:00:00.953900. Found 3723 examples.\n",
      "Training model...\n",
      "Model trained in 0:00:01.915517\n",
      "Compiling model...\n"
     ]
    },
    {
     "name": "stderr",
     "output_type": "stream",
     "text": [
      "[INFO kernel.cc:1176] Loading model from path /tmp/tmpnt0vnbur/model/ with prefix 0fdf250ba8c94779\n",
      "[INFO abstract_model.cc:1248] Engine \"RandomForestGeneric\" built\n",
      "[INFO kernel.cc:1022] Use fast generic engine\n"
     ]
    },
    {
     "name": "stdout",
     "output_type": "stream",
     "text": [
      "Model compiled.\n"
     ]
    },
    {
     "ename": "ValueError",
     "evalue": "in user code:\n\n    File \"/home/klumpi/Uni/courses/MLRegGenomics/doubletdetection/venv/lib/python3.8/site-packages/tensorflow_decision_forests/keras/core.py\", line 802, in test_function  *\n        return step_function_trained(self, iterator)\n    File \"/home/klumpi/Uni/courses/MLRegGenomics/doubletdetection/venv/lib/python3.8/site-packages/tensorflow_decision_forests/keras/core.py\", line 784, in run_step  *\n        outputs = model.test_step(data)\n    File \"/home/klumpi/Uni/courses/MLRegGenomics/doubletdetection/venv/lib/python3.8/site-packages/keras/engine/training.py\", line 1502, in test_step  **\n        return self.compute_metrics(x, y, y_pred, sample_weight)\n    File \"/home/klumpi/Uni/courses/MLRegGenomics/doubletdetection/venv/lib/python3.8/site-packages/keras/engine/training.py\", line 987, in compute_metrics\n        self.compiled_metrics.update_state(y, y_pred, sample_weight)\n    File \"/home/klumpi/Uni/courses/MLRegGenomics/doubletdetection/venv/lib/python3.8/site-packages/keras/engine/compile_utils.py\", line 501, in update_state\n        metric_obj.update_state(y_t, y_p, sample_weight=mask)\n    File \"/home/klumpi/Uni/courses/MLRegGenomics/doubletdetection/venv/lib/python3.8/site-packages/keras/utils/metrics_utils.py\", line 70, in decorated\n        update_op = update_state_fn(*args, **kwargs)\n    File \"/home/klumpi/Uni/courses/MLRegGenomics/doubletdetection/venv/lib/python3.8/site-packages/keras/metrics/base_metric.py\", line 140, in update_state_fn\n        return ag_update_state(*args, **kwargs)\n    File \"/home/klumpi/Uni/courses/MLRegGenomics/doubletdetection/venv/lib/python3.8/site-packages/keras/metrics/metrics.py\", line 1759, in update_state  **\n        return metrics_utils.update_confusion_matrix_variables(\n    File \"/home/klumpi/Uni/courses/MLRegGenomics/doubletdetection/venv/lib/python3.8/site-packages/keras/utils/metrics_utils.py\", line 619, in update_confusion_matrix_variables\n        y_pred.shape.assert_is_compatible_with(y_true.shape)\n\n    ValueError: Shapes (None, 3) and (None, 1) are incompatible\n",
     "output_type": "error",
     "traceback": [
      "\u001B[0;31m---------------------------------------------------------------------------\u001B[0m",
      "\u001B[0;31mValueError\u001B[0m                                Traceback (most recent call last)",
      "Input \u001B[0;32mIn [28]\u001B[0m, in \u001B[0;36m<cell line: 2>\u001B[0;34m()\u001B[0m\n\u001B[1;32m      1\u001B[0m rf_models2\u001B[38;5;241m.\u001B[39madd_new_model(\u001B[38;5;124m\"\u001B[39m\u001B[38;5;124mpbmc_hvg_100_test\u001B[39m\u001B[38;5;124m\"\u001B[39m)\n\u001B[0;32m----> 2\u001B[0m \u001B[43mrf_models2\u001B[49m\u001B[38;5;241;43m.\u001B[39;49m\u001B[43mtune_model\u001B[49m\u001B[43m(\u001B[49m\u001B[38;5;124;43m\"\u001B[39;49m\u001B[38;5;124;43mpbmc_hvg_100_test\u001B[39;49m\u001B[38;5;124;43m\"\u001B[39;49m\u001B[43m,\u001B[49m\u001B[43m \u001B[49m\u001B[43mtuner\u001B[49m\u001B[38;5;241;43m=\u001B[39;49m\u001B[38;5;124;43m\"\u001B[39;49m\u001B[38;5;124;43mBayesian\u001B[39;49m\u001B[38;5;124;43m\"\u001B[39;49m\u001B[43m,\u001B[49m\u001B[43m \u001B[49m\u001B[43mmodel_type\u001B[49m\u001B[38;5;241;43m=\u001B[39;49m\u001B[38;5;124;43m\"\u001B[39;49m\u001B[38;5;124;43mRandomForest\u001B[39;49m\u001B[38;5;124;43m\"\u001B[39;49m\u001B[43m)\u001B[49m\n",
      "Input \u001B[0;32mIn [17]\u001B[0m, in \u001B[0;36mRF.tune_model\u001B[0;34m(self, model_name, tuner, use_class_weights, model_type)\u001B[0m\n\u001B[1;32m     96\u001B[0m     \u001B[38;5;28mprint\u001B[39m(\u001B[38;5;124m\"\u001B[39m\u001B[38;5;124mBayesian optimizer\u001B[39m\u001B[38;5;124m\"\u001B[39m)\n\u001B[1;32m     97\u001B[0m     tuner \u001B[38;5;241m=\u001B[39m kt\u001B[38;5;241m.\u001B[39mBayesianOptimization(\n\u001B[1;32m     98\u001B[0m         hypermodel\u001B[38;5;241m=\u001B[39mbuild_model,\n\u001B[1;32m     99\u001B[0m         objective\u001B[38;5;241m=\u001B[39m\u001B[38;5;124m\"\u001B[39m\u001B[38;5;124mval_accuracy\u001B[39m\u001B[38;5;124m\"\u001B[39m,\n\u001B[0;32m   (...)\u001B[0m\n\u001B[1;32m    103\u001B[0m         project_name\u001B[38;5;241m=\u001B[39m\u001B[38;5;124mf\u001B[39m\u001B[38;5;124m\"\u001B[39m\u001B[38;5;132;01m{\u001B[39;00mmodel_name\u001B[38;5;132;01m}\u001B[39;00m\u001B[38;5;124m_\u001B[39m\u001B[38;5;132;01m{\u001B[39;00mmodel_type\u001B[38;5;132;01m}\u001B[39;00m\u001B[38;5;124m_bayesian_tuned\u001B[39m\u001B[38;5;124m\"\u001B[39m\n\u001B[1;32m    104\u001B[0m     )\n\u001B[0;32m--> 106\u001B[0m \u001B[43mtuner\u001B[49m\u001B[38;5;241;43m.\u001B[39;49m\u001B[43msearch\u001B[49m\u001B[43m(\u001B[49m\u001B[38;5;28;43mself\u001B[39;49m\u001B[38;5;241;43m.\u001B[39;49m\u001B[43mtrain_ds\u001B[49m\u001B[43m,\u001B[49m\n\u001B[1;32m    107\u001B[0m \u001B[43m             \u001B[49m\u001B[43mvalidation_data\u001B[49m\u001B[38;5;241;43m=\u001B[39;49m\u001B[38;5;28;43mself\u001B[39;49m\u001B[38;5;241;43m.\u001B[39;49m\u001B[43mtest_ds\u001B[49m\u001B[43m,\u001B[49m\n\u001B[1;32m    108\u001B[0m \u001B[43m             \u001B[49m\u001B[43mepochs\u001B[49m\u001B[38;5;241;43m=\u001B[39;49m\u001B[38;5;241;43m1\u001B[39;49m\u001B[43m,\u001B[49m\n\u001B[1;32m    109\u001B[0m \u001B[43m             \u001B[49m\u001B[43mcallbacks\u001B[49m\u001B[38;5;241;43m=\u001B[39;49m\u001B[43m[\u001B[49m\u001B[43mkeras\u001B[49m\u001B[38;5;241;43m.\u001B[39;49m\u001B[43mcallbacks\u001B[49m\u001B[38;5;241;43m.\u001B[39;49m\u001B[43mEarlyStopping\u001B[49m\u001B[43m(\u001B[49m\u001B[43mpatience\u001B[49m\u001B[38;5;241;43m=\u001B[39;49m\u001B[38;5;241;43m1\u001B[39;49m\u001B[43m)\u001B[49m\u001B[43m,\u001B[49m\n\u001B[1;32m    110\u001B[0m \u001B[43m                        \u001B[49m\u001B[43mkeras\u001B[49m\u001B[38;5;241;43m.\u001B[39;49m\u001B[43mcallbacks\u001B[49m\u001B[38;5;241;43m.\u001B[39;49m\u001B[43mTensorBoard\u001B[49m\u001B[43m(\u001B[49m\u001B[38;5;124;43mf\u001B[39;49m\u001B[38;5;124;43m\"\u001B[39;49m\u001B[38;5;124;43m../results/Callbacks/\u001B[39;49m\u001B[38;5;132;43;01m{\u001B[39;49;00m\u001B[43mmodel_name\u001B[49m\u001B[38;5;132;43;01m}\u001B[39;49;00m\u001B[38;5;124;43m_\u001B[39;49m\u001B[38;5;132;43;01m{\u001B[39;49;00m\u001B[43mmodel_type\u001B[49m\u001B[38;5;132;43;01m}\u001B[39;49;00m\u001B[38;5;124;43m\"\u001B[39;49m\u001B[43m)\u001B[49m\u001B[43m]\u001B[49m\u001B[43m,\u001B[49m\n\u001B[1;32m    111\u001B[0m \u001B[43m             \u001B[49m\u001B[43mclass_weight\u001B[49m\u001B[38;5;241;43m=\u001B[39;49m\u001B[38;5;28;43mself\u001B[39;49m\u001B[38;5;241;43m.\u001B[39;49m\u001B[43mclass_weights\u001B[49m\u001B[43m)\u001B[49m\n\u001B[1;32m    116\u001B[0m \u001B[38;5;28mprint\u001B[39m(\u001B[38;5;124m\"\u001B[39m\u001B[38;5;124mTuning done.\u001B[39m\u001B[38;5;124m\"\u001B[39m)\n\u001B[1;32m    117\u001B[0m \u001B[38;5;28mprint\u001B[39m(\u001B[38;5;124m\"\u001B[39m\u001B[38;5;124mBest model: \u001B[39m\u001B[38;5;124m\"\u001B[39m)\n",
      "File \u001B[0;32m~/Uni/courses/MLRegGenomics/doubletdetection/venv/lib/python3.8/site-packages/keras_tuner/engine/base_tuner.py:183\u001B[0m, in \u001B[0;36mBaseTuner.search\u001B[0;34m(self, *fit_args, **fit_kwargs)\u001B[0m\n\u001B[1;32m    180\u001B[0m     \u001B[38;5;28;01mcontinue\u001B[39;00m\n\u001B[1;32m    182\u001B[0m \u001B[38;5;28mself\u001B[39m\u001B[38;5;241m.\u001B[39mon_trial_begin(trial)\n\u001B[0;32m--> 183\u001B[0m results \u001B[38;5;241m=\u001B[39m \u001B[38;5;28;43mself\u001B[39;49m\u001B[38;5;241;43m.\u001B[39;49m\u001B[43mrun_trial\u001B[49m\u001B[43m(\u001B[49m\u001B[43mtrial\u001B[49m\u001B[43m,\u001B[49m\u001B[43m \u001B[49m\u001B[38;5;241;43m*\u001B[39;49m\u001B[43mfit_args\u001B[49m\u001B[43m,\u001B[49m\u001B[43m \u001B[49m\u001B[38;5;241;43m*\u001B[39;49m\u001B[38;5;241;43m*\u001B[39;49m\u001B[43mfit_kwargs\u001B[49m\u001B[43m)\u001B[49m\n\u001B[1;32m    184\u001B[0m \u001B[38;5;66;03m# `results` is None indicates user updated oracle in `run_trial()`.\u001B[39;00m\n\u001B[1;32m    185\u001B[0m \u001B[38;5;28;01mif\u001B[39;00m results \u001B[38;5;129;01mis\u001B[39;00m \u001B[38;5;28;01mNone\u001B[39;00m:\n",
      "File \u001B[0;32m~/Uni/courses/MLRegGenomics/doubletdetection/venv/lib/python3.8/site-packages/keras_tuner/engine/tuner.py:295\u001B[0m, in \u001B[0;36mTuner.run_trial\u001B[0;34m(self, trial, *args, **kwargs)\u001B[0m\n\u001B[1;32m    293\u001B[0m     callbacks\u001B[38;5;241m.\u001B[39mappend(model_checkpoint)\n\u001B[1;32m    294\u001B[0m     copied_kwargs[\u001B[38;5;124m\"\u001B[39m\u001B[38;5;124mcallbacks\u001B[39m\u001B[38;5;124m\"\u001B[39m] \u001B[38;5;241m=\u001B[39m callbacks\n\u001B[0;32m--> 295\u001B[0m     obj_value \u001B[38;5;241m=\u001B[39m \u001B[38;5;28;43mself\u001B[39;49m\u001B[38;5;241;43m.\u001B[39;49m\u001B[43m_build_and_fit_model\u001B[49m\u001B[43m(\u001B[49m\u001B[43mtrial\u001B[49m\u001B[43m,\u001B[49m\u001B[43m \u001B[49m\u001B[38;5;241;43m*\u001B[39;49m\u001B[43margs\u001B[49m\u001B[43m,\u001B[49m\u001B[43m \u001B[49m\u001B[38;5;241;43m*\u001B[39;49m\u001B[38;5;241;43m*\u001B[39;49m\u001B[43mcopied_kwargs\u001B[49m\u001B[43m)\u001B[49m\n\u001B[1;32m    297\u001B[0m     histories\u001B[38;5;241m.\u001B[39mappend(obj_value)\n\u001B[1;32m    298\u001B[0m \u001B[38;5;28;01mreturn\u001B[39;00m histories\n",
      "File \u001B[0;32m~/Uni/courses/MLRegGenomics/doubletdetection/venv/lib/python3.8/site-packages/keras_tuner/engine/tuner.py:222\u001B[0m, in \u001B[0;36mTuner._build_and_fit_model\u001B[0;34m(self, trial, *args, **kwargs)\u001B[0m\n\u001B[1;32m    220\u001B[0m hp \u001B[38;5;241m=\u001B[39m trial\u001B[38;5;241m.\u001B[39mhyperparameters\n\u001B[1;32m    221\u001B[0m model \u001B[38;5;241m=\u001B[39m \u001B[38;5;28mself\u001B[39m\u001B[38;5;241m.\u001B[39m_try_build(hp)\n\u001B[0;32m--> 222\u001B[0m results \u001B[38;5;241m=\u001B[39m \u001B[38;5;28;43mself\u001B[39;49m\u001B[38;5;241;43m.\u001B[39;49m\u001B[43mhypermodel\u001B[49m\u001B[38;5;241;43m.\u001B[39;49m\u001B[43mfit\u001B[49m\u001B[43m(\u001B[49m\u001B[43mhp\u001B[49m\u001B[43m,\u001B[49m\u001B[43m \u001B[49m\u001B[43mmodel\u001B[49m\u001B[43m,\u001B[49m\u001B[43m \u001B[49m\u001B[38;5;241;43m*\u001B[39;49m\u001B[43margs\u001B[49m\u001B[43m,\u001B[49m\u001B[43m \u001B[49m\u001B[38;5;241;43m*\u001B[39;49m\u001B[38;5;241;43m*\u001B[39;49m\u001B[43mkwargs\u001B[49m\u001B[43m)\u001B[49m\n\u001B[1;32m    223\u001B[0m tuner_utils\u001B[38;5;241m.\u001B[39mvalidate_trial_results(\n\u001B[1;32m    224\u001B[0m     results, \u001B[38;5;28mself\u001B[39m\u001B[38;5;241m.\u001B[39moracle\u001B[38;5;241m.\u001B[39mobjective, \u001B[38;5;124m\"\u001B[39m\u001B[38;5;124mHyperModel.fit()\u001B[39m\u001B[38;5;124m\"\u001B[39m\n\u001B[1;32m    225\u001B[0m )\n\u001B[1;32m    226\u001B[0m \u001B[38;5;28;01mreturn\u001B[39;00m results\n",
      "File \u001B[0;32m~/Uni/courses/MLRegGenomics/doubletdetection/venv/lib/python3.8/site-packages/keras_tuner/engine/hypermodel.py:140\u001B[0m, in \u001B[0;36mHyperModel.fit\u001B[0;34m(self, hp, model, *args, **kwargs)\u001B[0m\n\u001B[1;32m    116\u001B[0m \u001B[38;5;28;01mdef\u001B[39;00m \u001B[38;5;21mfit\u001B[39m(\u001B[38;5;28mself\u001B[39m, hp, model, \u001B[38;5;241m*\u001B[39margs, \u001B[38;5;241m*\u001B[39m\u001B[38;5;241m*\u001B[39mkwargs):\n\u001B[1;32m    117\u001B[0m     \u001B[38;5;124;03m\"\"\"Train the model.\u001B[39;00m\n\u001B[1;32m    118\u001B[0m \n\u001B[1;32m    119\u001B[0m \u001B[38;5;124;03m    Args:\u001B[39;00m\n\u001B[0;32m   (...)\u001B[0m\n\u001B[1;32m    138\u001B[0m \u001B[38;5;124;03m        If return a float, it should be the `objective` value.\u001B[39;00m\n\u001B[1;32m    139\u001B[0m \u001B[38;5;124;03m    \"\"\"\u001B[39;00m\n\u001B[0;32m--> 140\u001B[0m     \u001B[38;5;28;01mreturn\u001B[39;00m \u001B[43mmodel\u001B[49m\u001B[38;5;241;43m.\u001B[39;49m\u001B[43mfit\u001B[49m\u001B[43m(\u001B[49m\u001B[38;5;241;43m*\u001B[39;49m\u001B[43margs\u001B[49m\u001B[43m,\u001B[49m\u001B[43m \u001B[49m\u001B[38;5;241;43m*\u001B[39;49m\u001B[38;5;241;43m*\u001B[39;49m\u001B[43mkwargs\u001B[49m\u001B[43m)\u001B[49m\n",
      "File \u001B[0;32m~/Uni/courses/MLRegGenomics/doubletdetection/venv/lib/python3.8/site-packages/tensorflow_decision_forests/keras/core.py:1526\u001B[0m, in \u001B[0;36mCoreModel.fit\u001B[0;34m(self, x, y, callbacks, verbose, validation_steps, validation_data, sample_weight, steps_per_epoch, class_weight, **kwargs)\u001B[0m\n\u001B[1;32m   1523\u001B[0m \u001B[38;5;66;03m# Reset the training status.\u001B[39;00m\n\u001B[1;32m   1524\u001B[0m \u001B[38;5;28mself\u001B[39m\u001B[38;5;241m.\u001B[39m_is_trained\u001B[38;5;241m.\u001B[39massign(\u001B[38;5;28;01mFalse\u001B[39;00m)\n\u001B[0;32m-> 1526\u001B[0m \u001B[38;5;28;01mreturn\u001B[39;00m \u001B[38;5;28;43mself\u001B[39;49m\u001B[38;5;241;43m.\u001B[39;49m\u001B[43m_fit_implementation\u001B[49m\u001B[43m(\u001B[49m\n\u001B[1;32m   1527\u001B[0m \u001B[43m    \u001B[49m\u001B[43mx\u001B[49m\u001B[38;5;241;43m=\u001B[39;49m\u001B[43mx\u001B[49m\u001B[43m,\u001B[49m\n\u001B[1;32m   1528\u001B[0m \u001B[43m    \u001B[49m\u001B[43my\u001B[49m\u001B[38;5;241;43m=\u001B[39;49m\u001B[43my\u001B[49m\u001B[43m,\u001B[49m\n\u001B[1;32m   1529\u001B[0m \u001B[43m    \u001B[49m\u001B[43mcallbacks\u001B[49m\u001B[38;5;241;43m=\u001B[39;49m\u001B[43mcallbacks\u001B[49m\u001B[43m,\u001B[49m\n\u001B[1;32m   1530\u001B[0m \u001B[43m    \u001B[49m\u001B[43mverbose\u001B[49m\u001B[38;5;241;43m=\u001B[39;49m\u001B[43mverbose\u001B[49m\u001B[43m,\u001B[49m\n\u001B[1;32m   1531\u001B[0m \u001B[43m    \u001B[49m\u001B[43mvalidation_steps\u001B[49m\u001B[38;5;241;43m=\u001B[39;49m\u001B[43mvalidation_steps\u001B[49m\u001B[43m,\u001B[49m\n\u001B[1;32m   1532\u001B[0m \u001B[43m    \u001B[49m\u001B[43mvalidation_data\u001B[49m\u001B[38;5;241;43m=\u001B[39;49m\u001B[43mvalidation_data\u001B[49m\u001B[43m,\u001B[49m\n\u001B[1;32m   1533\u001B[0m \u001B[43m    \u001B[49m\u001B[43msample_weight\u001B[49m\u001B[38;5;241;43m=\u001B[39;49m\u001B[43msample_weight\u001B[49m\u001B[43m,\u001B[49m\n\u001B[1;32m   1534\u001B[0m \u001B[43m    \u001B[49m\u001B[43msteps_per_epoch\u001B[49m\u001B[38;5;241;43m=\u001B[39;49m\u001B[43msteps_per_epoch\u001B[49m\u001B[43m,\u001B[49m\n\u001B[1;32m   1535\u001B[0m \u001B[43m    \u001B[49m\u001B[43mclass_weight\u001B[49m\u001B[38;5;241;43m=\u001B[39;49m\u001B[43mclass_weight\u001B[49m\u001B[43m)\u001B[49m\n",
      "File \u001B[0;32m~/Uni/courses/MLRegGenomics/doubletdetection/venv/lib/python3.8/site-packages/tensorflow_decision_forests/keras/core.py:1870\u001B[0m, in \u001B[0;36mCoreModel._fit_implementation\u001B[0;34m(self, x, y, verbose, callbacks, sample_weight, validation_data, validation_steps, steps_per_epoch, class_weight)\u001B[0m\n\u001B[1;32m   1859\u001B[0m \u001B[38;5;66;03m# Evaluate the model using Keras\u001B[39;00m\n\u001B[1;32m   1860\u001B[0m \u001B[38;5;28;01mif\u001B[39;00m (validation_data \u001B[38;5;129;01mis\u001B[39;00m \u001B[38;5;129;01mnot\u001B[39;00m \u001B[38;5;28;01mNone\u001B[39;00m \u001B[38;5;129;01mand\u001B[39;00m\n\u001B[1;32m   1861\u001B[0m     \u001B[38;5;129;01mnot\u001B[39;00m \u001B[38;5;28mself\u001B[39m\u001B[38;5;241m.\u001B[39m_advanced_arguments\u001B[38;5;241m.\u001B[39mpopulate_history_with_yggdrasil_logs):\n\u001B[1;32m   1862\u001B[0m   \u001B[38;5;66;03m# Note: the \"validation_data_handler\" is exausted and cannot be reused\u001B[39;00m\n\u001B[0;32m   (...)\u001B[0m\n\u001B[1;32m   1868\u001B[0m \n\u001B[1;32m   1869\u001B[0m   \u001B[38;5;66;03m# Evaluate the model using Keras metrics.\u001B[39;00m\n\u001B[0;32m-> 1870\u001B[0m   val_logs \u001B[38;5;241m=\u001B[39m \u001B[38;5;28;43mself\u001B[39;49m\u001B[38;5;241;43m.\u001B[39;49m\u001B[43mevaluate\u001B[49m\u001B[43m(\u001B[49m\n\u001B[1;32m   1871\u001B[0m \u001B[43m      \u001B[49m\u001B[43mx\u001B[49m\u001B[38;5;241;43m=\u001B[39;49m\u001B[43mval_x\u001B[49m\u001B[43m,\u001B[49m\n\u001B[1;32m   1872\u001B[0m \u001B[43m      \u001B[49m\u001B[43my\u001B[49m\u001B[38;5;241;43m=\u001B[39;49m\u001B[43mval_y\u001B[49m\u001B[43m,\u001B[49m\n\u001B[1;32m   1873\u001B[0m \u001B[43m      \u001B[49m\u001B[43mverbose\u001B[49m\u001B[38;5;241;43m=\u001B[39;49m\u001B[38;5;124;43m\"\u001B[39;49m\u001B[38;5;124;43mauto\u001B[39;49m\u001B[38;5;124;43m\"\u001B[39;49m\u001B[43m \u001B[49m\u001B[38;5;28;43;01mif\u001B[39;49;00m\u001B[43m \u001B[49m\u001B[38;5;28;43mself\u001B[39;49m\u001B[38;5;241;43m.\u001B[39;49m\u001B[43m_verbose\u001B[49m\u001B[43m \u001B[49m\u001B[38;5;241;43m>\u001B[39;49m\u001B[43m \u001B[49m\u001B[38;5;241;43m0\u001B[39;49m\u001B[43m \u001B[49m\u001B[38;5;28;43;01melse\u001B[39;49;00m\u001B[43m \u001B[49m\u001B[38;5;241;43m0\u001B[39;49m\u001B[43m,\u001B[49m\n\u001B[1;32m   1874\u001B[0m \u001B[43m      \u001B[49m\u001B[43msample_weight\u001B[49m\u001B[38;5;241;43m=\u001B[39;49m\u001B[43mval_sample_weight\u001B[49m\u001B[43m,\u001B[49m\n\u001B[1;32m   1875\u001B[0m \u001B[43m      \u001B[49m\u001B[43mreturn_dict\u001B[49m\u001B[38;5;241;43m=\u001B[39;49m\u001B[38;5;28;43;01mTrue\u001B[39;49;00m\u001B[43m,\u001B[49m\n\u001B[1;32m   1876\u001B[0m \u001B[43m      \u001B[49m\u001B[43msteps\u001B[49m\u001B[38;5;241;43m=\u001B[39;49m\u001B[43mvalidation_steps\u001B[49m\u001B[43m,\u001B[49m\n\u001B[1;32m   1877\u001B[0m \u001B[43m      \u001B[49m\u001B[43mcallbacks\u001B[49m\u001B[38;5;241;43m=\u001B[39;49m\u001B[43mcallbacks\u001B[49m\u001B[43m)\u001B[49m\n\u001B[1;32m   1879\u001B[0m   val_logs \u001B[38;5;241m=\u001B[39m {\u001B[38;5;124m\"\u001B[39m\u001B[38;5;124mval_\u001B[39m\u001B[38;5;124m\"\u001B[39m \u001B[38;5;241m+\u001B[39m name: val \u001B[38;5;28;01mfor\u001B[39;00m name, val \u001B[38;5;129;01min\u001B[39;00m val_logs\u001B[38;5;241m.\u001B[39mitems()}\n\u001B[1;32m   1880\u001B[0m   callbacks\u001B[38;5;241m.\u001B[39mon_epoch_end(\u001B[38;5;241m0\u001B[39m, val_logs)\n",
      "File \u001B[0;32m~/Uni/courses/MLRegGenomics/doubletdetection/venv/lib/python3.8/site-packages/keras/utils/traceback_utils.py:67\u001B[0m, in \u001B[0;36mfilter_traceback.<locals>.error_handler\u001B[0;34m(*args, **kwargs)\u001B[0m\n\u001B[1;32m     65\u001B[0m \u001B[38;5;28;01mexcept\u001B[39;00m \u001B[38;5;167;01mException\u001B[39;00m \u001B[38;5;28;01mas\u001B[39;00m e:  \u001B[38;5;66;03m# pylint: disable=broad-except\u001B[39;00m\n\u001B[1;32m     66\u001B[0m   filtered_tb \u001B[38;5;241m=\u001B[39m _process_traceback_frames(e\u001B[38;5;241m.\u001B[39m__traceback__)\n\u001B[0;32m---> 67\u001B[0m   \u001B[38;5;28;01mraise\u001B[39;00m e\u001B[38;5;241m.\u001B[39mwith_traceback(filtered_tb) \u001B[38;5;28;01mfrom\u001B[39;00m \u001B[38;5;28mNone\u001B[39m\n\u001B[1;32m     68\u001B[0m \u001B[38;5;28;01mfinally\u001B[39;00m:\n\u001B[1;32m     69\u001B[0m   \u001B[38;5;28;01mdel\u001B[39;00m filtered_tb\n",
      "File \u001B[0;32m/tmp/__autograph_generated_filegwrr3b0b.py:16\u001B[0m, in \u001B[0;36mouter_factory.<locals>.inner_factory.<locals>.tf__test_function\u001B[0;34m(iterator)\u001B[0m\n\u001B[1;32m     14\u001B[0m \u001B[38;5;28;01mtry\u001B[39;00m:\n\u001B[1;32m     15\u001B[0m     do_return \u001B[38;5;241m=\u001B[39m \u001B[38;5;28;01mTrue\u001B[39;00m\n\u001B[0;32m---> 16\u001B[0m     retval_ \u001B[38;5;241m=\u001B[39m ag__\u001B[38;5;241m.\u001B[39mconverted_call(ag__\u001B[38;5;241m.\u001B[39mld(step_function_trained), (ag__\u001B[38;5;241m.\u001B[39mld(\u001B[38;5;28mself\u001B[39m), ag__\u001B[38;5;241m.\u001B[39mld(iterator)), \u001B[38;5;28;01mNone\u001B[39;00m, fscope)\n\u001B[1;32m     17\u001B[0m \u001B[38;5;28;01mexcept\u001B[39;00m:\n\u001B[1;32m     18\u001B[0m     do_return \u001B[38;5;241m=\u001B[39m \u001B[38;5;28;01mFalse\u001B[39;00m\n",
      "File \u001B[0;32m/tmp/__autograph_generated_filepvr37f57.py:30\u001B[0m, in \u001B[0;36mouter_factory.<locals>.inner_factory.<locals>.tf__step_function_trained\u001B[0;34m(model, iterator)\u001B[0m\n\u001B[1;32m     28\u001B[0m         \u001B[38;5;28;01mreturn\u001B[39;00m fscope_1\u001B[38;5;241m.\u001B[39mret(retval__1, do_return_1)\n\u001B[1;32m     29\u001B[0m data \u001B[38;5;241m=\u001B[39m ag__\u001B[38;5;241m.\u001B[39mconverted_call(ag__\u001B[38;5;241m.\u001B[39mld(\u001B[38;5;28mnext\u001B[39m), (ag__\u001B[38;5;241m.\u001B[39mld(iterator),), \u001B[38;5;28;01mNone\u001B[39;00m, fscope)\n\u001B[0;32m---> 30\u001B[0m outputs \u001B[38;5;241m=\u001B[39m ag__\u001B[38;5;241m.\u001B[39mconverted_call(ag__\u001B[38;5;241m.\u001B[39mld(model)\u001B[38;5;241m.\u001B[39mdistribute_strategy\u001B[38;5;241m.\u001B[39mrun, (ag__\u001B[38;5;241m.\u001B[39mld(run_step),), \u001B[38;5;28mdict\u001B[39m(args\u001B[38;5;241m=\u001B[39m(ag__\u001B[38;5;241m.\u001B[39mld(data),)), fscope)\n\u001B[1;32m     31\u001B[0m outputs \u001B[38;5;241m=\u001B[39m ag__\u001B[38;5;241m.\u001B[39mconverted_call(ag__\u001B[38;5;241m.\u001B[39mld(_reduce_per_replica), (ag__\u001B[38;5;241m.\u001B[39mld(outputs), ag__\u001B[38;5;241m.\u001B[39mld(\u001B[38;5;28mself\u001B[39m)\u001B[38;5;241m.\u001B[39mdistribute_strategy), \u001B[38;5;28mdict\u001B[39m(reduction\u001B[38;5;241m=\u001B[39m\u001B[38;5;124m'\u001B[39m\u001B[38;5;124mfirst\u001B[39m\u001B[38;5;124m'\u001B[39m), fscope)\n\u001B[1;32m     32\u001B[0m \u001B[38;5;28;01mtry\u001B[39;00m:\n",
      "File \u001B[0;32m/tmp/__autograph_generated_filepvr37f57.py:19\u001B[0m, in \u001B[0;36mouter_factory.<locals>.inner_factory.<locals>.tf__step_function_trained.<locals>.run_step\u001B[0;34m(data)\u001B[0m\n\u001B[1;32m     17\u001B[0m do_return_1 \u001B[38;5;241m=\u001B[39m \u001B[38;5;28;01mFalse\u001B[39;00m\n\u001B[1;32m     18\u001B[0m retval__1 \u001B[38;5;241m=\u001B[39m ag__\u001B[38;5;241m.\u001B[39mUndefinedReturnValue()\n\u001B[0;32m---> 19\u001B[0m outputs \u001B[38;5;241m=\u001B[39m ag__\u001B[38;5;241m.\u001B[39mconverted_call(ag__\u001B[38;5;241m.\u001B[39mld(model)\u001B[38;5;241m.\u001B[39mtest_step, (ag__\u001B[38;5;241m.\u001B[39mld(data),), \u001B[38;5;28;01mNone\u001B[39;00m, fscope_1)\n\u001B[1;32m     20\u001B[0m \u001B[38;5;28;01mwith\u001B[39;00m ag__\u001B[38;5;241m.\u001B[39mld(tf)\u001B[38;5;241m.\u001B[39mcontrol_dependencies(ag__\u001B[38;5;241m.\u001B[39mld(_minimum_control_deps)(ag__\u001B[38;5;241m.\u001B[39mld(outputs))):\n\u001B[1;32m     21\u001B[0m     ag__\u001B[38;5;241m.\u001B[39mconverted_call(ag__\u001B[38;5;241m.\u001B[39mld(model)\u001B[38;5;241m.\u001B[39m_test_counter\u001B[38;5;241m.\u001B[39massign_add, (\u001B[38;5;241m1\u001B[39m,), \u001B[38;5;28;01mNone\u001B[39;00m, fscope_1)\n",
      "\u001B[0;31mValueError\u001B[0m: in user code:\n\n    File \"/home/klumpi/Uni/courses/MLRegGenomics/doubletdetection/venv/lib/python3.8/site-packages/tensorflow_decision_forests/keras/core.py\", line 802, in test_function  *\n        return step_function_trained(self, iterator)\n    File \"/home/klumpi/Uni/courses/MLRegGenomics/doubletdetection/venv/lib/python3.8/site-packages/tensorflow_decision_forests/keras/core.py\", line 784, in run_step  *\n        outputs = model.test_step(data)\n    File \"/home/klumpi/Uni/courses/MLRegGenomics/doubletdetection/venv/lib/python3.8/site-packages/keras/engine/training.py\", line 1502, in test_step  **\n        return self.compute_metrics(x, y, y_pred, sample_weight)\n    File \"/home/klumpi/Uni/courses/MLRegGenomics/doubletdetection/venv/lib/python3.8/site-packages/keras/engine/training.py\", line 987, in compute_metrics\n        self.compiled_metrics.update_state(y, y_pred, sample_weight)\n    File \"/home/klumpi/Uni/courses/MLRegGenomics/doubletdetection/venv/lib/python3.8/site-packages/keras/engine/compile_utils.py\", line 501, in update_state\n        metric_obj.update_state(y_t, y_p, sample_weight=mask)\n    File \"/home/klumpi/Uni/courses/MLRegGenomics/doubletdetection/venv/lib/python3.8/site-packages/keras/utils/metrics_utils.py\", line 70, in decorated\n        update_op = update_state_fn(*args, **kwargs)\n    File \"/home/klumpi/Uni/courses/MLRegGenomics/doubletdetection/venv/lib/python3.8/site-packages/keras/metrics/base_metric.py\", line 140, in update_state_fn\n        return ag_update_state(*args, **kwargs)\n    File \"/home/klumpi/Uni/courses/MLRegGenomics/doubletdetection/venv/lib/python3.8/site-packages/keras/metrics/metrics.py\", line 1759, in update_state  **\n        return metrics_utils.update_confusion_matrix_variables(\n    File \"/home/klumpi/Uni/courses/MLRegGenomics/doubletdetection/venv/lib/python3.8/site-packages/keras/utils/metrics_utils.py\", line 619, in update_confusion_matrix_variables\n        y_pred.shape.assert_is_compatible_with(y_true.shape)\n\n    ValueError: Shapes (None, 3) and (None, 1) are incompatible\n"
     ]
    }
   ],
   "source": [
    "rf_models2.add_new_model(\"pbmc_hvg_100_test\")\n",
    "rf_models2.tune_model(\"pbmc_hvg_100_test\", tuner=\"Bayesian\", model_type=\"RandomForest\")"
   ],
   "metadata": {
    "collapsed": false,
    "pycharm": {
     "name": "#%%\n"
    }
   }
  },
  {
   "cell_type": "code",
   "execution_count": 2,
   "outputs": [
    {
     "name": "stderr",
     "output_type": "stream",
     "text": [
      "2022-07-24 23:27:22.895039: I tensorflow/core/util/util.cc:169] oneDNN custom operations are on. You may see slightly different numerical results due to floating-point round-off errors from different computation orders. To turn them off, set the environment variable `TF_ENABLE_ONEDNN_OPTS=0`.\n",
      "2022-07-24 23:27:22.925431: W tensorflow/stream_executor/platform/default/dso_loader.cc:64] Could not load dynamic library 'libcudart.so.11.0'; dlerror: libcudart.so.11.0: cannot open shared object file: No such file or directory\n",
      "2022-07-24 23:27:22.925447: I tensorflow/stream_executor/cuda/cudart_stub.cc:29] Ignore above cudart dlerror if you do not have a GPU set up on your machine.\n"
     ]
    }
   ],
   "source": [
    "import keras"
   ],
   "metadata": {
    "collapsed": false,
    "pycharm": {
     "name": "#%%\n"
    }
   }
  },
  {
   "cell_type": "code",
   "execution_count": 6,
   "outputs": [
    {
     "ename": "OSError",
     "evalue": "No file or directory found at /tmp/tmp7ljjrjvd/",
     "output_type": "error",
     "traceback": [
      "\u001B[0;31m---------------------------------------------------------------------------\u001B[0m",
      "\u001B[0;31mOSError\u001B[0m                                   Traceback (most recent call last)",
      "Input \u001B[0;32mIn [6]\u001B[0m, in \u001B[0;36m<cell line: 1>\u001B[0;34m()\u001B[0m\n\u001B[0;32m----> 1\u001B[0m model \u001B[38;5;241m=\u001B[39m \u001B[43mkeras\u001B[49m\u001B[38;5;241;43m.\u001B[39;49m\u001B[43mmodels\u001B[49m\u001B[38;5;241;43m.\u001B[39;49m\u001B[43mload_model\u001B[49m\u001B[43m(\u001B[49m\u001B[38;5;124;43m\"\u001B[39;49m\u001B[38;5;124;43m/tmp/tmp7ljjrjvd/\u001B[39;49m\u001B[38;5;124;43m\"\u001B[39;49m\u001B[43m)\u001B[49m\n",
      "File \u001B[0;32m~/Uni/courses/MLRegGenomics/doubletdetection/venv/lib/python3.8/site-packages/keras/utils/traceback_utils.py:67\u001B[0m, in \u001B[0;36mfilter_traceback.<locals>.error_handler\u001B[0;34m(*args, **kwargs)\u001B[0m\n\u001B[1;32m     65\u001B[0m \u001B[38;5;28;01mexcept\u001B[39;00m \u001B[38;5;167;01mException\u001B[39;00m \u001B[38;5;28;01mas\u001B[39;00m e:  \u001B[38;5;66;03m# pylint: disable=broad-except\u001B[39;00m\n\u001B[1;32m     66\u001B[0m   filtered_tb \u001B[38;5;241m=\u001B[39m _process_traceback_frames(e\u001B[38;5;241m.\u001B[39m__traceback__)\n\u001B[0;32m---> 67\u001B[0m   \u001B[38;5;28;01mraise\u001B[39;00m e\u001B[38;5;241m.\u001B[39mwith_traceback(filtered_tb) \u001B[38;5;28;01mfrom\u001B[39;00m \u001B[38;5;28mNone\u001B[39m\n\u001B[1;32m     68\u001B[0m \u001B[38;5;28;01mfinally\u001B[39;00m:\n\u001B[1;32m     69\u001B[0m   \u001B[38;5;28;01mdel\u001B[39;00m filtered_tb\n",
      "File \u001B[0;32m~/Uni/courses/MLRegGenomics/doubletdetection/venv/lib/python3.8/site-packages/keras/saving/save.py:206\u001B[0m, in \u001B[0;36mload_model\u001B[0;34m(filepath, custom_objects, compile, options)\u001B[0m\n\u001B[1;32m    204\u001B[0m \u001B[38;5;28;01mif\u001B[39;00m \u001B[38;5;28misinstance\u001B[39m(filepath_str, \u001B[38;5;28mstr\u001B[39m):\n\u001B[1;32m    205\u001B[0m   \u001B[38;5;28;01mif\u001B[39;00m \u001B[38;5;129;01mnot\u001B[39;00m tf\u001B[38;5;241m.\u001B[39mio\u001B[38;5;241m.\u001B[39mgfile\u001B[38;5;241m.\u001B[39mexists(filepath_str):\n\u001B[0;32m--> 206\u001B[0m     \u001B[38;5;28;01mraise\u001B[39;00m \u001B[38;5;167;01mIOError\u001B[39;00m(\u001B[38;5;124mf\u001B[39m\u001B[38;5;124m'\u001B[39m\u001B[38;5;124mNo file or directory found at \u001B[39m\u001B[38;5;132;01m{\u001B[39;00mfilepath_str\u001B[38;5;132;01m}\u001B[39;00m\u001B[38;5;124m'\u001B[39m)\n\u001B[1;32m    208\u001B[0m   \u001B[38;5;28;01mif\u001B[39;00m tf\u001B[38;5;241m.\u001B[39mio\u001B[38;5;241m.\u001B[39mgfile\u001B[38;5;241m.\u001B[39misdir(filepath_str):\n\u001B[1;32m    209\u001B[0m     \u001B[38;5;28;01mreturn\u001B[39;00m saved_model_load\u001B[38;5;241m.\u001B[39mload(filepath_str, \u001B[38;5;28mcompile\u001B[39m, options)\n",
      "\u001B[0;31mOSError\u001B[0m: No file or directory found at /tmp/tmp7ljjrjvd/"
     ]
    }
   ],
   "source": [
    "model = keras.models.load_model(\"/tmp/tmp7ljjrjvd/\")"
   ],
   "metadata": {
    "collapsed": false,
    "pycharm": {
     "name": "#%%\n"
    }
   }
  },
  {
   "cell_type": "code",
   "execution_count": 21,
   "outputs": [],
   "source": [
    "rf_models2.test_set.to_csv(\"../models/main_rf_preprocessed_50_RandomForest/test_set.csv\")"
   ],
   "metadata": {
    "collapsed": false,
    "pycharm": {
     "name": "#%%\n"
    }
   }
  },
  {
   "cell_type": "code",
   "execution_count": 18,
   "outputs": [
    {
     "data": {
      "text/plain": "<Figure size 432x288 with 1 Axes>",
      "image/png": "[encoded data removed]"
     },
     "metadata": {
      "needs_background": "light"
     },
     "output_type": "display_data"
    }
   ],
   "source": [
    "model = rf_models2.models[\"main_rf\"]\n",
    "homo = model[\"prediction\"]\n",
    "ax = homo.plot.hist(bins=30, alpha=0.5)"
   ],
   "metadata": {
    "collapsed": false,
    "pycharm": {
     "name": "#%%\n"
    }
   }
  },
  {
   "cell_type": "markdown",
   "source": [
    "Gradient Boosted Trees"
   ],
   "metadata": {
    "collapsed": false,
    "pycharm": {
     "name": "#%% md\n"
    }
   }
  },
  {
   "cell_type": "code",
   "execution_count": null,
   "outputs": [
    {
     "name": "stdout",
     "output_type": "stream",
     "text": [
      "Trial 4 Complete [00h 00m 38s]\n",
      "val_accuracy: 0.9368652105331421\n",
      "\n",
      "Best val_accuracy So Far: 0.9437276721000671\n",
      "Total elapsed time: 00h 04m 16s\n",
      "\n",
      "Search: Running Trial #5\n",
      "\n",
      "Value             |Best Value So Far |Hyperparameter\n",
      "40                |40                |max_depth\n",
      "False             |False             |use_hessian_gain\n",
      "CART              |CART              |categorical_algorithm\n",
      "0.02              |0.02              |shrinkage\n",
      "1                 |0.2               |num_candidate_attributes_ratio\n",
      "10                |10                |min_examples\n",
      "\n",
      "Use /tmp/tmprozoovl_ as temporary training directory\n",
      "Reading training dataset...\n",
      "Training dataset read in 0:00:06.819157. Found 8369 examples.\n",
      "Reading validation dataset...\n"
     ]
    }
   ],
   "source": [
    "rf_models2.add_new_model(\"main_rf_reprocessed_gbt\")\n",
    "rf_models2.tune_model(\"main_rf_reprocessed_gbt\", tuner=\"Bayesian\", model_type=\"GradientBoostedTrees\")"
   ],
   "metadata": {
    "collapsed": false,
    "pycharm": {
     "name": "#%%\n",
     "is_executing": true
    }
   }
  },
  {
   "cell_type": "code",
   "execution_count": 2,
   "outputs": [
    {
     "ename": "NameError",
     "evalue": "name 'rf_model2' is not defined",
     "output_type": "error",
     "traceback": [
      "\u001B[0;31m---------------------------------------------------------------------------\u001B[0m",
      "\u001B[0;31mNameError\u001B[0m                                 Traceback (most recent call last)",
      "Input \u001B[0;32mIn [2]\u001B[0m, in \u001B[0;36m<cell line: 1>\u001B[0;34m()\u001B[0m\n\u001B[0;32m----> 1\u001B[0m \u001B[43mrf_model2\u001B[49m\n",
      "\u001B[0;31mNameError\u001B[0m: name 'rf_model2' is not defined"
     ]
    }
   ],
   "source": [
    "rf_model2"
   ],
   "metadata": {
    "collapsed": false,
    "pycharm": {
     "name": "#%%\n"
    }
   }
  },
  {
   "cell_type": "code",
   "execution_count": null,
   "outputs": [],
   "source": [
    "best_params = rf_models2.models[\"hp_tuning_random_search\"][\"tuner\"].get_best_hyperparameters()[0]\n",
    "best_model = build_model(best_params)\n",
    "best_model.fit(rf_models2.train_ds)\n"
   ],
   "metadata": {
    "collapsed": false,
    "pycharm": {
     "name": "#%%\n"
    }
   }
  },
  {
   "cell_type": "code",
   "execution_count": 24,
   "outputs": [
    {
     "name": "stdout",
     "output_type": "stream",
     "text": [
      "4/4 [==============================] - 2s 231ms/step\n",
      "------------------------\n",
      "test class distribution: \n",
      "singlet    3401\n",
      "hetero      140\n",
      "homo        104\n",
      "Name: cell_type, dtype: int64\n",
      "\n",
      "prediction class distribution:\n",
      "singlet    3607\n",
      "hetero       38\n",
      "Name: prediction, dtype: int64\n"
     ]
    },
    {
     "data": {
      "text/plain": "<Figure size 360x360 with 2 Axes>",
      "image/png": "[encoded data removed]"
     },
     "metadata": {
      "needs_background": "light"
     },
     "output_type": "display_data"
    }
   ],
   "source": [
    "prediction = best_model.predict(rf_models2.test_ds)\n",
    "prediction = pd.DataFrame(prediction)\n",
    "prediction.columns = [\"hetero\", \"homo\", \"singlet\"]\n",
    "prediction[\"prediction\"] = prediction.apply(lambda row: rf_models2.class_checker(row), axis=1)\n",
    "\n",
    "print(\"------------------------\")\n",
    "print(f\"test class distribution: \\n\"\n",
    "      f\"{rf_models2.test_set['cell_type'].value_counts()}\\n\"\n",
    "      f\"\\n\"\n",
    "      f\"prediction class distribution:\\n\"\n",
    "      f\"{prediction['prediction'].value_counts()}\")\n",
    "\n",
    "rf_models2.plot_cm(rf_models2.test_set[\"cell_type\"], prediction[\"prediction\"])"
   ],
   "metadata": {
    "collapsed": false,
    "pycharm": {
     "name": "#%%\n"
    }
   }
  },
  {
   "cell_type": "code",
   "execution_count": 17,
   "outputs": [
    {
     "ename": "AttributeError",
     "evalue": "'RandomForestModel' object has no attribute 'get_best_models'",
     "output_type": "error",
     "traceback": [
      "\u001B[0;31m---------------------------------------------------------------------------\u001B[0m",
      "\u001B[0;31mAttributeError\u001B[0m                            Traceback (most recent call last)",
      "Input \u001B[0;32mIn [17]\u001B[0m, in \u001B[0;36m<cell line: 1>\u001B[0;34m()\u001B[0m\n\u001B[0;32m----> 1\u001B[0m \u001B[43mmod\u001B[49m\u001B[38;5;241;43m.\u001B[39;49m\u001B[43mget_best_models\u001B[49m\n",
      "\u001B[0;31mAttributeError\u001B[0m: 'RandomForestModel' object has no attribute 'get_best_models'"
     ]
    }
   ],
   "source": [
    "mod.get_best_models"
   ],
   "metadata": {
    "collapsed": false,
    "pycharm": {
     "name": "#%%\n"
    }
   }
  },
  {
   "cell_type": "code",
   "execution_count": 18,
   "outputs": [],
   "source": [
    "best_params = rf_models2.models[\"hp_tuning_random_search\"][\"tuner\"].get_best_hyperparameters()[0]"
   ],
   "metadata": {
    "collapsed": false,
    "pycharm": {
     "name": "#%%\n"
    }
   }
  },
  {
   "cell_type": "code",
   "execution_count": 11,
   "outputs": [
    {
     "ename": "AttributeError",
     "evalue": "'RandomForestModel' object has no attribute 'get_best_models'",
     "output_type": "error",
     "traceback": [
      "\u001B[0;31m---------------------------------------------------------------------------\u001B[0m",
      "\u001B[0;31mAttributeError\u001B[0m                            Traceback (most recent call last)",
      "Input \u001B[0;32mIn [11]\u001B[0m, in \u001B[0;36m<cell line: 1>\u001B[0;34m()\u001B[0m\n\u001B[0;32m----> 1\u001B[0m best \u001B[38;5;241m=\u001B[39m \u001B[43mmod\u001B[49m\u001B[38;5;241;43m.\u001B[39;49m\u001B[43mget_best_models\u001B[49m(\u001B[38;5;241m1\u001B[39m)[\u001B[38;5;241m0\u001B[39m]\n",
      "\u001B[0;31mAttributeError\u001B[0m: 'RandomForestModel' object has no attribute 'get_best_models'"
     ]
    }
   ],
   "source": [
    "best = mod.get_best_models(1)[0]"
   ],
   "metadata": {
    "collapsed": false,
    "pycharm": {
     "name": "#%%\n"
    }
   }
  },
  {
   "cell_type": "code",
   "execution_count": 12,
   "outputs": [
    {
     "data": {
      "text/plain": "<tensorflow_decision_forests.keras.RandomForestModel at 0x7fccaebdd940>"
     },
     "execution_count": 12,
     "metadata": {},
     "output_type": "execute_result"
    }
   ],
   "source": [
    "best"
   ],
   "metadata": {
    "collapsed": false,
    "pycharm": {
     "name": "#%%\n"
    }
   }
  },
  {
   "cell_type": "code",
   "execution_count": null,
   "outputs": [],
   "source": [
    "best."
   ],
   "metadata": {
    "collapsed": false,
    "pycharm": {
     "name": "#%%\n"
    }
   }
  },
  {
   "cell_type": "code",
   "execution_count": 122,
   "outputs": [
    {
     "name": "stderr",
     "output_type": "stream",
     "text": [
      "/home/klumpi/Uni/courses/MLRegGenomics/doubletdetection/venv/lib/python3.8/site-packages/tensorflow_decision_forests/keras/core.py:2574: FutureWarning: In a future version of pandas all arguments of DataFrame.drop except for the argument 'labels' will be keyword-only.\n",
      "  features_dataframe = dataframe.drop(label, 1)\n",
      "/home/klumpi/Uni/courses/MLRegGenomics/doubletdetection/venv/lib/python3.8/site-packages/tensorflow_decision_forests/keras/core.py:2574: FutureWarning: In a future version of pandas all arguments of DataFrame.drop except for the argument 'labels' will be keyword-only.\n",
      "  features_dataframe = dataframe.drop(label, 1)\n"
     ]
    },
    {
     "name": "stdout",
     "output_type": "stream",
     "text": [
      "add_new_model:\n",
      "train\n",
      "parameter supplied\n",
      "Random Forest model...\n",
      "Use /tmp/tmp4ldtanc_ as temporary training directory\n",
      "{'adapt_bootstrap_size_ratio_for_maximum_training_duration': False, 'allow_na_conditions': False, 'bootstrap_size_ratio': 1.0, 'bootstrap_training_dataset': True, 'categorical_algorithm': 'RANDOM', 'categorical_set_split_greedy_sampling': 0.1, 'categorical_set_split_max_num_items': -1, 'categorical_set_split_min_item_frequency': 1, 'compute_oob_performances': True, 'compute_oob_variable_importances': False, 'growing_strategy': 'BEST_FIRST_GLOBAL', 'honest': False, 'honest_fixed_separation': False, 'honest_ratio_leaf_examples': 0.5, 'in_split_min_examples_check': True, 'keep_non_leaf_label_distribution': True, 'max_depth': 16, 'max_num_nodes': 1000, 'maximum_model_size_in_memory_in_bytes': -1.0, 'maximum_training_duration_seconds': -1.0, 'min_examples': 5, 'missing_value_policy': 'GLOBAL_IMPUTATION', 'num_candidate_attributes': 0, 'num_candidate_attributes_ratio': -1.0, 'num_oob_variable_importances_permutations': 1, 'num_trees': 500, 'pure_serving_model': False, 'random_seed': 123456, 'sampling_with_replacement': True, 'sorting_strategy': 'PRESORT', 'sparse_oblique_normalization': None, 'sparse_oblique_num_projections_exponent': None, 'sparse_oblique_projection_density_factor': None, 'sparse_oblique_weights': None, 'split_axis': 'AXIS_ALIGNED', 'uplift_min_examples_in_treatment': 5, 'uplift_split_score': 'KULLBACK_LEIBLER', 'winner_take_all': True}\n",
      "model_4 added\n"
     ]
    }
   ],
   "source": [
    "rf_models.add_new_model(model_name=\"model_4\", params=params_v3)"
   ],
   "metadata": {
    "collapsed": false,
    "pycharm": {
     "name": "#%%\n"
    }
   }
  },
  {
   "cell_type": "code",
   "execution_count": 123,
   "outputs": [
    {
     "name": "stdout",
     "output_type": "stream",
     "text": [
      "training model: model_4\n"
     ]
    },
    {
     "name": "stderr",
     "output_type": "stream",
     "text": [
      "[INFO kernel.cc:1176] Loading model from path /tmp/tmp4ldtanc_/model/ with prefix 9d85e10b50254b38\n",
      "[INFO abstract_model.cc:1248] Engine \"RandomForestGeneric\" built\n",
      "[INFO kernel.cc:1022] Use fast generic engine\n"
     ]
    },
    {
     "name": "stdout",
     "output_type": "stream",
     "text": [
      "compiling model\n"
     ]
    }
   ],
   "source": [
    "rf_models.train_model(\"model_4\")"
   ],
   "metadata": {
    "collapsed": false,
    "pycharm": {
     "name": "#%%\n"
    }
   }
  },
  {
   "cell_type": "code",
   "execution_count": 124,
   "outputs": [
    {
     "name": "stdout",
     "output_type": "stream",
     "text": [
      "4/4 [==============================] - 3s 428ms/step\n",
      "------------------------\n",
      "test class distribution: \n",
      "singlet    3363\n",
      "hetero      128\n",
      "homo        114\n",
      "Name: cell_type, dtype: int64\n",
      "\n",
      "prediction class distribution:\n",
      "singlet    3527\n",
      "hetero       77\n",
      "homo          1\n",
      "Name: prediction, dtype: int64\n"
     ]
    },
    {
     "data": {
      "text/plain": "<Figure size 360x360 with 2 Axes>",
      "image/png": "[encoded data removed]"
     },
     "metadata": {
      "needs_background": "light"
     },
     "output_type": "display_data"
    }
   ],
   "source": [
    "pred = rf_models.predict(\"model_4\")"
   ],
   "metadata": {
    "collapsed": false,
    "pycharm": {
     "name": "#%%\n"
    }
   }
  },
  {
   "cell_type": "code",
   "execution_count": 7,
   "outputs": [],
   "source": [
    "def filter_uniform_cols(data):\n",
    "    nunique = data.nunique()\n",
    "    to_drop = nunique[nunique == 1].index\n",
    "    data.drop(to_drop, axis=1, inplace=True)\n",
    "    return data"
   ],
   "metadata": {
    "collapsed": false,
    "pycharm": {
     "name": "#%%\n"
    }
   }
  }
 ],
 "metadata": {
  "kernelspec": {
   "display_name": "Python 3",
   "language": "python",
   "name": "python3"
  },
  "language_info": {
   "codemirror_mode": {
    "name": "ipython",
    "version": 2
   },
   "file_extension": ".py",
   "mimetype": "text/x-python",
   "name": "python",
   "nbconvert_exporter": "python",
   "pygments_lexer": "ipython2",
   "version": "2.7.6"
  }
 },
 "nbformat": 4,
 "nbformat_minor": 0
}